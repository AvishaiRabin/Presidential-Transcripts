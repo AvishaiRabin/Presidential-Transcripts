{
 "cells": [
  {
   "cell_type": "markdown",
   "metadata": {},
   "source": [
    "## Functions to generalise findings. "
   ]
  },
  {
   "cell_type": "code",
   "execution_count": null,
   "metadata": {
    "collapsed": true
   },
   "outputs": [],
   "source": [
    "def doc_category(text):\n",
    "    example = re.findall('Statement'|'Letter'|'Proclamation'|'Memorandum'|'Remark'|'Address'|'Executive Order'|'News Conference', text)\n",
    "    d = {}\n",
    "    for i in range(len(example)):\n",
    "        if example[i] not in d.keys():\n",
    "            d[example[i]] = 1\n",
    "        else:\n",
    "            d[example[i]] = d[example[i]]+1\n",
    "    return max(d.keys(), key=lambda x: d[x])\n",
    "            "
   ]
  },
  {
   "cell_type": "code",
   "execution_count": null,
   "metadata": {
    "collapsed": true
   },
   "outputs": [],
   "source": []
  }
 ],
 "metadata": {
  "kernelspec": {
   "display_name": "Python 3",
   "language": "python",
   "name": "python3"
  },
  "language_info": {
   "codemirror_mode": {
    "name": "ipython",
    "version": 3
   },
   "file_extension": ".py",
   "mimetype": "text/x-python",
   "name": "python",
   "nbconvert_exporter": "python",
   "pygments_lexer": "ipython3",
   "version": "3.6.1"
  }
 },
 "nbformat": 4,
 "nbformat_minor": 2
}
