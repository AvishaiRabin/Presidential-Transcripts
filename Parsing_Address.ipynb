{
 "cells": [
  {
   "cell_type": "code",
   "execution_count": 49,
   "metadata": {
    "collapsed": true
   },
   "outputs": [],
   "source": [
    "from bs4 import BeautifulSoup\n",
    "import re"
   ]
  },
  {
   "cell_type": "markdown",
   "metadata": {},
   "source": [
    "* **Administration**\n",
    "* **Date**\n",
    "* **Note**\n",
    "* **Categories**\n",
    "* **Locations**\n",
    "* **Names**\n",
    "* **Subjects**\n",
    "* **DCPD Number**\n"
   ]
  },
  {
   "cell_type": "code",
   "execution_count": 75,
   "metadata": {},
   "outputs": [
    {
     "name": "stdout",
     "output_type": "stream",
     "text": [
      "<mods xmlns:xlink=\"http://www.w3.org/1999/xlink\" xmlns:xsi=\"http://www.w3.org/2001/XMLSchema-instance\" xmlns=\"http://www.loc.gov/mods/v3\" version=\"3.3\" xsi:schemaLocation=\"http://www.loc.gov/mods/v3 http://www.loc.gov/standards/mods/v3/mods-3-3.xsd\" ID=\"P0b002ee1980b8d82\">\n",
      "<name type=\"corporate\" xmlns:exslt=\"http://exslt.org/common\">\n",
      " <namePart>United States Government Publishing Office</namePart>\n",
      " <role>\n",
      "  <roleTerm authority=\"marcrelator\" type=\"text\">publisher</roleTerm>\n",
      "  <roleTerm authority=\"marcrelator\" type=\"code\">pbl</roleTerm>\n",
      "</role>\n",
      " <role>\n",
      "  <roleTerm authority=\"marcrelator\" type=\"text\">distributor</roleTerm>\n",
      "  <roleTerm authority=\"marcrelator\" type=\"code\">dst</roleTerm>\n",
      "</role>\n",
      "</name>\n",
      "<name type=\"corporate\" xmlns:exslt=\"http://exslt.org/common\">\n",
      " <namePart>United States</namePart>\n",
      " <namePart>National Archives and Records Administration</namePart>\n",
      " <namePart>Office of the Federal Register</namePart>\n",
      " <role>\n",
      "  <roleTerm authority=\"marcrelator\" type=\"text\">author</roleTerm>\n",
      "  <roleTerm authority=\"marcrelator\" type=\"code\">aut</roleTerm>\n",
      "</role>\n",
      " <description>Government Organization</description>\n",
      "</name>\n",
      "<typeOfResource>text</typeOfResource>\n",
      "<genre authority=\"marcgt\">government publication</genre>\n",
      "<language xmlns:exslt=\"http://exslt.org/common\">\n",
      " <languageTerm type=\"code\" authority=\"iso639-2b\">eng</languageTerm>\n",
      "</language>\n",
      "<extension xmlns:exslt=\"http://exslt.org/common\">\n",
      " <collectionCode>DCPD</collectionCode>\n",
      " <category>Budget and Presidential Materials</category>\n",
      " <branch>executive</branch>\n",
      " <dateIngested>2018-01-19</dateIngested>\n",
      "</extension>\n",
      "<name type=\"corporate\">\n",
      " <namePart>United States</namePart>\n",
      " <namePart>Executive Office of the President</namePart>\n",
      " <role>\n",
      "  <roleTerm authority=\"marcrelator\" type=\"text\">originator</roleTerm>\n",
      "  <roleTerm authority=\"marcrelator\" type=\"code\">org</roleTerm>\n",
      "</role>\n",
      " <description>United States Government Agency</description>\n",
      "</name>\n",
      "<name type=\"personal\">\n",
      " <namePart>Donald J. Trump</namePart>\n",
      " <role>\n",
      "  <roleTerm authority=\"marcrelator\" type=\"text\">originator</roleTerm>\n",
      "  <roleTerm authority=\"marcrelator\" type=\"code\">org</roleTerm>\n",
      "</role>\n",
      " <description>President of the United States</description>\n",
      "</name>\n",
      "<titleInfo>\n",
      " <title>Remarks During a Meeting With Republican Senators on Immigration Reform and an Exchange With Reporters</title>\n",
      "</titleInfo>\n",
      "<location xmlns:exslt=\"http://exslt.org/common\">\n",
      " <url displayLabel=\"Content Detail\" access=\"object in context\">https://www.gpo.gov/fdsys/pkg/DCPD-201800006/content-detail.html</url>\n",
      " <url displayLabel=\"HTML rendition\" access=\"raw object\">https://www.gpo.gov/fdsys/pkg/DCPD-201800006/html/DCPD-201800006.htm</url>\n",
      " <url displayLabel=\"PDF rendition\" access=\"raw object\">https://www.gpo.gov/fdsys/pkg/DCPD-201800006/pdf/DCPD-201800006.pdf</url>\n",
      "</location>\n",
      "<identifier type=\"preferred citation\">DCPD-201800006</identifier>\n",
      "<note>The President spoke at 11:34 a.m. in the Roosevelt Room at the White House. In his remarks, he referred to Stephen &quot;Michael&quot; Garland, a U.S. Customs and Border Patrol agent who was injured in an ambush attack in Van Horn, TX, on November 18; White House Chief of Staff John F. Kelly, in his former capacity as Secretary of Homeland Security. Sen. Graham referred to former Presidents Barrack Obama and George W. Bush.</note>\n",
      "<subject>\n",
      " <topic>Congress:Bipartisanship</topic>\n",
      " <topic>Congress:Members, meetings with President</topic>\n",
      " <topic>Drug abuse and trafficking:Illegal drugs, interdiction efforts</topic>\n",
      " <topic>Drug abuse and trafficking:Opioid epidemic, efforts to combat</topic>\n",
      " <topic>Economy, national:Improvement</topic>\n",
      " <topic>Homeland Security, Department of:Customs and Border Protection, U.S</topic>\n",
      " <topic>Homeland Security, Department of:Immigration and Customs Enforcement, U.S</topic>\n",
      " <topic>Homeland Security, Department of:Secretary</topic>\n",
      " <topic>Immigration and naturalization:Deferred Action for Childhood Arrivals (DACA) policy, review</topic>\n",
      " <topic>Immigration and naturalization:Illegal immigration</topic>\n",
      " <topic>Immigration and naturalization:Reform</topic>\n",
      " <topic>Legislation, enacted:Tax reform legislation</topic>\n",
      " <topic>Mexico:Border with U.S., infrastructure and security</topic>\n",
      " <topic>New York:New York City::Terrorist attacks</topic>\n",
      " <topic>White House Office:Assistants to the President::Chief of Staff</topic>\n",
      " <topic>White House Office:Vice President</topic>\n",
      " <geographic>\n",
      "                    Washington, DC\n",
      "                    38.89511180\n",
      "                    -77.03636580\n",
      "                </geographic>\n",
      " <name>\n",
      "  <namePart>Bannon, Stephen K.</namePart>\n",
      "</name>\n",
      " <name>\n",
      "  <namePart>Cornyn, John, III</namePart>\n",
      "</name>\n",
      " <name>\n",
      "  <namePart>Cotton, Thomas B.</namePart>\n",
      "</name>\n",
      " <name>\n",
      "  <namePart>Garland, Stephen &quot;Michael&quot;</namePart>\n",
      "</name>\n",
      " <name>\n",
      "  <namePart>Graham, Lindsey O.</namePart>\n",
      "</name>\n",
      " <name>\n",
      "  <namePart>Grassley, Charles E.</namePart>\n",
      "</name>\n",
      " <name>\n",
      "  <namePart>Kelly, John F.</namePart>\n",
      "</name>\n",
      " <name>\n",
      "  <namePart>Lankford, James P.</namePart>\n",
      "</name>\n",
      " <name>\n",
      "  <namePart>Nielsen, Kirstjen M.</namePart>\n",
      "</name>\n",
      " <name>\n",
      "  <namePart>Pence, Michael R.</namePart>\n",
      "</name>\n",
      " <name>\n",
      "  <namePart>Perdue, David A., Jr.</namePart>\n",
      "</name>\n",
      " <name>\n",
      "  <namePart>Tillis, Thomas R.</namePart>\n",
      "</name>\n",
      "</subject>\n",
      "<extension>\n",
      " <searchTitle>Remarks During a Meeting With Republican Senators on Immigration Reform and an Exchange With Reporters;DCPD-201800006</searchTitle>\n",
      "</extension>\n",
      "<originInfo xmlns:exslt=\"http://exslt.org/common\">\n",
      " <publisher>Office of the Federal Register, National Archives and Records Administration</publisher>\n",
      " <dateIssued encoding=\"w3cdtf\">2018-01-04</dateIssued>\n",
      " <issuance>continuing</issuance>\n",
      " <frequency authority=\"marcfrequency\">daily</frequency>\n",
      "</originInfo>\n",
      "<physicalDescription xmlns:exslt=\"http://exslt.org/common\">\n",
      " <note type=\"source content type\">deposited</note>\n",
      " <digitalOrigin>born digital</digitalOrigin>\n",
      " <extent>6 p.</extent>\n",
      "</physicalDescription>\n",
      "<classification authority=\"sudocs\"></classification>\n",
      "<classification authority=\"lcs\"></classification>\n",
      "<identifier type=\"uri\" xmlns:exslt=\"http://exslt.org/common\">https://www.gpo.gov/fdsys/pkg/DCPD-201800006</identifier>\n",
      "<identifier type=\"local\" xmlns:exslt=\"http://exslt.org/common\">P0b002ee1980b8d82</identifier>\n",
      "<identifier type=\"ILS system id\" xmlns:exslt=\"http://exslt.org/common\">000599742</identifier>\n",
      "<identifier type=\"Child ILS system id\" xmlns:exslt=\"http://exslt.org/common\">000599742</identifier>\n",
      "<recordInfo xmlns:exslt=\"http://exslt.org/common\">\n",
      " <recordContentSource authority=\"marcorg\">DGPO</recordContentSource>\n",
      " <recordCreationDate encoding=\"w3cdtf\">2018-01-19</recordCreationDate>\n",
      " <recordChangeDate encoding=\"w3cdtf\">2018-01-19</recordChangeDate>\n",
      " <recordIdentifier source=\"DGPO\">DCPD-201800006</recordIdentifier>\n",
      " <recordOrigin>machine generated</recordOrigin>\n",
      " <languageOfCataloging>\n",
      "  <languageTerm type=\"code\" authority=\"iso639-2b\">eng</languageTerm>\n",
      "</languageOfCataloging>\n",
      "</recordInfo>\n",
      "<accessCondition type=\"GPO scope determination\" xmlns:exslt=\"http://exslt.org/common\">fdlp</accessCondition>\n",
      "<extension xmlns:exslt=\"http://exslt.org/common\">\n",
      " <docClass>PRESDOC</docClass>\n",
      " <dcpdCategory>\n",
      "                      <level1>Addresses and Remarks</level1>\n",
      "                      <level2>Immigration reform, meeting with Republican Senators</level2>\n",
      "                </dcpdCategory>\n",
      " <dcpdCategory>\n",
      "                      <level1>Interviews With the News Media</level1>\n",
      "                      <level2>Exchanges with reporters</level2>\n",
      "                </dcpdCategory>\n",
      " <location>\n",
      "                      <name>Washington, DC</name>\n",
      "                      <latitude>38.89511180</latitude>\n",
      "                      <longitude>-77.03636580</longitude>\n",
      "                </location>\n",
      " <name>Bannon, Stephen K.</name>\n",
      " <name>Cornyn, John, III</name>\n",
      " <name>Cotton, Thomas B.</name>\n",
      " <name>Garland, Stephen &quot;Michael&quot;</name>\n",
      " <name>Graham, Lindsey O.</name>\n",
      " <name>Grassley, Charles E.</name>\n",
      " <name>Kelly, John F.</name>\n",
      " <name>Lankford, James P.</name>\n",
      " <name>Nielsen, Kirstjen M.</name>\n",
      " <name>Pence, Michael R.</name>\n",
      " <name>Perdue, David A., Jr.</name>\n",
      " <name>Tillis, Thomas R.</name>\n",
      " <subject>\n",
      "                      <level1>Congress</level1>\n",
      "                      <level2>Bipartisanship</level2>\n",
      "                </subject>\n",
      " <subject>\n",
      "                      <level1>Congress</level1>\n",
      "                      <level2>Members, meetings with President</level2>\n",
      "                </subject>\n",
      " <subject>\n",
      "                      <level1>Drug abuse and trafficking</level1>\n",
      "                      <level2>Illegal drugs, interdiction efforts</level2>\n",
      "                </subject>\n",
      " <subject>\n",
      "                      <level1>Drug abuse and trafficking</level1>\n",
      "                      <level2>Opioid epidemic, efforts to combat</level2>\n",
      "                </subject>\n",
      " <subject>\n",
      "                      <level1>Economy, national</level1>\n",
      "                      <level2>Improvement</level2>\n",
      "                </subject>\n",
      " <subject>\n",
      "                      <level1>Homeland Security, Department of</level1>\n",
      "                      <level2>Customs and Border Protection, U.S</level2>\n",
      "                </subject>\n",
      " <subject>\n",
      "                      <level1>Homeland Security, Department of</level1>\n",
      "                      <level2>Immigration and Customs Enforcement, U.S</level2>\n",
      "                </subject>\n",
      " <subject>\n",
      "                      <level1>Homeland Security, Department of</level1>\n",
      "                      <level2>Secretary</level2>\n",
      "                </subject>\n",
      " <subject>\n",
      "                      <level1>Immigration and naturalization</level1>\n",
      "                      <level2>Deferred Action for Childhood Arrivals (DACA) policy, review</level2>\n",
      "                </subject>\n",
      " <subject>\n",
      "                      <level1>Immigration and naturalization</level1>\n",
      "                      <level2>Illegal immigration</level2>\n",
      "                </subject>\n",
      " <subject>\n",
      "                      <level1>Immigration and naturalization</level1>\n",
      "                      <level2>Reform</level2>\n",
      "                </subject>\n",
      " <subject>\n",
      "                      <level1>Legislation, enacted</level1>\n",
      "                      <level2>Tax reform legislation</level2>\n",
      "                </subject>\n",
      " <subject>\n",
      "                      <level1>Mexico</level1>\n",
      "                      <level2>Border with U.S., infrastructure and security</level2>\n",
      "                </subject>\n",
      " <subject>\n",
      "                      <level1>New York</level1>\n",
      "                      <level2>New York City</level2>\n",
      "                      <level3>Terrorist attacks</level3>\n",
      "                </subject>\n",
      " <subject>\n",
      "                      <level1>White House Office</level1>\n",
      "                      <level2>Assistants to the President</level2>\n",
      "                      <level3>Chief of Staff</level3>\n",
      "                </subject>\n",
      " <subject>\n",
      "                      <level1>White House Office</level1>\n",
      "                      <level2>Vice President</level2>\n",
      "                </subject>\n",
      " <notes>The President spoke at 11:34 a.m. in the Roosevelt Room at the White House. In his remarks, he referred to Stephen &quot;Michael&quot; Garland, a U.S. Customs and Border Patrol agent who was injured in an ambush attack in Van Horn, TX, on November 18; White House Chief of Staff John F. Kelly, in his former capacity as Secretary of Homeland Security. Sen. Graham referred to former Presidents Barrack Obama and George W. Bush.</notes>\n",
      " <accessId>DCPD-201800006</accessId>\n",
      " <president id=\"DJT\" party=\"R\">\n",
      "                      <name type=\"authority-lnf\">Trump, Donald J.</name>\n",
      "                      <name type=\"authority-fnf\">Donald J. Trump</name>\n",
      "                      <name type=\"authority-other\">Donald Trump</name>\n",
      "                      <name type=\"authority-other\">Donald John Trump</name>\n",
      "                </president>\n",
      "</extension>\n",
      "</mods>\n"
     ]
    }
   ],
   "source": [
    "file_name =  './letter_sample_xml_files/address1.xml'\n",
    "with open(file_name, \"r\") as f:\n",
    "    text = f.read()\n",
    "print(text)"
   ]
  },
  {
   "cell_type": "markdown",
   "metadata": {},
   "source": [
    "## Administration --> Only Borrowed From Pooja"
   ]
  },
  {
   "cell_type": "code",
   "execution_count": 77,
   "metadata": {},
   "outputs": [
    {
     "data": {
      "text/plain": [
       "'Donald J. Trump'"
      ]
     },
     "execution_count": 77,
     "metadata": {},
     "output_type": "execute_result"
    }
   ],
   "source": [
    "presidents = ['\"GWB\"', '\"BHO\"', '\"DJT\"', '\"WJC\"']\n",
    "names = ['George W. Bush', 'Barack H. Obama', 'Donald J. Trump', 'William J. Clinton']\n",
    "parties = ['\"R\"', '\"D\"' ]\n",
    "party_name = ['Republican', 'Democrat']\n",
    "\n",
    "def president(txt):\n",
    "    pres = re.findall('(?<=president id=).*\\w\\S', txt)\n",
    "    x = pres[0].split()\n",
    "    for president in presidents: \n",
    "        if president in x: \n",
    "            return names[presidents.index(president)]\n",
    "president(text)"
   ]
  },
  {
   "cell_type": "markdown",
   "metadata": {},
   "source": [
    "## Date"
   ]
  },
  {
   "cell_type": "code",
   "execution_count": 78,
   "metadata": {},
   "outputs": [
    {
     "data": {
      "text/plain": [
       "'2018-01-04'"
      ]
     },
     "execution_count": 78,
     "metadata": {},
     "output_type": "execute_result"
    }
   ],
   "source": [
    "def date(txt):\n",
    "    date_issued = re.findall(r'<dateIssued .*>(.+?)<\\/dateIssued>',txt)\n",
    "    return date_issued[0]\n",
    "date(text)"
   ]
  },
  {
   "cell_type": "markdown",
   "metadata": {},
   "source": [
    "## Note "
   ]
  },
  {
   "cell_type": "code",
   "execution_count": 163,
   "metadata": {},
   "outputs": [
    {
     "name": "stdout",
     "output_type": "stream",
     "text": [
      "The President spoke at 11:34 a.m. in the Roosevelt Room at the White House. In his remarks, he referred to Stephen \"Michael\" Garland, a U.S. Customs and Border Patrol agent who was injured in an ambush attack in Van Horn, TX, on November 18; White House Chief of Staff John F. Kelly, in his former capacity as Secretary of Homeland Security. Sen. Graham referred to former Presidents Barrack Obama and George W. Bush.\n"
     ]
    }
   ],
   "source": [
    "def note(txt):\n",
    "    #notes = re.findall(r'<note>(.+?)<\\/note>',txt)\n",
    "    #notes2 =re.sub(\"&quot;\",\"'\", str(notes)) \n",
    "    soup = BeautifulSoup(txt, 'xml')\n",
    "    tags = soup.find('notes')\n",
    "    soup2 = BeautifulSoup(str(tags), 'xml')\n",
    "    return print(soup2.text)\n",
    "note(text)"
   ]
  },
  {
   "cell_type": "markdown",
   "metadata": {},
   "source": [
    "## Categories "
   ]
  },
  {
   "cell_type": "code",
   "execution_count": 170,
   "metadata": {},
   "outputs": [
    {
     "name": "stdout",
     "output_type": "stream",
     "text": [
      "\n",
      "Addresses and Remarks\n",
      "Immigration reform, meeting with Republican Senators\n",
      "\n"
     ]
    }
   ],
   "source": [
    "def categories(txt): \n",
    "    soup = BeautifulSoup(text, 'xml')\n",
    "    tags = [a for a in (td.find('dcpdCategory') for td in soup.findAll('extension')) if a]\n",
    "    tags = BeautifulSoup(str(tags[0]),'xml')\n",
    "    return print(tags.text)\n",
    "\n",
    "categories(text)"
   ]
  },
  {
   "cell_type": "markdown",
   "metadata": {},
   "source": [
    "## Locations "
   ]
  },
  {
   "cell_type": "code",
   "execution_count": 137,
   "metadata": {},
   "outputs": [
    {
     "data": {
      "text/plain": [
       "'Washington, DC'"
      ]
     },
     "execution_count": 137,
     "metadata": {},
     "output_type": "execute_result"
    }
   ],
   "source": [
    "def location(txt): \n",
    "    soup = BeautifulSoup(text, 'xml')\n",
    "    tags = [a for a in (td.find('name') for td in soup.findAll('location')) if a]\n",
    "    tagss = str(tags[0])\n",
    "    tagsss = re.sub('<.?name>','',tagss)\n",
    "    return tagsss\n",
    "location(text)"
   ]
  },
  {
   "cell_type": "markdown",
   "metadata": {},
   "source": [
    "## Names"
   ]
  },
  {
   "cell_type": "code",
   "execution_count": 348,
   "metadata": {},
   "outputs": [
    {
     "data": {
      "text/plain": [
       "['Bannon, Stephen K.',\n",
       " 'Cornyn, John, III',\n",
       " 'Cotton, Thomas B.',\n",
       " 'Garland, Stephen \"Michael\"',\n",
       " 'Graham, Lindsey O.',\n",
       " 'Grassley, Charles E.',\n",
       " 'Kelly, John F.',\n",
       " 'Lankford, James P.',\n",
       " 'Nielsen, Kirstjen M.',\n",
       " 'Pence, Michael R.',\n",
       " 'Perdue, David A., Jr.',\n",
       " 'Tillis, Thomas R.']"
      ]
     },
     "execution_count": 348,
     "metadata": {},
     "output_type": "execute_result"
    }
   ],
   "source": [
    "def names(txt):\n",
    "    tags = [a for a in (td.findAll('namePart') for td in soup.findAll('subject')) if a] \n",
    "    flatten_list = [x for y in tags for x in y]\n",
    "    tags2 = [BeautifulSoup(str(i), \"xml\") for i in flatten_list]\n",
    "    tags2\n",
    "    no_tags = [i.text for i in tags2]\n",
    "    return no_tags\n",
    "\n",
    "names(text)"
   ]
  },
  {
   "cell_type": "markdown",
   "metadata": {},
   "source": [
    "## Subjects"
   ]
  },
  {
   "cell_type": "code",
   "execution_count": 351,
   "metadata": {},
   "outputs": [
    {
     "data": {
      "text/plain": [
       "['Congress:Bipartisanship',\n",
       " 'Congress:Members, meetings with President',\n",
       " 'Drug abuse and trafficking:Illegal drugs, interdiction efforts',\n",
       " 'Drug abuse and trafficking:Opioid epidemic, efforts to combat',\n",
       " 'Economy, national:Improvement',\n",
       " 'Homeland Security, Department of:Customs and Border Protection, U.S',\n",
       " 'Homeland Security, Department of:Immigration and Customs Enforcement, U.S',\n",
       " 'Homeland Security, Department of:Secretary',\n",
       " 'Immigration and naturalization:Deferred Action for Childhood Arrivals (DACA) policy, review',\n",
       " 'Immigration and naturalization:Illegal immigration',\n",
       " 'Immigration and naturalization:Reform',\n",
       " 'Legislation, enacted:Tax reform legislation',\n",
       " 'Mexico:Border with U.S., infrastructure and security',\n",
       " 'New York:New York City::Terrorist attacks',\n",
       " 'White House Office:Assistants to the President::Chief of Staff',\n",
       " 'White House Office:Vice President']"
      ]
     },
     "execution_count": 351,
     "metadata": {},
     "output_type": "execute_result"
    }
   ],
   "source": [
    "def subjects(txt):\n",
    "    tags = [a for a in (td.findAll('topic') for td in soup.findAll('subject')) if a] \n",
    "    flatten_list = [x for y in tags for x in y]\n",
    "    tags2 = [BeautifulSoup(str(i), \"xml\") for i in flatten_list]\n",
    "    tags2\n",
    "    no_tags = [i.text for i in tags2]\n",
    "    return no_tags\n",
    "\n",
    "subjects(text)"
   ]
  },
  {
   "cell_type": "markdown",
   "metadata": {},
   "source": [
    "## DCPD "
   ]
  },
  {
   "cell_type": "code",
   "execution_count": 357,
   "metadata": {},
   "outputs": [
    {
     "data": {
      "text/plain": [
       "'201800006'"
      ]
     },
     "execution_count": 357,
     "metadata": {},
     "output_type": "execute_result"
    }
   ],
   "source": [
    "def dcpd(txt) :\n",
    "    dcpd = re.findall(r'<accessId>(.+?)</accessId>',txt)#re.findall(r'Administration of .*',text)\n",
    "    dcpd2 =  re.sub(\"\\D\", \"\", dcpd[0])\n",
    "    return dcpd2\n",
    "dcpd(text)"
   ]
  },
  {
   "cell_type": "code",
   "execution_count": null,
   "metadata": {
    "collapsed": true
   },
   "outputs": [],
   "source": []
  }
 ],
 "metadata": {
  "kernelspec": {
   "display_name": "Python 3",
   "language": "python",
   "name": "python3"
  },
  "language_info": {
   "codemirror_mode": {
    "name": "ipython",
    "version": 3
   },
   "file_extension": ".py",
   "mimetype": "text/x-python",
   "name": "python",
   "nbconvert_exporter": "python",
   "pygments_lexer": "ipython3",
   "version": "3.6.3"
  }
 },
 "nbformat": 4,
 "nbformat_minor": 2
}
