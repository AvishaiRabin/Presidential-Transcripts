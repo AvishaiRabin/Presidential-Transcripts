{
 "cells": [
  {
   "cell_type": "markdown",
   "metadata": {},
   "source": [
    "##### Grabbing our file"
   ]
  },
  {
   "cell_type": "markdown",
   "metadata": {},
   "source": [
    "We test this on memo from all four different presidents."
   ]
  },
  {
   "cell_type": "code",
   "execution_count": 171,
   "metadata": {
    "collapsed": true
   },
   "outputs": [],
   "source": [
    "import os.path\n",
    "import io\n",
    "test1 = 'CPD201100630htmlDCPD201100630.txt'\n",
    "test2 = 'CPD201700578htmlDCPD201700578.txt'\n",
    "test3 = 'CPD19940103htmlWCPD19940103Pg2641.txt'\n",
    "test4 = 'CPD20030804htmlWCPD20030804Pg1003.txt'\n",
    "test5 = 'CPD201700722htmlDCPD201700722.txt'\n",
    "test6 = 'CPD19930125htmlWCPD19930125Pg64.txt'\n",
    "test7 = 'CPD20021007htmlWCPD20021007Pg16602.txt'\n",
    "save_path = \"C:/Users/avish/OneDrive/Documents/Presidential-Transcripts/Files\"\n",
    "name = test3\n",
    "name = os.path.join(save_path, name)\n",
    "file_name = name\n",
    "with open(file_name, \"r\") as f:\n",
    "    text = f.read()"
   ]
  },
  {
   "cell_type": "code",
   "execution_count": 172,
   "metadata": {
    "collapsed": true
   },
   "outputs": [],
   "source": [
    "import re"
   ]
  },
  {
   "cell_type": "markdown",
   "metadata": {},
   "source": [
    "###### Title"
   ]
  },
  {
   "cell_type": "code",
   "execution_count": 173,
   "metadata": {},
   "outputs": [
    {
     "data": {
      "text/plain": [
       "'Memorandum on Implementation of NAFTA'"
      ]
     },
     "execution_count": 173,
     "metadata": {},
     "output_type": "execute_result"
    }
   ],
   "source": [
    "title = re.findall('Memorandum on[^\\n]*', text)\n",
    "if len(title) == 0:\n",
    "    text = re.sub('\\n\\n', 'SPLIT-HERE', text)\n",
    "    title = re.findall('Memorandum [A-Z][\\W\\w]*?SPLIT-HERE', text)[0]\n",
    "    title = re.sub('\\n', '', title)\n",
    "    title = re.sub('SPLIT-HERE', '', title)\n",
    "    text = re.sub('SPLIT-HERE', '\\n\\n', text)\n",
    "else: \n",
    "    title = title[0]\n",
    "title"
   ]
  },
  {
   "cell_type": "markdown",
   "metadata": {},
   "source": [
    "###### Subject"
   ]
  },
  {
   "cell_type": "code",
   "execution_count": 174,
   "metadata": {},
   "outputs": [
    {
     "data": {
      "text/plain": [
       "'Subject: Proposed North American Free Trade Agreement'"
      ]
     },
     "execution_count": 174,
     "metadata": {},
     "output_type": "execute_result"
    }
   ],
   "source": [
    "subject = re.findall('Subject:\\n <\\/i>\\n [^\\n]*', text)\n",
    "if len(subject) == 0:\n",
    "    text = re.sub('\\n\\n', 'SPLIT-HERE', text)\n",
    "    subject = re.findall('Subject: [A-Z][\\W\\w]*?SPLIT-HERE', text)[0]\n",
    "    subject = re.sub('\\n', '', subject)\n",
    "    subject = re.sub('SPLIT-HERE', '', subject)\n",
    "    text = re.sub('SPLIT-HERE', '\\n\\n', text)\n",
    "else: \n",
    "    subject = subject[0]\n",
    "    subject = re.sub('\\n', '', subject)\n",
    "    subject = re.sub('<\\/i>', '', subject)\n",
    "    subject = re.sub('  ', ' ', subject)\n",
    "subject"
   ]
  },
  {
   "cell_type": "markdown",
   "metadata": {},
   "source": [
    "###### Memorandum For"
   ]
  },
  {
   "cell_type": "code",
   "execution_count": 175,
   "metadata": {},
   "outputs": [
    {
     "data": {
      "text/plain": [
       "'Memorandum for the Secretary of State, the United States Trade Representative'"
      ]
     },
     "execution_count": 175,
     "metadata": {},
     "output_type": "execute_result"
    }
   ],
   "source": [
    "text = re.sub('\\n\\n', 'SPLIT-HERE', text)\n",
    "memfor = re.findall('Memorandum for[\\W\\w]*?SPLIT-HERE', text)\n",
    "if len(memfor) == 0:\n",
    "    memfor = re.findall('Memorandum for [^\\n]*', text)[0]\n",
    "else: \n",
    "    memfor = memfor[0]\n",
    "    memfor = re.sub('\\n', '', memfor)\n",
    "    memfor = re.sub('SPLIT-HERE', '', memfor)\n",
    "text = re.sub('SPLIT-HERE', '\\n\\n', text)\n",
    "memfor"
   ]
  },
  {
   "cell_type": "markdown",
   "metadata": {},
   "source": [
    "###### Subjects"
   ]
  },
  {
   "cell_type": "code",
   "execution_count": 176,
   "metadata": {},
   "outputs": [
    {
     "data": {
      "text/plain": [
       "'none'"
      ]
     },
     "execution_count": 176,
     "metadata": {},
     "output_type": "execute_result"
    }
   ],
   "source": [
    "subjects = re.findall('Subjects:\\n.*\\n[^\\n]*', text)\n",
    "if len(subjects) == 0:\n",
    "    subjects = 'none'\n",
    "else:\n",
    "    subjects = subjects[0]\n",
    "    subjects = re.sub('\\n', '', subjects)\n",
    "    subjects = re.sub('<\\/i>', '', subjects)\n",
    "    subjects = re.sub('  ', ' ', subjects)\n",
    "subjects"
   ]
  },
  {
   "cell_type": "markdown",
   "metadata": {},
   "source": [
    "###### Notes"
   ]
  },
  {
   "cell_type": "code",
   "execution_count": 177,
   "metadata": {},
   "outputs": [
    {
     "data": {
      "text/plain": [
       "'This memorandum was released by the Office of the Press Secretary on December 28.'"
      ]
     },
     "execution_count": 177,
     "metadata": {},
     "output_type": "execute_result"
    }
   ],
   "source": [
    "note = re.findall('This memorandum[^.]*', text)\n",
    "if len(note) == 0:\n",
    "    note = 'none'\n",
    "else:\n",
    "    note = note[0]\n",
    "    note = re.sub('\\\\n|<i>|<\\/i>', '', note)\n",
    "    note = re.sub('       |      ', ' ', note)\n",
    "    note = note + '.'\n",
    "note"
   ]
  },
  {
   "cell_type": "markdown",
   "metadata": {},
   "source": [
    "###### Categories"
   ]
  },
  {
   "cell_type": "code",
   "execution_count": 178,
   "metadata": {},
   "outputs": [
    {
     "data": {
      "text/plain": [
       "'none'"
      ]
     },
     "execution_count": 178,
     "metadata": {},
     "output_type": "execute_result"
    }
   ],
   "source": [
    "categories = re.findall('(?<=Categories.\\n <\\/i>\\n ).*(?=\\n)', text)\n",
    "if len(categories) == 0:\n",
    "    categories = re.findall('(?<=Categories.\\n  <\\/i>\\n ).*(?=\\n)', text)\n",
    "if len(categories) == 0:\n",
    "    categories = 'none'\n",
    "else:\n",
    "    categories = categories[0]\n",
    "categories"
   ]
  },
  {
   "cell_type": "markdown",
   "metadata": {},
   "source": [
    "###### CPD Number"
   ]
  },
  {
   "cell_type": "code",
   "execution_count": 179,
   "metadata": {},
   "outputs": [
    {
     "data": {
      "text/plain": [
       "'19940103'"
      ]
     },
     "execution_count": 179,
     "metadata": {},
     "output_type": "execute_result"
    }
   ],
   "source": [
    "cpd = re.findall('(?<=DCPD).*?(?=\\.)', name)\n",
    "if len(cpd) == 0:\n",
    "    cpd = re.findall('WCPD\\d*', name)[0]\n",
    "    cpd = re.sub('WCPD', '', cpd)\n",
    "else:\n",
    "    cpd = cpd[0]\n",
    "cpd"
   ]
  },
  {
   "cell_type": "markdown",
   "metadata": {},
   "source": [
    "###### Date"
   ]
  },
  {
   "cell_type": "code",
   "execution_count": 182,
   "metadata": {},
   "outputs": [
    {
     "data": {
      "text/plain": [
       "'December 27, 1993'"
      ]
     },
     "execution_count": 182,
     "metadata": {},
     "output_type": "execute_result"
    }
   ],
   "source": [
    "date = re.findall(\"(?<=p>\\\\n<i>\\\\n ).*?(?= ) [\\d].*?, \\d\\d\\d\\d\", text)\n",
    "if len(date) == 0:\n",
    "    date = re.findall('\\n\\n.*?\\n\\n', text)[0]\n",
    "    date = re.sub('\\n\\n', '', date)\n",
    "    if date[0] == ' ':\n",
    "        date = date[1:]\n",
    "else:\n",
    "    date = date[0]\n",
    "date"
   ]
  },
  {
   "cell_type": "markdown",
   "metadata": {},
   "source": [
    "###### Date Filed"
   ]
  },
  {
   "cell_type": "code",
   "execution_count": 183,
   "metadata": {},
   "outputs": [
    {
     "data": {
      "text/plain": [
       "'none'"
      ]
     },
     "execution_count": 183,
     "metadata": {},
     "output_type": "execute_result"
    }
   ],
   "source": [
    "filed = re.findall('\\[.*\\]', text)\n",
    "if len(filed) == 0 or len(re.findall('Filed', filed[0])) == 0:\n",
    "    filed = 'none'\n",
    "else: \n",
    "    filed = filed[0]\n",
    "    filed = filed[1:len(filed)-1]\n",
    "    filed = re.findall('[\\d].*', filed)[0]\n",
    "filed"
   ]
  },
  {
   "cell_type": "markdown",
   "metadata": {},
   "source": [
    "###### Administration"
   ]
  },
  {
   "cell_type": "code",
   "execution_count": 184,
   "metadata": {},
   "outputs": [
    {
     "data": {
      "text/plain": [
       "'William J. Clinton'"
      ]
     },
     "execution_count": 184,
     "metadata": {},
     "output_type": "execute_result"
    }
   ],
   "source": [
    "administration = re.findall('(?<=Administration of ).*?(?=,)', text)\n",
    "if len(administration) == 0:\n",
    "    administration = re.findall('William J. Clinton', text)\n",
    "    if len(administration) == 0:\n",
    "        administration = re.findall('George W. Bush', text)\n",
    "        if len(administration) == 0:\n",
    "            administration = re.findall('George Bush', text)[0]\n",
    "        else:\n",
    "            administration = administration[0]\n",
    "    else:\n",
    "        administration = administration[0]\n",
    "else:\n",
    "    administration = administration[0]\n",
    "administration"
   ]
  },
  {
   "cell_type": "code",
   "execution_count": 140,
   "metadata": {},
   "outputs": [
    {
     "name": "stdout",
     "output_type": "stream",
     "text": [
      "<html>\n",
      " <head>\n",
      "  <title>\n",
      "   Weekly Compilation of Presidential Documents Volume 38 Issue 40 (Monday, October 7, 2002)\n",
      "  </title>\n",
      " </head>\n",
      " <body>\n",
      "  <pre>[Weekly Compilation of Presidential Documents Volume 38, Number 40 (Monday, October 7, 2002)]\n",
      "[Pages 1660-1661]\n",
      "[Online from the Government Publishing Office, <a href=\"http://www.gpo.gov\">www.gpo.gov</a>]\n",
      "\n",
      "&lt;R04&gt;\n",
      "Memorandum on the Transfer of Funds From International Organizations and \n",
      "Programs Funds to the Child Survival and Health Programs Fund\n",
      "\n",
      "September 30, 2002\n",
      "\n",
      "Presidential Determination No. 2002-32\n",
      "\n",
      "Memorandum for the Secretary of State\n",
      "\n",
      "Subject: Presidential Determination on the Transfer of Funds from \n",
      "International Organizations and Programs Funds to the Child Survival and \n",
      "Health Programs Fund\n",
      "\n",
      "    Pursuant to the authority vested in me by the Constitution and laws \n",
      "of the United States, including section 610 of the Foreign Assistance \n",
      "Act of 1961, as amended (FAA), I hereby determine it is necessary for \n",
      "the purposes of the FAA that the $34 million in FY 2002 International \n",
      "Organizations and\n",
      "\n",
      "[[Page 1661]]\n",
      "\n",
      "Programs funds that were allocated for the United Nations Population \n",
      "Fund be transferred to, and consolidated with, the Child Survival and \n",
      "Health Programs Fund, and such funds are hereby transferred and \n",
      "consolidated. The transferred funds will be administered by the U.S. \n",
      "Agency for International Development in support of reproductive health \n",
      "and maternal health and related programs.\n",
      "    You are authorized and directed to transmit this determination to \n",
      "the Congress and to arrange for its publication in the Federal Register.\n",
      "                                                George W. Bush\n",
      "\n",
      "[Filed with the Office of the Federal Register, 8:45 a.m., October 4, \n",
      "2002]\n",
      "\n",
      "Note: This memorandum was published in the Federal Register on October \n",
      "7.\n",
      "\n",
      "\n",
      "\n",
      "</pre>\n",
      " </body>\n",
      "</html>\n"
     ]
    }
   ],
   "source": [
    "print(text)"
   ]
  },
  {
   "cell_type": "code",
   "execution_count": null,
   "metadata": {
    "collapsed": true
   },
   "outputs": [],
   "source": []
  },
  {
   "cell_type": "code",
   "execution_count": null,
   "metadata": {
    "collapsed": true
   },
   "outputs": [],
   "source": []
  }
 ],
 "metadata": {
  "kernelspec": {
   "display_name": "Python 3",
   "language": "python",
   "name": "python3"
  },
  "language_info": {
   "codemirror_mode": {
    "name": "ipython",
    "version": 3
   },
   "file_extension": ".py",
   "mimetype": "text/x-python",
   "name": "python",
   "nbconvert_exporter": "python",
   "pygments_lexer": "ipython3",
   "version": "3.6.2"
  }
 },
 "nbformat": 4,
 "nbformat_minor": 2
}
