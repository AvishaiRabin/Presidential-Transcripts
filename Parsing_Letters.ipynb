{
 "cells": [
  {
   "cell_type": "markdown",
   "metadata": {},
   "source": [
    "## Functions to generalise findings. "
   ]
  },
  {
   "cell_type": "code",
   "execution_count": 1,
   "metadata": {
    "scrolled": false
   },
   "outputs": [
    {
     "name": "stdout",
     "output_type": "stream",
     "text": [
      "<mods xmlns:xlink=\"http://www.w3.org/1999/xlink\" xmlns:xsi=\"http://www.w3.org/2001/XMLSchema-instance\" xmlns=\"http://www.loc.gov/mods/v3\" version=\"3.3\" xsi:schemaLocation=\"http://www.loc.gov/mods/v3 http://www.loc.gov/standards/mods/v3/mods-3-3.xsd\" ID=\"P0b002ee198599b85\">\n",
      "<name type=\"corporate\" xmlns:exslt=\"http://exslt.org/common\">\n",
      " <namePart>United States Government Publishing Office</namePart>\n",
      " <role>\n",
      "  <roleTerm authority=\"marcrelator\" type=\"text\">publisher</roleTerm>\n",
      "  <roleTerm authority=\"marcrelator\" type=\"code\">pbl</roleTerm>\n",
      "</role>\n",
      " <role>\n",
      "  <roleTerm authority=\"marcrelator\" type=\"text\">distributor</roleTerm>\n",
      "  <roleTerm authority=\"marcrelator\" type=\"code\">dst</roleTerm>\n",
      "</role>\n",
      "</name>\n",
      "<name type=\"corporate\" xmlns:exslt=\"http://exslt.org/common\">\n",
      " <namePart>United States</namePart>\n",
      " <namePart>National Archives and Records Administration</namePart>\n",
      " <namePart>Office of the Federal Register</namePart>\n",
      " <role>\n",
      "  <roleTerm authority=\"marcrelator\" type=\"text\">author</roleTerm>\n",
      "  <roleTerm authority=\"marcrelator\" type=\"code\">aut</roleTerm>\n",
      "</role>\n",
      " <description>Government Organization</description>\n",
      "</name>\n",
      "<typeOfResource>text</typeOfResource>\n",
      "<genre authority=\"marcgt\">government publication</genre>\n",
      "<language xmlns:exslt=\"http://exslt.org/common\">\n",
      " <languageTerm type=\"code\" authority=\"iso639-2b\">eng</languageTerm>\n",
      "</language>\n",
      "<extension xmlns:exslt=\"http://exslt.org/common\">\n",
      " <collectionCode>DCPD</collectionCode>\n",
      " <category>Budget and Presidential Materials</category>\n",
      " <branch>executive</branch>\n",
      " <dateIngested>2018-02-07</dateIngested>\n",
      "</extension>\n",
      "<name type=\"corporate\">\n",
      " <namePart>United States</namePart>\n",
      " <namePart>Executive Office of the President</namePart>\n",
      " <role>\n",
      "  <roleTerm authority=\"marcrelator\" type=\"text\">originator</roleTerm>\n",
      "  <roleTerm authority=\"marcrelator\" type=\"code\">org</roleTerm>\n",
      "</role>\n",
      " <description>United States Government Agency</description>\n",
      "</name>\n",
      "<name type=\"personal\">\n",
      " <namePart>Donald J. Trump</namePart>\n",
      " <role>\n",
      "  <roleTerm authority=\"marcrelator\" type=\"text\">originator</roleTerm>\n",
      "  <roleTerm authority=\"marcrelator\" type=\"code\">org</roleTerm>\n",
      "</role>\n",
      " <description>President of the United States</description>\n",
      "</name>\n",
      "<titleInfo>\n",
      " <title>Letter to Congressional Leaders Transmitting Proclamations on Imports of Large Residential Washers and Certain Photovoltaic Cells</title>\n",
      "</titleInfo>\n",
      "<location xmlns:exslt=\"http://exslt.org/common\">\n",
      " <url displayLabel=\"Content Detail\" access=\"object in context\">https://www.gpo.gov/fdsys/pkg/DCPD-201800046/content-detail.html</url>\n",
      " <url displayLabel=\"HTML rendition\" access=\"raw object\">https://www.gpo.gov/fdsys/pkg/DCPD-201800046/html/DCPD-201800046.htm</url>\n",
      " <url displayLabel=\"PDF rendition\" access=\"raw object\">https://www.gpo.gov/fdsys/pkg/DCPD-201800046/pdf/DCPD-201800046.pdf</url>\n",
      "</location>\n",
      "<identifier type=\"presidential proclamation number\">Proclamation </identifier>\n",
      "<identifier type=\"preferred citation\">DCPD-201800046</identifier>\n",
      "<note>Identical letters were sent to Paul D. Ryan, Speaker of the House of Representatives, and Michael R. Pence, President of the Senate.</note>\n",
      "<subject>\n",
      " <topic>Commerce, international:Residential washers and photovoltaic cells, U.S. tariffs</topic>\n",
      "</subject>\n",
      "<extension>\n",
      " <searchTitle>Letter to Congressional Leaders Transmitting Proclamations on Imports of Large Residential Washers and Certain Photovoltaic Cells;DCPD-201800046</searchTitle>\n",
      "</extension>\n",
      "<originInfo xmlns:exslt=\"http://exslt.org/common\">\n",
      " <publisher>Office of the Federal Register, National Archives and Records Administration</publisher>\n",
      " <dateIssued encoding=\"w3cdtf\">2018-01-23</dateIssued>\n",
      " <issuance>continuing</issuance>\n",
      " <frequency authority=\"marcfrequency\">daily</frequency>\n",
      "</originInfo>\n",
      "<physicalDescription xmlns:exslt=\"http://exslt.org/common\">\n",
      " <note type=\"source content type\">deposited</note>\n",
      " <digitalOrigin>born digital</digitalOrigin>\n",
      " <extent>1 p.</extent>\n",
      "</physicalDescription>\n",
      "<classification authority=\"sudocs\"></classification>\n",
      "<classification authority=\"lcs\"></classification>\n",
      "<identifier type=\"uri\" xmlns:exslt=\"http://exslt.org/common\">https://www.gpo.gov/fdsys/pkg/DCPD-201800046</identifier>\n",
      "<identifier type=\"local\" xmlns:exslt=\"http://exslt.org/common\">P0b002ee198599b85</identifier>\n",
      "<identifier type=\"ILS system id\" xmlns:exslt=\"http://exslt.org/common\">000599742</identifier>\n",
      "<identifier type=\"Child ILS system id\" xmlns:exslt=\"http://exslt.org/common\">000599742</identifier>\n",
      "<recordInfo xmlns:exslt=\"http://exslt.org/common\">\n",
      " <recordContentSource authority=\"marcorg\">DGPO</recordContentSource>\n",
      " <recordCreationDate encoding=\"w3cdtf\">2018-02-07</recordCreationDate>\n",
      " <recordChangeDate encoding=\"w3cdtf\">2018-02-07</recordChangeDate>\n",
      " <recordIdentifier source=\"DGPO\">DCPD-201800046</recordIdentifier>\n",
      " <recordOrigin>machine generated</recordOrigin>\n",
      " <languageOfCataloging>\n",
      "  <languageTerm type=\"code\" authority=\"iso639-2b\">eng</languageTerm>\n",
      "</languageOfCataloging>\n",
      "</recordInfo>\n",
      "<accessCondition type=\"GPO scope determination\" xmlns:exslt=\"http://exslt.org/common\">fdlp</accessCondition>\n",
      "<extension xmlns:exslt=\"http://exslt.org/common\">\n",
      " <docClass>PRESDOC</docClass>\n",
      " <dcpdCategory>\n",
      "                      <level1>Communications to Congress</level1>\n",
      "                      <level2>Residential washers and photovoltaic cells, imports into U.S., letter transmitting proclamations</level2>\n",
      "                </dcpdCategory>\n",
      " <subject>\n",
      "                      <level1>Commerce, international</level1>\n",
      "                      <level2>Residential washers and photovoltaic cells, U.S. tariffs</level2>\n",
      "                </subject>\n",
      " <notes>Identical letters were sent to Paul D. Ryan, Speaker of the House of Representatives, and Michael R. Pence, President of the Senate.</notes>\n",
      " <accessId>DCPD-201800046</accessId>\n",
      " <president id=\"DJT\" party=\"R\">\n",
      "                      <name type=\"authority-lnf\">Trump, Donald J.</name>\n",
      "                      <name type=\"authority-fnf\">Donald J. Trump</name>\n",
      "                      <name type=\"authority-other\">Donald Trump</name>\n",
      "                      <name type=\"authority-other\">Donald John Trump</name>\n",
      "                </president>\n",
      " <presidentialDoc type=\"PROCLA\"></presidentialDoc>\n",
      "</extension>\n",
      "<identifier type=\"presidential proclamation number\" xmlns:exslt=\"http://exslt.org/common\">Proclamation </identifier>\n",
      "</mods>\n"
     ]
    }
   ],
   "source": [
    "from string import punctuation\n",
    "import re\n",
    "\n",
    "#def load_txt(file_directory):\n",
    "file_name =  './xmlfiles/letter1.xml'#./file/letter1.txt' #'./file/test1.txt'\n",
    "with open(file_name, \"r\") as f:\n",
    "    text = f.read()\n",
    "print(text)\n"
   ]
  },
  {
   "cell_type": "markdown",
   "metadata": {},
   "source": [
    "#### What our text example would look like without punctuation "
   ]
  },
  {
   "cell_type": "code",
   "execution_count": 2,
   "metadata": {
    "collapsed": true
   },
   "outputs": [],
   "source": [
    "#no_punc = ''.join([c for c in text if c not in punctuation])\n",
    "#print(no_punc)\n"
   ]
  },
  {
   "cell_type": "markdown",
   "metadata": {},
   "source": [
    "# First Test Run --> President Donald J. Trump "
   ]
  },
  {
   "cell_type": "markdown",
   "metadata": {},
   "source": [
    "##  Administration: Who is the president? (XML file) --> Only borrowed this from Pooja"
   ]
  },
  {
   "cell_type": "code",
   "execution_count": 3,
   "metadata": {},
   "outputs": [
    {
     "data": {
      "text/plain": [
       "'Donald J. Trump'"
      ]
     },
     "execution_count": 3,
     "metadata": {},
     "output_type": "execute_result"
    }
   ],
   "source": [
    "presidents = ['\"GWB\"', '\"BHO\"', '\"DJT\"', '\"WJC\"']\n",
    "names = ['George W. Bush', 'Barack H. Obama', 'Donald J. Trump', 'William J. Clinton']\n",
    "parties = ['\"R\"', '\"D\"' ]\n",
    "party_name = ['Republican', 'Democrat']\n",
    "\n",
    "def president(txt):\n",
    "    pres = re.findall('(?<=president id=).*\\w\\S', txt)\n",
    "    x = pres[0].split()\n",
    "    for president in presidents: \n",
    "        if president in x: \n",
    "            return names[presidents.index(president)]\n",
    "\n",
    "president(text)\n",
    "\n",
    "\n"
   ]
  },
  {
   "cell_type": "code",
   "execution_count": 4,
   "metadata": {
    "collapsed": true
   },
   "outputs": [],
   "source": [
    "#### Political Party"
   ]
  },
  {
   "cell_type": "code",
   "execution_count": 5,
   "metadata": {},
   "outputs": [],
   "source": [
    "#def party(text):\n",
    "    #par = re.findall('(?<=party=).*\\w\\S', text)\n",
    "    #for party in parties: \n",
    "        #if party in par:\n",
    "            #return party_name[parties.index(party)]\n",
    "#party(text)"
   ]
  },
  {
   "cell_type": "markdown",
   "metadata": {},
   "source": [
    "## Date of Letter "
   ]
  },
  {
   "cell_type": "code",
   "execution_count": 6,
   "metadata": {},
   "outputs": [
    {
     "data": {
      "text/plain": [
       "'2018-01-23'"
      ]
     },
     "execution_count": 6,
     "metadata": {},
     "output_type": "execute_result"
    }
   ],
   "source": [
    "def date(txt):\n",
    "    date_issued = re.findall(r'<dateIssued .*>(.+?)<\\/dateIssued>',txt)\n",
    "    return date_issued[0]\n",
    "   \n",
    "date(text)"
   ]
  },
  {
   "cell_type": "markdown",
   "metadata": {},
   "source": [
    "## Title "
   ]
  },
  {
   "cell_type": "code",
   "execution_count": 7,
   "metadata": {},
   "outputs": [
    {
     "data": {
      "text/plain": [
       "'Letter to Congressional Leaders Transmitting Proclamations on Imports of Large Residential Washers and Certain Photovoltaic Cells'"
      ]
     },
     "execution_count": 7,
     "metadata": {},
     "output_type": "execute_result"
    }
   ],
   "source": [
    "def title(txt):\n",
    "    title = re.findall(r'<title>(.+?)<\\/title>',txt)\n",
    "    return title[0]\n",
    "title(text)"
   ]
  },
  {
   "cell_type": "code",
   "execution_count": 8,
   "metadata": {
    "collapsed": true
   },
   "outputs": [],
   "source": [
    "##Ignore this for now \n",
    "\n",
    "#So I want to create a dictionary of the all dates as values \n",
    "#and my keys would be Letter published on, and Letter written on\n",
    "\n",
    "#def date(txt):\n",
    "    #example = re.findall(r'[A-Z]?[a-z]*\\s+\\d+,?\\s+\\d+', text)\n",
    "    #d = {}\n",
    "    #d2 = {\"Published on\":example[0], \"Written on\":example[1]}\n",
    "    #for i in range(len(example)):\n",
    "        #if example[i] not in d.keys():\n",
    "            #d[example[i]] = 1\n",
    "        #else:\n",
    "            #d[example[i]] = d[example[i]] + 1\n",
    "    #return print(d2,\"\\nAll Dates mentioned in file: \", d.keys())#(d.keys(), key=lambda x: d[x])\n",
    "\n",
    "\n",
    "#date(text)\n"
   ]
  },
  {
   "cell_type": "code",
   "execution_count": 9,
   "metadata": {
    "collapsed": true
   },
   "outputs": [],
   "source": [
    "# Administration\n"
   ]
  },
  {
   "cell_type": "code",
   "execution_count": 10,
   "metadata": {},
   "outputs": [],
   "source": [
    "#def admin(txt) :\n",
    "    #admin = re.findall(r'(?:\\S+\\s)?\\S*Administration of\\S*(?:\\s\\S+).+',text)#re.findall(r'Administration of .*',text)\n",
    "    #return admin\n",
    "#admin(text)"
   ]
  },
  {
   "cell_type": "code",
   "execution_count": 11,
   "metadata": {
    "collapsed": true
   },
   "outputs": [],
   "source": [
    "#### Title\n"
   ]
  },
  {
   "cell_type": "code",
   "execution_count": 12,
   "metadata": {},
   "outputs": [],
   "source": [
    "#re.findall('Proclamations \\d[^\\n]*',text)"
   ]
  },
  {
   "cell_type": "markdown",
   "metadata": {},
   "source": [
    "## DCPD / WCPD Number"
   ]
  },
  {
   "cell_type": "code",
   "execution_count": 13,
   "metadata": {},
   "outputs": [
    {
     "data": {
      "text/plain": [
       "'201800046'"
      ]
     },
     "execution_count": 13,
     "metadata": {},
     "output_type": "execute_result"
    }
   ],
   "source": [
    "def dcpd(txt) :\n",
    "    dcpd = re.findall(r'<accessId>(.+?)</accessId>',txt)#re.findall(r'Administration of .*',text)\n",
    "    dcpd2 =  re.sub(\"\\D\", \"\", dcpd[0])\n",
    "    return dcpd2\n",
    "dcpd(text)"
   ]
  },
  {
   "cell_type": "markdown",
   "metadata": {},
   "source": [
    "## Categories"
   ]
  },
  {
   "cell_type": "code",
   "execution_count": 92,
   "metadata": {},
   "outputs": [
    {
     "data": {
      "text/plain": [
       "'Communications to Congress'"
      ]
     },
     "execution_count": 92,
     "metadata": {},
     "output_type": "execute_result"
    }
   ],
   "source": [
    "from bs4 import BeautifulSoup\n",
    "\n",
    "def categories(txt): \n",
    "    soup = BeautifulSoup(txt, 'xml')\n",
    "    tags = soup.find('dpcdCategory')\n",
    "    if tags is None:\n",
    "        pattern = re.findall(r'<category\\d+>(.+?)</category\\d+>',text3)\n",
    "        #tags = soup.find(pattern[0])\n",
    "        #soup2 = BeautifulSoup(str(tags), 'xml')\n",
    "        return pattern[0]\n",
    "    else:\n",
    "        soup2 = BeautifulSoup(str(tags), 'xml')\n",
    "    return print(soup2.text)\n",
    "\n",
    "categories(text)\n",
    "    "
   ]
  },
  {
   "cell_type": "markdown",
   "metadata": {
    "collapsed": true
   },
   "source": [
    "# Second Test  --> Run Barack H. Obama"
   ]
  },
  {
   "cell_type": "code",
   "execution_count": 15,
   "metadata": {},
   "outputs": [
    {
     "name": "stdout",
     "output_type": "stream",
     "text": [
      "<mods xmlns=\"http://www.loc.gov/mods/v3\" xmlns:xsi=\"http://www.w3.org/2001/XMLSchema-instance\" xmlns:xlink=\"http://www.w3.org/1999/xlink\" xsi:schemaLocation=\"http://www.loc.gov/mods/v3 http://www.loc.gov/standards/mods/v3/mods-3-3.xsd\" version=\"3.3\" ID=\"P0b002ee186ebd5b0\">\n",
      "<name xmlns:exslt=\"http://exslt.org/common\" type=\"corporate\">\n",
      " <namePart>United States Government Printing Office</namePart>\n",
      " <role>\n",
      "  <roleTerm type=\"text\" authority=\"marcrelator\">printer</roleTerm>\n",
      "  <roleTerm type=\"code\" authority=\"marcrelator\">prt</roleTerm>\n",
      "</role>\n",
      " <role>\n",
      "  <roleTerm type=\"text\" authority=\"marcrelator\">distributor</roleTerm>\n",
      "  <roleTerm type=\"code\" authority=\"marcrelator\">dst</roleTerm>\n",
      "</role>\n",
      "</name>\n",
      "<name xmlns:exslt=\"http://exslt.org/common\" type=\"corporate\">\n",
      " <namePart>United States</namePart>\n",
      " <namePart>National Archives and Records Administration</namePart>\n",
      " <namePart>Office of the Federal Register</namePart>\n",
      " <role>\n",
      "  <roleTerm type=\"text\" authority=\"marcrelator\">author</roleTerm>\n",
      "  <roleTerm type=\"code\" authority=\"marcrelator\">aut</roleTerm>\n",
      "</role>\n",
      " <description>Government Organization</description>\n",
      "</name>\n",
      "<typeOfResource xmlns:exslt=\"http://exslt.org/common\">text</typeOfResource>\n",
      "<genre authority=\"marcgt\">government publication</genre>\n",
      "<language xmlns:exslt=\"http://exslt.org/common\">\n",
      " <languageTerm authority=\"iso639-2b\" type=\"code\">eng</languageTerm>\n",
      "</language>\n",
      "<extension xmlns:exslt=\"http://exslt.org/common\">\n",
      " <collectionCode>DCPD</collectionCode>\n",
      " <category>Budget and Presidential Materials</category>\n",
      " <branch>executive</branch>\n",
      " <dateIngested>2014-01-31</dateIngested>\n",
      "</extension>\n",
      "<name type=\"corporate\">\n",
      " <namePart>United States</namePart>\n",
      " <namePart>Executive Office of the President</namePart>\n",
      " <role>\n",
      "  <roleTerm type=\"text\" authority=\"marcrelator\">originator</roleTerm>\n",
      "  <roleTerm type=\"code\" authority=\"marcrelator\">org</roleTerm>\n",
      "</role>\n",
      " <description>United States Government Agency</description>\n",
      "</name>\n",
      "<name type=\"personal\">\n",
      " <namePart>Barack H. Obama</namePart>\n",
      " <role>\n",
      "  <roleTerm type=\"text\" authority=\"marcrelator\">originator</roleTerm>\n",
      "  <roleTerm type=\"code\" authority=\"marcrelator\">org</roleTerm>\n",
      "</role>\n",
      " <description>President of the United States</description>\n",
      "</name>\n",
      "<titleInfo>\n",
      " <title>Letter to Congressional Leaders Regarding the Designation of Funds for Overseas Contingency Operations and Global Counterterrorism</title>\n",
      "</titleInfo>\n",
      "<location xmlns:exslt=\"http://exslt.org/common\">\n",
      " <url access=\"object in context\" displayLabel=\"Content Detail\">http://www.gpo.gov/fdsys/pkg/DCPD-201400036/content-detail.html</url>\n",
      " <url access=\"raw object\" displayLabel=\"HTML rendition\">http://www.gpo.gov/fdsys/pkg/DCPD-201400036/html/DCPD-201400036.htm</url>\n",
      " <url access=\"raw object\" displayLabel=\"PDF rendition\">http://www.gpo.gov/fdsys/pkg/DCPD-201400036/pdf/DCPD-201400036.pdf</url>\n",
      "</location>\n",
      "<identifier type=\"preferred citation\">DCPD-201400036</identifier>\n",
      "<subject>\n",
      " <topic>Terrorism:Counterterrorism efforts</topic>\n",
      " <topic>Terrorism:Global threat</topic>\n",
      "</subject>\n",
      "<extension>\n",
      " <searchTitle>Letter to Congressional Leaders Regarding the Designation of Funds for Overseas Contingency Operations and Global Counterterrorism;DCPD-201400036</searchTitle>\n",
      "</extension>\n",
      "<originInfo xmlns:exslt=\"http://exslt.org/common\">\n",
      " <publisher>Office of the Federal Register, National Archives and Records Administration</publisher>\n",
      " <dateIssued encoding=\"w3cdtf\">2014-01-17</dateIssued>\n",
      " <issuance>continuing</issuance>\n",
      " <frequency authority=\"marcfrequency\">daily</frequency>\n",
      "</originInfo>\n",
      "<physicalDescription xmlns:exslt=\"http://exslt.org/common\">\n",
      " <note type=\"source content type\">deposited</note>\n",
      " <digitalOrigin>born digital</digitalOrigin>\n",
      " <extent>1 p.</extent>\n",
      "</physicalDescription>\n",
      "<classification authority=\"sudocs\"></classification>\n",
      "<classification authority=\"lcs\"></classification>\n",
      "<identifier xmlns:exslt=\"http://exslt.org/common\" type=\"uri\">http://www.gpo.gov/fdsys/pkg/DCPD-201400036</identifier>\n",
      "<identifier xmlns:exslt=\"http://exslt.org/common\" type=\"local\">P0b002ee186ebd5b0</identifier>\n",
      "<identifier xmlns:exslt=\"http://exslt.org/common\" type=\"ILS system id\">000599742</identifier>\n",
      "<identifier xmlns:exslt=\"http://exslt.org/common\" type=\"Child ILS system id\">000599742</identifier>\n",
      "<recordInfo xmlns:exslt=\"http://exslt.org/common\">\n",
      " <recordContentSource authority=\"marcorg\">DGPO</recordContentSource>\n",
      " <recordCreationDate encoding=\"w3cdtf\">2014-01-31</recordCreationDate>\n",
      " <recordChangeDate encoding=\"w3cdtf\">2014-01-31</recordChangeDate>\n",
      " <recordIdentifier source=\"DGPO\">DCPD-201400036</recordIdentifier>\n",
      " <recordOrigin>machine generated</recordOrigin>\n",
      " <languageOfCataloging>\n",
      "  <languageTerm authority=\"iso639-2b\" type=\"code\">eng</languageTerm>\n",
      "</languageOfCataloging>\n",
      "</recordInfo>\n",
      "<accessCondition xmlns:exslt=\"http://exslt.org/common\" type=\"GPO scope determination\">fdlp</accessCondition>\n",
      "<extension xmlns:exslt=\"http://exslt.org/common\">\n",
      " <docClass>PRESDOC</docClass>\n",
      " <dcpdCategory>\n",
      "                      <level1>Communications to Congress</level1>\n",
      "                      <level2>Global counterterrorism and overseas contingency\n",
      "operations, letter designating funds</level2>\n",
      "                </dcpdCategory>\n",
      " <subject>\n",
      "                      <level1>Terrorism</level1>\n",
      "                      <level2>Counterterrorism efforts</level2>\n",
      "                </subject>\n",
      " <subject>\n",
      "                      <level1>Terrorism</level1>\n",
      "                      <level2>Global threat</level2>\n",
      "                </subject>\n",
      " <accessId>DCPD-201400036</accessId>\n",
      " <president id=\"BHO\" party=\"D\">\n",
      "                      <name type=\"authority-lnf\">Obama, Barack H.</name>\n",
      "                      <name type=\"authority-fnf\">Barack H. Obama</name>\n",
      "                      <name type=\"authority-other\">Barack Obama</name>\n",
      "                      <name type=\"authority-other\">Barack Hussein Obama</name>\n",
      "                </president>\n",
      "</extension>\n",
      "</mods>\n"
     ]
    }
   ],
   "source": [
    "file_name2 =  './xmlfiles/letter2.xml'#./file/letter1.txt' #'./file/test1.txt'\n",
    "with open(file_name2, \"r\") as f:\n",
    "    text2 = f.read()\n",
    "print(text2)\n",
    "\n"
   ]
  },
  {
   "cell_type": "markdown",
   "metadata": {},
   "source": [
    "## Administration "
   ]
  },
  {
   "cell_type": "code",
   "execution_count": 16,
   "metadata": {},
   "outputs": [
    {
     "data": {
      "text/plain": [
       "'Barack H. Obama'"
      ]
     },
     "execution_count": 16,
     "metadata": {},
     "output_type": "execute_result"
    }
   ],
   "source": [
    "president(text2)"
   ]
  },
  {
   "cell_type": "markdown",
   "metadata": {},
   "source": [
    "## Date "
   ]
  },
  {
   "cell_type": "code",
   "execution_count": 17,
   "metadata": {},
   "outputs": [
    {
     "data": {
      "text/plain": [
       "'2014-01-17'"
      ]
     },
     "execution_count": 17,
     "metadata": {},
     "output_type": "execute_result"
    }
   ],
   "source": [
    "date(text2)"
   ]
  },
  {
   "cell_type": "markdown",
   "metadata": {},
   "source": [
    "## Title "
   ]
  },
  {
   "cell_type": "code",
   "execution_count": 18,
   "metadata": {},
   "outputs": [
    {
     "data": {
      "text/plain": [
       "'Letter to Congressional Leaders Regarding the Designation of Funds for Overseas Contingency Operations and Global Counterterrorism'"
      ]
     },
     "execution_count": 18,
     "metadata": {},
     "output_type": "execute_result"
    }
   ],
   "source": [
    "title(text2)"
   ]
  },
  {
   "cell_type": "markdown",
   "metadata": {},
   "source": [
    "## DCPD / WCPD"
   ]
  },
  {
   "cell_type": "code",
   "execution_count": 19,
   "metadata": {},
   "outputs": [
    {
     "data": {
      "text/plain": [
       "'201400036'"
      ]
     },
     "execution_count": 19,
     "metadata": {},
     "output_type": "execute_result"
    }
   ],
   "source": [
    "dcpd(text2)"
   ]
  },
  {
   "cell_type": "markdown",
   "metadata": {},
   "source": [
    "## Categories "
   ]
  },
  {
   "cell_type": "code",
   "execution_count": 20,
   "metadata": {},
   "outputs": [
    {
     "name": "stdout",
     "output_type": "stream",
     "text": [
      "\n",
      "Communications to Congress\n",
      "Global counterterrorism and overseas contingency\n",
      "operations, letter designating funds\n",
      "\n"
     ]
    }
   ],
   "source": [
    "categories(text2)"
   ]
  },
  {
   "cell_type": "markdown",
   "metadata": {},
   "source": [
    "# Third Test --> George W. Bush"
   ]
  },
  {
   "cell_type": "code",
   "execution_count": 21,
   "metadata": {},
   "outputs": [
    {
     "name": "stdout",
     "output_type": "stream",
     "text": [
      "<?xml version=\"1.0\" encoding=\"UTF-8\"?><mods xmlns:xlink=\"http://www.w3.org/1999/xlink\" xmlns:exslt=\"http://exslt.org/common\" xmlns:xsi=\"http://www.w3.org/2001/XMLSchema-instance\" xmlns=\"http://www.loc.gov/mods/v3\" version=\"3.3\" xsi:schemaLocation=\"http://www.loc.gov/mods/v3 http://www.loc.gov/standards/mods/v3/mods-3-3.xsd\" ID=\"id-WCPD-2009-01-19-Pg78\">\n",
      "<name type=\"corporate\">\n",
      "<namePart>United States Government Publishing Office</namePart>\n",
      "<role>\n",
      "<roleTerm authority=\"marcrelator\" type=\"text\">publisher</roleTerm>\n",
      "<roleTerm authority=\"marcrelator\" type=\"code\">pbl</roleTerm>\n",
      "</role>\n",
      "<role>\n",
      "<roleTerm authority=\"marcrelator\" type=\"text\">distributor</roleTerm>\n",
      "<roleTerm authority=\"marcrelator\" type=\"code\">dst</roleTerm>\n",
      "</role>\n",
      "</name>\n",
      "<name type=\"corporate\">\n",
      "<namePart>United States</namePart>\n",
      "<namePart>National Archives and Records Administration</namePart>\n",
      "<namePart>Office of the Federal Register</namePart>\n",
      "<role>\n",
      "<roleTerm authority=\"marcrelator\" type=\"text\">author</roleTerm>\n",
      "<roleTerm authority=\"marcrelator\" type=\"code\">aut</roleTerm>\n",
      "</role>\n",
      "<description>Government Organization</description>\n",
      "</name>\n",
      "<name type=\"corporate\">\n",
      "<namePart>United States</namePart>\n",
      "<namePart>Executive Office of the President</namePart>\n",
      "<role>\n",
      "<roleTerm authority=\"marcrelator\" type=\"text\">author</roleTerm>\n",
      "<roleTerm authority=\"marcrelator\" type=\"code\">aut</roleTerm>\n",
      "</role>\n",
      "<description>United States Government Agency</description>\n",
      "</name>\n",
      "<typeOfResource>text</typeOfResource>\n",
      "<genre authority=\"marcgt\">government publication</genre>\n",
      "<language>\n",
      "<languageTerm type=\"code\" authority=\"iso639-2b\">eng</languageTerm>\n",
      "</language>\n",
      "<extension>\n",
      "<collectionCode>WCPD</collectionCode>\n",
      "<category>Budget and Presidential Materials</category>\n",
      "<waisDatabaseName>2009_presidential_documents</waisDatabaseName>\n",
      "<branch>executive</branch>\n",
      "<dateIngested>2010-08-03</dateIngested>\n",
      "</extension>\n",
      "<name type=\"personal\">\n",
      "<namePart>George W. Bush</namePart>\n",
      "<role>\n",
      "<roleTerm authority=\"marcrelator\" type=\"text\">author</roleTerm>\n",
      "<roleTerm authority=\"marcrelator\" type=\"code\">aut</roleTerm>\n",
      "</role>\n",
      "<description>President of the United States</description>\n",
      "</name>\n",
      "<genre authority=\"marcgt\">article</genre>\n",
      "<titleInfo>\n",
      "<title>Letter to Congressional Leaders on Review of Title III of the Cuban Liberty and Democratic Solidarity (LIBERTAD) Act of 1996</title>\n",
      "</titleInfo>\n",
      "<relatedItem type=\"otherFormat\" xlink:href=\"https://www.gpo.gov/fdsys/pkg/WCPD-2009-01-19/html/WCPD-2009-01-19-Pg78.htm\">\n",
      "<identifier type=\"FDsys Unique ID\">D09002ee1959e55b0</identifier>\n",
      "</relatedItem>\n",
      "<relatedItem type=\"otherFormat\" xlink:href=\"https://www.gpo.gov/fdsys/pkg/WCPD-2009-01-19/pdf/WCPD-2009-01-19-Pg78.pdf\">\n",
      "<identifier type=\"FDsys Unique ID\">D09002ee1959e5601</identifier>\n",
      "</relatedItem>\n",
      "<identifier type=\"WCPD citation\">45 WCPD 78</identifier>\n",
      "<identifier type=\"uri\">https://www.gpo.gov/fdsys/granule/WCPD-2009-01-19/WCPD-2009-01-19-Pg78</identifier>\n",
      "<identifier type=\"former granule identifier\">pd19ja09_txt-29</identifier>\n",
      "<location>\n",
      "<url displayLabel=\"Content Detail\" access=\"object in context\">https://www.gpo.gov/fdsys/granule/WCPD-2009-01-19/WCPD-2009-01-19-Pg78/content-detail.html</url>\n",
      "<url access=\"raw object\" displayLabel=\"PDF rendition\">https://www.gpo.gov/fdsys/pkg/WCPD-2009-01-19/pdf/WCPD-2009-01-19-Pg78.pdf</url>\n",
      "<url access=\"raw object\" displayLabel=\"HTML rendition\">https://www.gpo.gov/fdsys/pkg/WCPD-2009-01-19/html/WCPD-2009-01-19-Pg78.htm</url>\n",
      "</location>\n",
      "<subject>\n",
      "<topic>Communications to Congress</topic>\n",
      "</subject>\n",
      "<physicalDescription>\n",
      "<extent>1 p.</extent>\n",
      "</physicalDescription>\n",
      "<part type=\"article\">\n",
      "<extent unit=\"pages\">\n",
      "<start>78</start>\n",
      "<end>78</end>\n",
      "</extent>\n",
      "</part>\n",
      "<identifier type=\"preferred citation\">45 WCPD 78</identifier>\n",
      "<relatedItem>\n",
      "<titleInfo>\n",
      "<title>United States Public Law 104-114</title>\n",
      "</titleInfo>\n",
      "<identifier type=\"public law citation\">Public Law 104-114</identifier>\n",
      "</relatedItem>\n",
      "<extension>\n",
      "<searchTitle>Letter to Congressional Leaders on Review of Title III of the Cuban Liberty and Democratic Solidarity (LIBERTAD) Act of 1996; Weekly Compilation of Presidential Documents Vol. 45, No. 2</searchTitle>\n",
      "<granuleClass>PRESDOCU</granuleClass>\n",
      "<accessId>WCPD-2009-01-19-Pg78</accessId>\n",
      "<eventDate>2009-01-15</eventDate>\n",
      "<president id=\"GWB\" party=\"R\">\n",
      "                        <name type=\"authority-lnf\">Bush, George W.</name>\n",
      "                        <name type=\"authority-fnf\">George W. Bush</name>\n",
      "                        <name type=\"authority-other\">George Bush</name>\n",
      "                        <name type=\"authority-other\">George Walker Bush</name>\n",
      "                    </president>\n",
      "<category1>Communications to Congress</category1>\n",
      "<notes>Identical letters were sent to David R. Obey, chairman, and Jerry Lewis, ranking member, House Committee on Appropriations; Daniel K. Inouye, chairman, and W. Thad Cochran, ranking member, Senate Committee on Appropriations; Howard L. Berman, chairman, and Ileana Ros-Lehtinen, ranking member, House Committee on Foreign Affairs; and Joseph R. Biden, Jr., chairman, and Richard G. Lugar, ranking member, Senate Committee on Foreign Relations.</notes>\n",
      "<law congress=\"104\" isPrivate=\"false\" number=\"114\"/>\n",
      "</extension>\n",
      "<relatedItem type=\"host\" ID=\"P0b002ee1802dacfe\">\n",
      "<titleInfo>\n",
      "<title>Weekly Compilation of Presidential Documents</title>\n",
      "<partNumber>Vol. 45, no. 2</partNumber>\n",
      "</titleInfo>\n",
      "<originInfo>\n",
      "<publisher>Office of the Federal Register, National Archives and Records Administration</publisher>\n",
      "<dateIssued encoding=\"w3cdtf\">2009-01-19</dateIssued>\n",
      "<issuance>continuing</issuance>\n",
      "<frequency>weekly</frequency>\n",
      "</originInfo>\n",
      "<physicalDescription>\n",
      "<note type=\"source content type\">deposited</note>\n",
      "<digitalOrigin>born digital</digitalOrigin>\n",
      "<extent>68 p.</extent>\n",
      "</physicalDescription>\n",
      "<classification authority=\"sudocs\">AE 2.109:</classification>\n",
      "<classification authority=\"sudocs\">GS 4.114:</classification>\n",
      "<identifier type=\"local\">P0b002ee1802dacfe</identifier>\n",
      "<identifier type=\"uri\">https://www.gpo.gov/fdsys/pkg/WCPD-2009-01-19</identifier>\n",
      "<identifier type=\"ILS system id\">000599742</identifier>\n",
      "<identifier type=\"former package identifier\">pd19ja09_txt</identifier>\n",
      "<identifier type=\"preferred citation\">45 WCPD 31</identifier>\n",
      "<location>\n",
      "<url displayLabel=\"Content Detail\" access=\"object in context\">https://www.gpo.gov/fdsys/pkg/WCPD-2009-01-19/content-detail.html</url>\n",
      "<url displayLabel=\"PDF rendition\" access=\"raw object\">https://www.gpo.gov/fdsys/pkg/WCPD-2009-01-19/pdf/WCPD-2009-01-19.pdf</url>\n",
      "</location>\n",
      "<accessCondition type=\"GPO scope determination\">fdlp</accessCondition>\n",
      "<part type=\"issue\">\n",
      "<extent unit=\"pages\">\n",
      "<start>31</start>\n",
      "<end>93</end>\n",
      "</extent>\n",
      "</part>\n",
      "<recordInfo>\n",
      "<recordContentSource authority=\"marcorg\">DGPO</recordContentSource>\n",
      "<recordCreationDate encoding=\"w3cdtf\">2010-08-03</recordCreationDate>\n",
      "<recordChangeDate encoding=\"w3cdtf\">2017-07-18</recordChangeDate>\n",
      "<recordIdentifier source=\"DGPO\">WCPD-2009-01-19</recordIdentifier>\n",
      "<recordOrigin>machine generated</recordOrigin>\n",
      "<languageOfCataloging>\n",
      "<languageTerm type=\"code\" authority=\"iso639-2b\">eng</languageTerm>\n",
      "</languageOfCataloging>\n",
      "</recordInfo>\n",
      "<extension>\n",
      "<docClass>WCPD</docClass>\n",
      "<accessId>WCPD-2009-01-19</accessId>\n",
      "<weekEndingDate>2009-01-16</weekEndingDate>\n",
      "<volume>45</volume>\n",
      "<issue>2</issue>\n",
      "</extension>\n",
      "</relatedItem>\n",
      "</mods>\n",
      "\n"
     ]
    }
   ],
   "source": [
    "file_name3 =  './xmlfiles/letter3.xml'#./file/letter1.txt' #'./file/test1.txt'\n",
    "with open(file_name3, \"r\") as f:\n",
    "    text3 = f.read()\n",
    "print(text3)"
   ]
  },
  {
   "cell_type": "markdown",
   "metadata": {},
   "source": [
    "## Administration"
   ]
  },
  {
   "cell_type": "code",
   "execution_count": 22,
   "metadata": {},
   "outputs": [
    {
     "data": {
      "text/plain": [
       "'George W. Bush'"
      ]
     },
     "execution_count": 22,
     "metadata": {},
     "output_type": "execute_result"
    }
   ],
   "source": [
    "president(text3)"
   ]
  },
  {
   "cell_type": "markdown",
   "metadata": {},
   "source": [
    "## Date "
   ]
  },
  {
   "cell_type": "code",
   "execution_count": 23,
   "metadata": {},
   "outputs": [
    {
     "data": {
      "text/plain": [
       "'2009-01-19'"
      ]
     },
     "execution_count": 23,
     "metadata": {},
     "output_type": "execute_result"
    }
   ],
   "source": [
    "date(text3)"
   ]
  },
  {
   "cell_type": "markdown",
   "metadata": {},
   "source": [
    "## Title "
   ]
  },
  {
   "cell_type": "code",
   "execution_count": 24,
   "metadata": {},
   "outputs": [
    {
     "data": {
      "text/plain": [
       "'Letter to Congressional Leaders on Review of Title III of the Cuban Liberty and Democratic Solidarity (LIBERTAD) Act of 1996'"
      ]
     },
     "execution_count": 24,
     "metadata": {},
     "output_type": "execute_result"
    }
   ],
   "source": [
    "title(text3)"
   ]
  },
  {
   "cell_type": "markdown",
   "metadata": {},
   "source": [
    "## DCPD / WCPD"
   ]
  },
  {
   "cell_type": "code",
   "execution_count": 101,
   "metadata": {},
   "outputs": [
    {
     "data": {
      "text/plain": [
       "'199401104'"
      ]
     },
     "execution_count": 101,
     "metadata": {},
     "output_type": "execute_result"
    }
   ],
   "source": [
    "dcpd(text3)"
   ]
  },
  {
   "cell_type": "markdown",
   "metadata": {},
   "source": [
    "## Categories "
   ]
  },
  {
   "cell_type": "code",
   "execution_count": 102,
   "metadata": {},
   "outputs": [
    {
     "data": {
      "text/plain": [
       "'Communications to Congress'"
      ]
     },
     "execution_count": 102,
     "metadata": {},
     "output_type": "execute_result"
    }
   ],
   "source": [
    "categories(text3)"
   ]
  },
  {
   "cell_type": "markdown",
   "metadata": {},
   "source": [
    "## Fourth Test --> William J. Clinton"
   ]
  },
  {
   "cell_type": "code",
   "execution_count": 103,
   "metadata": {},
   "outputs": [
    {
     "name": "stdout",
     "output_type": "stream",
     "text": [
      "<?xml version=\"1.0\" encoding=\"UTF-8\"?><mods xmlns:xlink=\"http://www.w3.org/1999/xlink\" xmlns:exslt=\"http://exslt.org/common\" xmlns:xsi=\"http://www.w3.org/2001/XMLSchema-instance\" xmlns=\"http://www.loc.gov/mods/v3\" version=\"3.3\" xsi:schemaLocation=\"http://www.loc.gov/mods/v3 http://www.loc.gov/standards/mods/v3/mods-3-3.xsd\" ID=\"id-WCPD-1994-01-10-Pg4\">\n",
      "<name type=\"corporate\">\n",
      "<namePart>United States Government Publishing Office</namePart>\n",
      "<role>\n",
      "<roleTerm authority=\"marcrelator\" type=\"text\">publisher</roleTerm>\n",
      "<roleTerm authority=\"marcrelator\" type=\"code\">pbl</roleTerm>\n",
      "</role>\n",
      "<role>\n",
      "<roleTerm authority=\"marcrelator\" type=\"text\">distributor</roleTerm>\n",
      "<roleTerm authority=\"marcrelator\" type=\"code\">dst</roleTerm>\n",
      "</role>\n",
      "</name>\n",
      "<name type=\"corporate\">\n",
      "<namePart>United States</namePart>\n",
      "<namePart>National Archives and Records Administration</namePart>\n",
      "<namePart>Office of the Federal Register</namePart>\n",
      "<role>\n",
      "<roleTerm authority=\"marcrelator\" type=\"text\">author</roleTerm>\n",
      "<roleTerm authority=\"marcrelator\" type=\"code\">aut</roleTerm>\n",
      "</role>\n",
      "<description>Government Organization</description>\n",
      "</name>\n",
      "<name type=\"corporate\">\n",
      "<namePart>United States</namePart>\n",
      "<namePart>Executive Office of the President</namePart>\n",
      "<role>\n",
      "<roleTerm authority=\"marcrelator\" type=\"text\">author</roleTerm>\n",
      "<roleTerm authority=\"marcrelator\" type=\"code\">aut</roleTerm>\n",
      "</role>\n",
      "<description>United States Government Agency</description>\n",
      "</name>\n",
      "<typeOfResource>text</typeOfResource>\n",
      "<genre authority=\"marcgt\">government publication</genre>\n",
      "<language>\n",
      "<languageTerm type=\"code\" authority=\"iso639-2b\">eng</languageTerm>\n",
      "</language>\n",
      "<extension>\n",
      "<collectionCode>WCPD</collectionCode>\n",
      "<category>Budget and Presidential Materials</category>\n",
      "<waisDatabaseName>1994_presidential_documents</waisDatabaseName>\n",
      "<branch>executive</branch>\n",
      "<dateIngested>2010-08-03</dateIngested>\n",
      "</extension>\n",
      "<name type=\"personal\">\n",
      "<namePart>William J. Clinton</namePart>\n",
      "<role>\n",
      "<roleTerm authority=\"marcrelator\" type=\"text\">author</roleTerm>\n",
      "<roleTerm authority=\"marcrelator\" type=\"code\">aut</roleTerm>\n",
      "</role>\n",
      "<description>President of the United States</description>\n",
      "</name>\n",
      "<genre authority=\"marcgt\">article</genre>\n",
      "<titleInfo>\n",
      "<title>Letter to Congressional Leaders Transmitting a Report on Loan Guarantees to Israel</title>\n",
      "</titleInfo>\n",
      "<relatedItem type=\"otherFormat\" xlink:href=\"https://www.gpo.gov/fdsys/pkg/WCPD-1994-01-10/html/WCPD-1994-01-10-Pg4.htm\">\n",
      "<identifier type=\"FDsys Unique ID\">D09002ee195a15761</identifier>\n",
      "</relatedItem>\n",
      "<relatedItem type=\"otherFormat\" xlink:href=\"https://www.gpo.gov/fdsys/pkg/WCPD-1994-01-10/pdf/WCPD-1994-01-10-Pg4.pdf\">\n",
      "<identifier type=\"FDsys Unique ID\">D09002ee195a15777</identifier>\n",
      "</relatedItem>\n",
      "<identifier type=\"WCPD citation\">30 WCPD 4</identifier>\n",
      "<identifier type=\"uri\">https://www.gpo.gov/fdsys/granule/WCPD-1994-01-10/WCPD-1994-01-10-Pg4</identifier>\n",
      "<identifier type=\"former granule identifier\">pd10ja94_txt-5</identifier>\n",
      "<location>\n",
      "<url displayLabel=\"Content Detail\" access=\"object in context\">https://www.gpo.gov/fdsys/granule/WCPD-1994-01-10/WCPD-1994-01-10-Pg4/content-detail.html</url>\n",
      "<url access=\"raw object\" displayLabel=\"PDF rendition\">https://www.gpo.gov/fdsys/pkg/WCPD-1994-01-10/pdf/WCPD-1994-01-10-Pg4.pdf</url>\n",
      "<url access=\"raw object\" displayLabel=\"HTML rendition\">https://www.gpo.gov/fdsys/pkg/WCPD-1994-01-10/html/WCPD-1994-01-10-Pg4.htm</url>\n",
      "</location>\n",
      "<subject>\n",
      "<topic>Communications to Congress</topic>\n",
      "</subject>\n",
      "<physicalDescription>\n",
      "<extent>1 p.</extent>\n",
      "</physicalDescription>\n",
      "<part type=\"article\">\n",
      "<extent unit=\"pages\">\n",
      "<start>4</start>\n",
      "<end>4</end>\n",
      "</extent>\n",
      "</part>\n",
      "<identifier type=\"preferred citation\">30 WCPD 4</identifier>\n",
      "<relatedItem>\n",
      "<titleInfo>\n",
      "<title>United States Public Law 87-195</title>\n",
      "</titleInfo>\n",
      "<identifier type=\"public law citation\">Public Law 87-195</identifier>\n",
      "</relatedItem>\n",
      "<extension>\n",
      "<searchTitle>Letter to Congressional Leaders Transmitting a Report on Loan Guarantees to Israel; Weekly Compilation of Presidential Documents Vol. 30, No. 1</searchTitle>\n",
      "<granuleClass>PRESDOCU</granuleClass>\n",
      "<accessId>WCPD-1994-01-10-Pg4</accessId>\n",
      "<eventDate>1994-01-03</eventDate>\n",
      "<president id=\"WJC\" party=\"D\">\n",
      "                        <name type=\"authority-lnf\">Clinton, William J.</name>\n",
      "                        <name type=\"authority-fnf\">William J. Clinton</name>\n",
      "                        <name type=\"authority-other\">Bill Clinton</name>\n",
      "                        <name type=\"authority-other\">William Clinton</name>\n",
      "                        <name type=\"authority-other\">William Jefferson Clinton</name>\n",
      "                    </president>\n",
      "<category1>Communications to Congress</category1>\n",
      "<notes>Identical letters were sent to Thomas S. Foley, Speaker of the House of Representatives, and Albert Gore, Jr., President of the Senate.</notes>\n",
      "<law congress=\"87\" isPrivate=\"false\" number=\"195\"/>\n",
      "</extension>\n",
      "<relatedItem type=\"host\" ID=\"P0b002ee1802dd722\">\n",
      "<titleInfo>\n",
      "<title>Weekly Compilation of Presidential Documents</title>\n",
      "<partNumber>Vol. 30, no. 1</partNumber>\n",
      "</titleInfo>\n",
      "<originInfo>\n",
      "<publisher>Office of the Federal Register, National Archives and Records Administration</publisher>\n",
      "<dateIssued encoding=\"w3cdtf\">1994-01-10</dateIssued>\n",
      "<issuance>continuing</issuance>\n",
      "<frequency>weekly</frequency>\n",
      "</originInfo>\n",
      "<physicalDescription>\n",
      "<note type=\"source content type\">deposited</note>\n",
      "<digitalOrigin>born digital</digitalOrigin>\n",
      "<extent>11 p.</extent>\n",
      "</physicalDescription>\n",
      "<classification authority=\"sudocs\">AE 2.109:</classification>\n",
      "<classification authority=\"sudocs\">GS 4.114:</classification>\n",
      "<identifier type=\"local\">P0b002ee1802dd722</identifier>\n",
      "<identifier type=\"uri\">https://www.gpo.gov/fdsys/pkg/WCPD-1994-01-10</identifier>\n",
      "<identifier type=\"ILS system id\">000599742</identifier>\n",
      "<identifier type=\"former package identifier\">pd10ja94_txt</identifier>\n",
      "<identifier type=\"preferred citation\">30 WCPD 1</identifier>\n",
      "<location>\n",
      "<url displayLabel=\"Content Detail\" access=\"object in context\">https://www.gpo.gov/fdsys/pkg/WCPD-1994-01-10/content-detail.html</url>\n",
      "<url displayLabel=\"PDF rendition\" access=\"raw object\">https://www.gpo.gov/fdsys/pkg/WCPD-1994-01-10/pdf/WCPD-1994-01-10.pdf</url>\n",
      "</location>\n",
      "<accessCondition type=\"GPO scope determination\">fdlp</accessCondition>\n",
      "<part type=\"issue\">\n",
      "<extent unit=\"pages\">\n",
      "<start>1</start>\n",
      "<end>9</end>\n",
      "</extent>\n",
      "</part>\n",
      "<recordInfo>\n",
      "<recordContentSource authority=\"marcorg\">DGPO</recordContentSource>\n",
      "<recordCreationDate encoding=\"w3cdtf\">2010-08-03</recordCreationDate>\n",
      "<recordChangeDate encoding=\"w3cdtf\">2017-07-18</recordChangeDate>\n",
      "<recordIdentifier source=\"DGPO\">WCPD-1994-01-10</recordIdentifier>\n",
      "<recordOrigin>machine generated</recordOrigin>\n",
      "<languageOfCataloging>\n",
      "<languageTerm type=\"code\" authority=\"iso639-2b\">eng</languageTerm>\n",
      "</languageOfCataloging>\n",
      "</recordInfo>\n",
      "<extension>\n",
      "<docClass>WCPD</docClass>\n",
      "<accessId>WCPD-1994-01-10</accessId>\n",
      "<weekEndingDate>1994-01-07</weekEndingDate>\n",
      "<volume>30</volume>\n",
      "<issue>1</issue>\n",
      "</extension>\n",
      "</relatedItem>\n",
      "</mods>\n",
      "\n"
     ]
    }
   ],
   "source": [
    "file_name4 =  './xmlfiles/letter4.xml'#./file/letter1.txt' #'./file/test1.txt'\n",
    "with open(file_name4, \"r\") as f:\n",
    "    text4 = f.read()\n",
    "print(text4)"
   ]
  },
  {
   "cell_type": "markdown",
   "metadata": {},
   "source": [
    "## President "
   ]
  },
  {
   "cell_type": "code",
   "execution_count": 104,
   "metadata": {},
   "outputs": [
    {
     "data": {
      "text/plain": [
       "'William J. Clinton'"
      ]
     },
     "execution_count": 104,
     "metadata": {},
     "output_type": "execute_result"
    }
   ],
   "source": [
    "president(text4)"
   ]
  },
  {
   "cell_type": "markdown",
   "metadata": {},
   "source": [
    "## Date "
   ]
  },
  {
   "cell_type": "code",
   "execution_count": 105,
   "metadata": {},
   "outputs": [
    {
     "data": {
      "text/plain": [
       "'1994-01-10'"
      ]
     },
     "execution_count": 105,
     "metadata": {},
     "output_type": "execute_result"
    }
   ],
   "source": [
    "date(text4)"
   ]
  },
  {
   "cell_type": "markdown",
   "metadata": {},
   "source": [
    "## Title"
   ]
  },
  {
   "cell_type": "code",
   "execution_count": 106,
   "metadata": {},
   "outputs": [
    {
     "data": {
      "text/plain": [
       "'Letter to Congressional Leaders Transmitting a Report on Loan Guarantees to Israel'"
      ]
     },
     "execution_count": 106,
     "metadata": {},
     "output_type": "execute_result"
    }
   ],
   "source": [
    "title(text4)"
   ]
  },
  {
   "cell_type": "markdown",
   "metadata": {},
   "source": [
    "## DCPD/WCPD"
   ]
  },
  {
   "cell_type": "code",
   "execution_count": 108,
   "metadata": {},
   "outputs": [
    {
     "data": {
      "text/plain": [
       "'199401104'"
      ]
     },
     "execution_count": 108,
     "metadata": {},
     "output_type": "execute_result"
    }
   ],
   "source": [
    "dcpd(text4)"
   ]
  },
  {
   "cell_type": "markdown",
   "metadata": {},
   "source": [
    "## Categories"
   ]
  },
  {
   "cell_type": "code",
   "execution_count": 109,
   "metadata": {},
   "outputs": [
    {
     "data": {
      "text/plain": [
       "'Communications to Congress'"
      ]
     },
     "execution_count": 109,
     "metadata": {},
     "output_type": "execute_result"
    }
   ],
   "source": [
    "categories(text4)"
   ]
  },
  {
   "cell_type": "code",
   "execution_count": null,
   "metadata": {
    "collapsed": true
   },
   "outputs": [],
   "source": []
  }
 ],
 "metadata": {
  "kernelspec": {
   "display_name": "Python 3",
   "language": "python",
   "name": "python3"
  },
  "language_info": {
   "codemirror_mode": {
    "name": "ipython",
    "version": 3
   },
   "file_extension": ".py",
   "mimetype": "text/x-python",
   "name": "python",
   "nbconvert_exporter": "python",
   "pygments_lexer": "ipython3",
   "version": "3.6.3"
  }
 },
 "nbformat": 4,
 "nbformat_minor": 2
}
