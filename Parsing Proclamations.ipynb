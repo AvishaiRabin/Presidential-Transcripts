{
 "cells": [
  {
   "cell_type": "markdown",
   "metadata": {},
   "source": [
    "###### Grabbing our file"
   ]
  },
  {
   "cell_type": "code",
   "execution_count": 106,
   "metadata": {
    "collapsed": true,
    "scrolled": false
   },
   "outputs": [],
   "source": [
    "import os.path\n",
    "import io\n",
    "test1 = 'CPD19930111htmlWCPD19930111Pg7.txt'\n",
    "test2 = 'CPD19931220htmlWCPD19931220Pg2596.txt'\n",
    "test3 = 'CPD20021014htmlWCPD20021014Pg1701.txt'\n",
    "test4 = 'CPD200900244htmlDCPD200900244.txt'\n",
    "test5 = 'CPD201700668htmlDCPD201700668.txt'\n",
    "save_path = \"C:/Users/avish/OneDrive/Documents/Presidential-Transcripts/Files\"\n",
    "name = test5\n",
    "name = os.path.join(save_path, name)\n",
    "file_name = name\n",
    "with open(file_name, \"r\") as f:\n",
    "    text = f.read()"
   ]
  },
  {
   "cell_type": "code",
   "execution_count": 107,
   "metadata": {
    "collapsed": true
   },
   "outputs": [],
   "source": [
    "import re"
   ]
  },
  {
   "cell_type": "markdown",
   "metadata": {
    "collapsed": true
   },
   "source": [
    "###### Administration"
   ]
  },
  {
   "cell_type": "code",
   "execution_count": 108,
   "metadata": {},
   "outputs": [
    {
     "data": {
      "text/plain": [
       "'Donald J. Trump'"
      ]
     },
     "execution_count": 108,
     "metadata": {},
     "output_type": "execute_result"
    }
   ],
   "source": [
    "administration = re.findall('(?<=Administration of ).*?(?=,)', text)\n",
    "if len(administration) == 0:\n",
    "    administration = re.findall('(?<=Now, Therefore, I, ).*?(?=,)', text)[0]\n",
    "else:\n",
    "    administration = administration[0]\n",
    "administration"
   ]
  },
  {
   "cell_type": "markdown",
   "metadata": {},
   "source": [
    "###### Number"
   ]
  },
  {
   "cell_type": "code",
   "execution_count": 109,
   "metadata": {},
   "outputs": [
    {
     "data": {
      "text/plain": [
       "'9644'"
      ]
     },
     "execution_count": 109,
     "metadata": {},
     "output_type": "execute_result"
    }
   ],
   "source": [
    "number = re.findall('(?<=Proclamation ).*?(?=\\D)', text)[0]\n",
    "number"
   ]
  },
  {
   "cell_type": "markdown",
   "metadata": {},
   "source": [
    "###### Title"
   ]
  },
  {
   "cell_type": "code",
   "execution_count": 110,
   "metadata": {},
   "outputs": [
    {
     "data": {
      "text/plain": [
       "\"Proclamation 9644 - Gold Star Mother's and Family's Day, 2017\""
      ]
     },
     "execution_count": 110,
     "metadata": {},
     "output_type": "execute_result"
    }
   ],
   "source": [
    "text = re.sub('\\n\\n', 'SPLIT-HERE', text)\n",
    "badtitle = re.findall('Proclamation \\d[\\w\\W]*?SPLIT-HERE', text)\n",
    "if len(badtitle) == 0:\n",
    "    badtitle = re.findall('Proclamation \\d[\\w\\W]*?<\\/b>', text)\n",
    "    title = re.sub('â€”', ' - ', badtitle[0])\n",
    "    title = re.sub('\\n' ,'', title)\n",
    "    title = re.sub(' <\\/b>', '', title)\n",
    "else:\n",
    "    title = re.sub('â€”', ' - ', badtitle[0])\n",
    "    title = re.sub('SPLIT-HERE', '', title)\n",
    "    title = re.sub('\\n' ,'', title)\n",
    "text = re.sub('SPLIT-HERE', '\\n\\n', text)\n",
    "title"
   ]
  },
  {
   "cell_type": "markdown",
   "metadata": {},
   "source": [
    "###### Date"
   ]
  },
  {
   "cell_type": "code",
   "execution_count": 111,
   "metadata": {},
   "outputs": [
    {
     "data": {
      "text/plain": [
       "'September 22, 2017'"
      ]
     },
     "execution_count": 111,
     "metadata": {},
     "output_type": "execute_result"
    }
   ],
   "source": [
    "date = re.findall(\"(?<=p>\\\\n<i>\\\\n ).*?(?= ) [\\d].*?, \\d\\d\\d\\d\", text)\n",
    "if len(date) == 0:\n",
    "    date = re.findall('\\([A-Z][a-z][a-z][a-z][a-z].*?\\)', text)[0]\n",
    "    date = date[1:len(date)-1]\n",
    "else:\n",
    "    date = date[0]\n",
    "date"
   ]
  },
  {
   "cell_type": "markdown",
   "metadata": {},
   "source": [
    "###### Date Filed"
   ]
  },
  {
   "cell_type": "code",
   "execution_count": 112,
   "metadata": {},
   "outputs": [
    {
     "data": {
      "text/plain": [
       "'11:15 a.m. September 26 2017'"
      ]
     },
     "execution_count": 112,
     "metadata": {},
     "output_type": "execute_result"
    }
   ],
   "source": [
    "filed = re.findall('Filed with the Office of .*\\n*', text)[0]\n",
    "filed = re.findall('\\d.*', filed)[0]\n",
    "filed = re.sub(',', '', filed)\n",
    "filed = re.sub(']', '', filed)\n",
    "filed"
   ]
  },
  {
   "cell_type": "markdown",
   "metadata": {},
   "source": [
    "###### Note"
   ]
  },
  {
   "cell_type": "code",
   "execution_count": 113,
   "metadata": {},
   "outputs": [
    {
     "data": {
      "text/plain": [
       "'This proclamation was published in the Federal Register on September 27.'"
      ]
     },
     "execution_count": 113,
     "metadata": {},
     "output_type": "execute_result"
    }
   ],
   "source": [
    "note = re.findall('This proclamation[^.]*', text)[0]\n",
    "note = re.sub('\\\\n|<i>|<\\/i>', '', note)\n",
    "note = re.sub('       |      ', ' ', note)\n",
    "note = note + '.'\n",
    "note"
   ]
  },
  {
   "cell_type": "markdown",
   "metadata": {},
   "source": [
    "###### Categories"
   ]
  },
  {
   "cell_type": "code",
   "execution_count": 114,
   "metadata": {},
   "outputs": [
    {
     "data": {
      "text/plain": [
       "\"Proclamations : Gold Star Mother's and Family's Day\""
      ]
     },
     "execution_count": 114,
     "metadata": {},
     "output_type": "execute_result"
    }
   ],
   "source": [
    "categories = re.findall('(?<=Categories.[\\n] <\\/i>\\n ).*(?=\\n)', text)\n",
    "if len(categories) == 0:\n",
    "    categories = 'none'\n",
    "else:\n",
    "    categories = categories[0]\n",
    "categories\n"
   ]
  },
  {
   "cell_type": "markdown",
   "metadata": {},
   "source": [
    "###### Subjects"
   ]
  },
  {
   "cell_type": "code",
   "execution_count": 115,
   "metadata": {},
   "outputs": [
    {
     "data": {
      "text/plain": [
       "\"Subjects: Holidays and special observances : Gold Star Mother's and Family's Day.\""
      ]
     },
     "execution_count": 115,
     "metadata": {},
     "output_type": "execute_result"
    }
   ],
   "source": [
    "subjects = re.findall('Subjects.*\\n.*\\n.*', text)\n",
    "if len(subjects) == 0:\n",
    "    subjects = 'none'\n",
    "else:\n",
    "    subjects = subjects[0]\n",
    "    subjects = re.sub('\\n', '', subjects)\n",
    "    subjects = re.sub('<\\/i>', '', subjects)\n",
    "    subjects = re.sub('  ', ' ', subjects)\n",
    "subjects"
   ]
  },
  {
   "cell_type": "markdown",
   "metadata": {
    "collapsed": true
   },
   "source": [
    "###### CPD Number"
   ]
  },
  {
   "cell_type": "code",
   "execution_count": 116,
   "metadata": {},
   "outputs": [
    {
     "data": {
      "text/plain": [
       "'201700668'"
      ]
     },
     "execution_count": 116,
     "metadata": {},
     "output_type": "execute_result"
    }
   ],
   "source": [
    "cpd = re.findall('(?<=DCPD).*?(?=\\.)', name)\n",
    "if len(cpd) == 0:\n",
    "    cpd = re.findall('WCPD\\d*', name)[0]\n",
    "    cpd = re.sub('WCPD', '', cpd)\n",
    "else:\n",
    "    cpd = cpd[0]\n",
    "cpd"
   ]
  },
  {
   "cell_type": "code",
   "execution_count": 117,
   "metadata": {},
   "outputs": [
    {
     "name": "stdout",
     "output_type": "stream",
     "text": [
      "<!DOCTYPE HTML PUBLIC \"-//W3C//DTD HTML 3.2 Final//EN\">\n",
      "<!-- Created from PDF via Acrobat SaveAsXML -->\n",
      "<!-- Mapping table version: 28-February-2003 -->\n",
      "<html>\n",
      " <head>\n",
      "  <meta content=\"Daniel Sweet\" name=\"dc.creator\"/>\n",
      "  <meta content=\"2017-10-16T15:06:07-04:00\" name=\"dc.date\"/>\n",
      "  <meta content=\"2017-10-16T15:06:22-04:00\" name=\"dc.date.modified\"/>\n",
      "  <meta content=\"Adobe Acrobat Exchange-Pro 10.1.16\" name=\"generator\"/>\n",
      " </head>\n",
      " <body alink=\"fushia\" bgcolor=\"white\" link=\"blue\" text=\"black\" vlink=\"purple\">\n",
      "  <div class=\"Sect\">\n",
      "   <p>\n",
      "    <font color=\"#000000\" size=\"+1\">\n",
      "    </font>\n",
      "   </p>\n",
      "  </div>\n",
      " </body>\n",
      "</html>\n",
      "<i>\n",
      " Administration of Donald J. Trump, 2017\n",
      "</i>\n",
      "<p>\n",
      " <b>\n",
      "  Proclamation 9644â€”Gold Star Mother's and Family's Day, 2017\n",
      " </b>\n",
      "</p>\n",
      "<p>\n",
      "</p>\n",
      "<i>\n",
      " September 22, 2017\n",
      "</i>\n",
      "<p>\n",
      " <font size=\"+1\">\n",
      "  <i>\n",
      "   By the President of the United States of America\n",
      "  </i>\n",
      " </font>\n",
      "</p>\n",
      "<p>\n",
      " <i>\n",
      "  A Proclamation\n",
      " </i>\n",
      "</p>\n",
      "<p>\n",
      " As we solemnly observe Gold Star Mother's and Family's Day, we honor and extend our deepest gratitude to the families of military service members who gave their last full measure of devotion to our country. Gold Star families have paid the ultimate price for our Nation's freedom with the life of their loved ones. Our grateful Nation grieves with them in their loss, but also shares their pride in the selfless service of their sons and daughters.\n",
      "</p>\n",
      "<p>\n",
      " Our country is built on the sacrifices of men and women who have willingly raised their hand to defend our Nation and its security. As members of our Armed Forces take an oath to protect our freedoms and liberty, they understand the gravity of their commitment to defend our way of life. And when that commitment results in the ultimate sacrifice, we come together as a Nation to walk beside the devoted families left behind and help them shoulder the vast absence they forever bear. Their loved ones did not die in vain. They gave of themselves to protect and defend the freedoms we all enjoy. Despite their grief, these families bravely move forward with dignity and grace.\n",
      "</p>\n",
      "<p>\n",
      " Despite having endured unfathomable loss, many Gold Star families have turned their sorrow into action and community outreach to help others navigate this difficult journey. Their compassion, courage, determination, and strength inspire us all.\n",
      "</p>\n",
      "<p>\n",
      " When the last rifle volley is fired, the final note of Taps echoes and fades away, and the carefully-folded National Colors are presented, it is our sacred duty to stand with these patriotic families to ensure they receive the care, compassion, and respect they have earned. On this day of remembrance, we pay tribute to those brave men and women in uniform who died protecting our great Nation, and we stand with the families who nurtured and loved them. Gold Star families have our sympathy, but more importantly, they have our respect and our gratitude.\n",
      "</p>\n",
      "<p>\n",
      " The Congress, by Senate Joint Resolution 115 of June 23, 1936 (49 Stat. 1895 as amended), has designated the last Sunday in September as \"Gold Star Mother's Day.\"\n",
      "</p>\n",
      "<p>\n",
      " <i>\n",
      "  Now, Therefore, I, Donald J. Trump,\n",
      " </i>\n",
      " President of the United States of America, by virtue of the authority vested in me by the Constitution and the laws of the United States, do hereby proclaim September 24, 2017, as Gold Star Mother's and Family's Day. I call upon all Government officials to display the flag of the United States over Government buildings on this special day. I also encourage the American people to display the flag and hold appropriate ceremonies as a public expression of our Nation's gratitude and respect for our Gold Star Mothers and Families.\n",
      "</p>\n",
      "<p>\n",
      " <i>\n",
      "  In Witness Whereof,\n",
      " </i>\n",
      " I have hereunto set my hand this twenty-second day of September, in the year of our Lord two thousand seventeen, and of the Independence of the United States of America the two hundred and forty-second.\n",
      "</p>\n",
      "<p>\n",
      " <font size=\"+1\">\n",
      "  D\n",
      "  <font size=\"+1\">\n",
      "   ONALD\n",
      "   <font size=\"+1\">\n",
      "    J.\n",
      "    <font size=\"+1\">\n",
      "     <font size=\"+1\">\n",
      "      T\n",
      "      <font size=\"+1\">\n",
      "       RUMP\n",
      "       <font size=\"+1\">\n",
      "        <font size=\"+1\">\n",
      "         [Filed with the Office of the Federal Register, 11:15 a.m., September 26, 2017]\n",
      "        </font>\n",
      "       </font>\n",
      "      </font>\n",
      "     </font>\n",
      "    </font>\n",
      "   </font>\n",
      "  </font>\n",
      " </font>\n",
      "</p>\n",
      "<p>\n",
      " N\n",
      " <font size=\"+1\">\n",
      "  OTE\n",
      "  <font size=\"+1\">\n",
      "   : This proclamation was published in the\n",
      "   <i>\n",
      "    Federal Register\n",
      "   </i>\n",
      "   on September 27.\n",
      "  </font>\n",
      " </font>\n",
      "</p>\n",
      "<p>\n",
      " <i>\n",
      "  Categories:\n",
      " </i>\n",
      " Proclamations : Gold Star Mother's and Family's Day\n",
      " <i>\n",
      "  .\n",
      " </i>\n",
      "</p>\n",
      "<p>\n",
      " <i>\n",
      "  Subjects:\n",
      " </i>\n",
      " Holidays and special observances : Gold Star Mother's and Family's Day.\n",
      "</p>\n",
      "<p>\n",
      " <i>\n",
      "  DCPD Number:\n",
      " </i>\n",
      " DCPD201700668.\n",
      "</p>\n",
      "\n"
     ]
    }
   ],
   "source": [
    "print(text)"
   ]
  },
  {
   "cell_type": "code",
   "execution_count": null,
   "metadata": {
    "collapsed": true
   },
   "outputs": [],
   "source": []
  },
  {
   "cell_type": "code",
   "execution_count": null,
   "metadata": {
    "collapsed": true
   },
   "outputs": [],
   "source": []
  }
 ],
 "metadata": {
  "kernelspec": {
   "display_name": "Python 3",
   "language": "python",
   "name": "python3"
  },
  "language_info": {
   "codemirror_mode": {
    "name": "ipython",
    "version": 3
   },
   "file_extension": ".py",
   "mimetype": "text/x-python",
   "name": "python",
   "nbconvert_exporter": "python",
   "pygments_lexer": "ipython3",
   "version": "3.6.2"
  }
 },
 "nbformat": 4,
 "nbformat_minor": 2
}
