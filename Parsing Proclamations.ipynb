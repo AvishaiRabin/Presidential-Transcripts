{
 "cells": [
  {
   "cell_type": "markdown",
   "metadata": {},
   "source": [
    "###### Grabbing our file"
   ]
  },
  {
   "cell_type": "code",
   "execution_count": 73,
   "metadata": {
    "scrolled": false
   },
   "outputs": [],
   "source": [
    "import os.path\n",
    "import io\n",
    "name1 = 'CPD20030310htmlWCPD20030310Pg2642.txt'\n",
    "name2 = 'CPD201700471htmlDCPD201700471.txt'\n",
    "save_path = \"C:/Users/avish/OneDrive/Documents/Presidential-Transcripts/Files\"\n",
    "name = name1\n",
    "name = os.path.join(save_path, name)\n",
    "file_name = name\n",
    "with open(file_name, \"r\") as f:\n",
    "    text = f.read()"
   ]
  },
  {
   "cell_type": "code",
   "execution_count": 74,
   "metadata": {
    "collapsed": true
   },
   "outputs": [],
   "source": [
    "import re"
   ]
  },
  {
   "cell_type": "markdown",
   "metadata": {
    "collapsed": true
   },
   "source": [
    "###### Administration"
   ]
  },
  {
   "cell_type": "code",
   "execution_count": 75,
   "metadata": {},
   "outputs": [
    {
     "data": {
      "text/plain": [
       "'George W. Bush'"
      ]
     },
     "execution_count": 75,
     "metadata": {},
     "output_type": "execute_result"
    }
   ],
   "source": [
    "administration = re.findall('(?<=Administration of ).*?(?=,)', text)\n",
    "if len(administration) == 0:\n",
    "    administration = re.findall('(?<=Now, Therefore, I, ).*?(?=,)', text)[0]\n",
    "else:\n",
    "    administration = administration[0]\n",
    "administration"
   ]
  },
  {
   "cell_type": "markdown",
   "metadata": {},
   "source": [
    "###### Number"
   ]
  },
  {
   "cell_type": "code",
   "execution_count": 76,
   "metadata": {},
   "outputs": [
    {
     "data": {
      "text/plain": [
       "'7650'"
      ]
     },
     "execution_count": 76,
     "metadata": {},
     "output_type": "execute_result"
    }
   ],
   "source": [
    "number = re.findall('(?<=Proclamation ).*?(?=\\D)', text)[0]\n",
    "number"
   ]
  },
  {
   "cell_type": "markdown",
   "metadata": {},
   "source": [
    "###### Title"
   ]
  },
  {
   "cell_type": "code",
   "execution_count": 77,
   "metadata": {},
   "outputs": [
    {
     "data": {
      "text/plain": [
       "'Proclamation 7650--National Colorectal Cancer Awareness Month, 2003'"
      ]
     },
     "execution_count": 77,
     "metadata": {},
     "output_type": "execute_result"
    }
   ],
   "source": [
    "badtitle = re.findall('Proclamation \\d[^\\n]*', text)[0]\n",
    "title = re.sub('â€”', ' - ', badtitle)\n",
    "title"
   ]
  },
  {
   "cell_type": "markdown",
   "metadata": {},
   "source": [
    "###### Date"
   ]
  },
  {
   "cell_type": "code",
   "execution_count": 78,
   "metadata": {},
   "outputs": [
    {
     "data": {
      "text/plain": [
       "'Monday, March 10, 2003'"
      ]
     },
     "execution_count": 78,
     "metadata": {},
     "output_type": "execute_result"
    }
   ],
   "source": [
    "date = re.findall(\"(?<=p>\\\\n<i>\\\\n ).*?(?= ) [\\d].*?, \\d\\d\\d\\d\", text)\n",
    "if len(date) == 0:\n",
    "    date = re.findall('\\([A-Z][a-z][a-z][a-z][a-z].*?\\)', text)[0]\n",
    "    date = date[1:len(date)-1]\n",
    "else:\n",
    "    date = date[0]\n",
    "date"
   ]
  },
  {
   "cell_type": "markdown",
   "metadata": {},
   "source": [
    "###### Date Filed"
   ]
  },
  {
   "cell_type": "code",
   "execution_count": 79,
   "metadata": {},
   "outputs": [
    {
     "data": {
      "text/plain": [
       "'39, Number 10 (Monday, March 10, 2003)'"
      ]
     },
     "execution_count": 79,
     "metadata": {},
     "output_type": "execute_result"
    }
   ],
   "source": [
    "filed = re.findall('\\[.*\\]', text)[0]\n",
    "filed = filed[1:len(filed)-1]\n",
    "filed = re.findall('[\\d].*', filed)[0]\n",
    "filed"
   ]
  },
  {
   "cell_type": "markdown",
   "metadata": {},
   "source": [
    "###### Note"
   ]
  },
  {
   "cell_type": "code",
   "execution_count": 80,
   "metadata": {},
   "outputs": [
    {
     "data": {
      "text/plain": [
       "'This proclamation was published in the Federal Register on March 5.'"
      ]
     },
     "execution_count": 80,
     "metadata": {},
     "output_type": "execute_result"
    }
   ],
   "source": [
    "note = re.findall('This proclamation[^.]*', text)[0]\n",
    "note = re.sub('\\\\n|<i>|<\\/i>', '', note)\n",
    "note = re.sub('       |      ', ' ', note)\n",
    "note = note + '.'\n",
    "note"
   ]
  },
  {
   "cell_type": "markdown",
   "metadata": {},
   "source": [
    "###### Categories"
   ]
  },
  {
   "cell_type": "code",
   "execution_count": 81,
   "metadata": {},
   "outputs": [
    {
     "data": {
      "text/plain": [
       "'none'"
      ]
     },
     "execution_count": 81,
     "metadata": {},
     "output_type": "execute_result"
    }
   ],
   "source": [
    "categories = re.findall('(?<=Categories.[\\n] <\\/i>\\n ).*(?=\\n)', text)\n",
    "if len(categories) == 0:\n",
    "    categories = 'none'\n",
    "else:\n",
    "    categories = categories[0]\n",
    "categories\n"
   ]
  },
  {
   "cell_type": "markdown",
   "metadata": {},
   "source": [
    "###### Subjects"
   ]
  },
  {
   "cell_type": "code",
   "execution_count": 96,
   "metadata": {},
   "outputs": [
    {
     "data": {
      "text/plain": [
       "'C:/Users/avish/OneDrive/Documents/Presidential-Transcripts/Files\\\\CPD20030310htmlWCPD20030310Pg2642.txt'"
      ]
     },
     "execution_count": 96,
     "metadata": {},
     "output_type": "execute_result"
    }
   ],
   "source": [
    "subjects = re.findall('Subjects.*\\n.*\\n.*', text)\n",
    "if len(subjects) == 0:\n",
    "    subjects = 'none'\n",
    "else:\n",
    "    subjects = subjects[0]\n",
    "    subjects = re.sub('\\n', '', subjects)\n",
    "    subjects = re.sub('<\\/i>', '', subjects)\n",
    "    subjects = re.sub('  ', ' ', subjects)\n",
    "subjects"
   ]
  },
  {
   "cell_type": "markdown",
   "metadata": {
    "collapsed": true
   },
   "source": [
    "###### CPD Number"
   ]
  },
  {
   "cell_type": "code",
   "execution_count": 99,
   "metadata": {},
   "outputs": [
    {
     "data": {
      "text/plain": [
       "'20030310'"
      ]
     },
     "execution_count": 99,
     "metadata": {},
     "output_type": "execute_result"
    }
   ],
   "source": [
    "cpd = re.findall('(?<=DCPD).*?(?=\\.)', name)\n",
    "if len(cpd) == 0:\n",
    "    cpd = re.findall('WCPD\\d*', name)[0]\n",
    "    cpd = re.sub('WCPD', '', cpd)\n",
    "else:\n",
    "    cpd = cpd[0]\n",
    "cpd"
   ]
  },
  {
   "cell_type": "code",
   "execution_count": 100,
   "metadata": {},
   "outputs": [
    {
     "name": "stdout",
     "output_type": "stream",
     "text": [
      "<html>\n",
      " <head>\n",
      "  <title>\n",
      "   Weekly Compilation of Presidential Documents Volume 39 Issue 10 (Monday, March 10, 2003)\n",
      "  </title>\n",
      " </head>\n",
      " <body>\n",
      "  <pre>[Weekly Compilation of Presidential Documents Volume 39, Number 10 (Monday, March 10, 2003)]\n",
      "[Pages 264-266]\n",
      "[Online from the Government Publishing Office, <a href=\"http://www.gpo.gov\">www.gpo.gov</a>]\n",
      "\n",
      "&lt;R04&gt;\n",
      "Proclamation 7650--National Colorectal Cancer Awareness Month, 2003\n",
      "\n",
      " February 28, 2003\n",
      "\n",
      " By the President of the United States\n",
      "\n",
      " of America\n",
      "\n",
      " A Proclamation\n",
      "\n",
      "    Colorectal cancer touches the lives of many Americans. This year, it \n",
      "is estimated that more than 148,000 new cases of colorectal cancer will \n",
      "be diagnosed. More than 56,000 people may die from this disease, making \n",
      "it a leading cause of cancer death in our Nation. We have achieved great \n",
      "progress in understanding what causes\n",
      "\n",
      "[[Page 265]]\n",
      "\n",
      "colorectal cancer, and how it develops and spreads. This fourth national \n",
      "observance once again helps increase awareness. Increased awareness can \n",
      "help us reach my Administration's goal, known as ``Healthy People \n",
      "2010,'' administered by the Department of Health and Human Services, to \n",
      "reduce the rate of colorectal cancer deaths by 34 percent by the year \n",
      "2010.\n",
      "    Like many cancers, the development of colorectal cancer can take \n",
      "many years. Screening is an important tool to help detect colorectal \n",
      "cancer early by identifying precancerous growths or polyps, when \n",
      "treatment is more likely to be successful.\n",
      "    More than 90 percent of people who are diagnosed with colorectal \n",
      "cancer are over the age of 50. Yet, recent data indicates that less than \n",
      "40 percent of adults age 50 or older have had one of the available \n",
      "colorectal cancer screening tests within recommended intervals. \n",
      "Researchers estimate that if everyone age 50 or older received regular \n",
      "colorectal cancer screenings, at least one-third of the deaths would be \n",
      "prevented.\n",
      "    Individuals must realize the importance of talking with their \n",
      "healthcare providers about when to begin screening, which tests to have, \n",
      "the benefits and risks of each test, and how often to schedule \n",
      "appointments. To help our citizens detect this disease, the Centers for \n",
      "Medicare and Medicaid Services (CMS) provides Medicare coverage for \n",
      "regular colorectal cancer screening tests to help detect precancerous \n",
      "conditions or colorectal cancer early.\n",
      "    The National Cancer Institute (NCI), a component of the National \n",
      "Institutes of Health, is the Nation's principal research agency in the \n",
      "fight against colorectal cancer. The NCI invested approximately $245 \n",
      "million in 2002, and it will dedicate an estimated $267 million this \n",
      "year to advance our understanding of this disease. The Centers for \n",
      "Disease Control and Prevention (CDC) also plays an important role in our \n",
      "efforts to save lives and reduce the burden of colorectal cancer. Last \n",
      "year, the CDC allocated $12 million to educate the public and health \n",
      "professionals about colorectal cancer screening, and to conduct and \n",
      "support research efforts related to increasing national colorectal \n",
      "cancer screening rates.\n",
      "    The CDC, CMS, and NCI are participating together in the Screen for \n",
      "Life: National Colorectal Cancer Action Campaign to educate Americans \n",
      "aged 50 and older, particularly minority groups, about the benefits of \n",
      "colorectal cancer screening. Another coordinated effort is the Health \n",
      "Disparities Collaboratives, a public-private partnership that involves \n",
      "the Health Resources and Services Administration, CDC, NCI, and the \n",
      "Institute for Healthcare Improvement. These groups are focusing on \n",
      "screening and follow-up care for people who traditionally lack access to \n",
      "quality health care.\n",
      "    During this month, I encourage Americans to join me in the crucial \n",
      "effort to save lives by taking action against colorectal cancer by \n",
      "talking with healthcare providers about screening, telling friends and \n",
      "family members about the importance of early detection, and providing \n",
      "support for those diagnosed with colorectal cancer. By working together \n",
      "to increase awareness and supporting research about this disease, we can \n",
      "make a difference in the lives of our citizens and people around the \n",
      "world.\n",
      "     Now, Therefore, I, George W. Bush, President of the United States \n",
      "of America, by virtue of the authority vested in me by the Constitution \n",
      "and laws of the United States, do hereby proclaim March 2003 as National \n",
      "Colorectal Cancer Awareness Month. I call upon all Americans to reaffirm \n",
      "our Nation's continuing commitment to controlling and curing colorectal \n",
      "cancer.\n",
      "     In Witness Whereof, I have hereunto set my hand this twenty-eighth \n",
      "day of February, in the year of our Lord two thousand three, and of the \n",
      "Independence of the United States of America the two hundred and twenty-\n",
      "seventh.\n",
      "                                                George W. Bush\n",
      "\n",
      " [Filed with the Office of the Federal Register, 9:11 a.m., March 4, \n",
      "2003]\n",
      "\n",
      "Note: This proclamation was published in the Federal Register on March \n",
      "5. This item was not received in time for publication in the appropriate \n",
      "issue.\n",
      "\n",
      "[[Page 266]]\n",
      "\n",
      "\n",
      "\n",
      "</pre>\n",
      " </body>\n",
      "</html>\n"
     ]
    }
   ],
   "source": [
    "print(text)"
   ]
  },
  {
   "cell_type": "code",
   "execution_count": null,
   "metadata": {
    "collapsed": true
   },
   "outputs": [],
   "source": []
  }
 ],
 "metadata": {
  "kernelspec": {
   "display_name": "Python 3",
   "language": "python",
   "name": "python3"
  },
  "language_info": {
   "codemirror_mode": {
    "name": "ipython",
    "version": 3
   },
   "file_extension": ".py",
   "mimetype": "text/x-python",
   "name": "python",
   "nbconvert_exporter": "python",
   "pygments_lexer": "ipython3",
   "version": "3.6.2"
  }
 },
 "nbformat": 4,
 "nbformat_minor": 2
}
