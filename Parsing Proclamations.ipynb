{
 "cells": [
  {
   "cell_type": "markdown",
   "metadata": {},
   "source": [
    "###### Grabbing our file"
   ]
  },
  {
   "cell_type": "code",
   "execution_count": 1,
   "metadata": {
    "collapsed": true,
    "scrolled": false
   },
   "outputs": [],
   "source": [
    "import os.path\n",
    "import io\n",
    "test1 = 'CPD19930111htmlWCPD19930111Pg7.txt'\n",
    "test2 = 'CPD19931220htmlWCPD19931220Pg2596.txt'\n",
    "test3 = 'CPD20021014htmlWCPD20021014Pg1701.txt'\n",
    "test4 = 'CPD200900244htmlDCPD200900244.txt'\n",
    "test5 = 'CPD201700668htmlDCPD201700668.txt'\n",
    "save_path = \"C:/Users/avish/OneDrive/Documents/Presidential-Transcripts/Files\"\n",
    "name = test4\n",
    "name = os.path.join(save_path, name)\n",
    "file_name = name\n",
    "with open(file_name, \"r\") as f:\n",
    "    text = f.read()"
   ]
  },
  {
   "cell_type": "code",
   "execution_count": 2,
   "metadata": {
    "collapsed": true
   },
   "outputs": [],
   "source": [
    "import re"
   ]
  },
  {
   "cell_type": "markdown",
   "metadata": {
    "collapsed": true
   },
   "source": [
    "###### Administration"
   ]
  },
  {
   "cell_type": "code",
   "execution_count": 3,
   "metadata": {},
   "outputs": [
    {
     "data": {
      "text/plain": [
       "'Barack H. Obama'"
      ]
     },
     "execution_count": 3,
     "metadata": {},
     "output_type": "execute_result"
    }
   ],
   "source": [
    "administration = re.findall('(?<=Administration of ).*?(?=,)', text)\n",
    "if len(administration) == 0:\n",
    "    administration = re.findall('(?<=Now, Therefore, I, ).*?(?=,)', text)[0]\n",
    "else:\n",
    "    administration = administration[0]\n",
    "administration"
   ]
  },
  {
   "cell_type": "markdown",
   "metadata": {},
   "source": [
    "###### Number"
   ]
  },
  {
   "cell_type": "code",
   "execution_count": 4,
   "metadata": {},
   "outputs": [
    {
     "data": {
      "text/plain": [
       "'8358'"
      ]
     },
     "execution_count": 4,
     "metadata": {},
     "output_type": "execute_result"
    }
   ],
   "source": [
    "number = re.findall('(?<=Proclamation ).*?(?=\\D)', text)[0]\n",
    "number"
   ]
  },
  {
   "cell_type": "markdown",
   "metadata": {},
   "source": [
    "###### Title"
   ]
  },
  {
   "cell_type": "code",
   "execution_count": 5,
   "metadata": {},
   "outputs": [
    {
     "data": {
      "text/plain": [
       "'Proclamation 8358 - National D.A.R.E. Day, 2009'"
      ]
     },
     "execution_count": 5,
     "metadata": {},
     "output_type": "execute_result"
    }
   ],
   "source": [
    "text = re.sub('\\n\\n', 'SPLIT-HERE', text)\n",
    "badtitle = re.findall('Proclamation \\d[\\w\\W]*?SPLIT-HERE', text)\n",
    "if len(badtitle) == 0:\n",
    "    badtitle = re.findall('Proclamation \\d[\\w\\W]*?<\\/b>', text)\n",
    "    title = re.sub('â€”', ' - ', badtitle[0])\n",
    "    title = re.sub('\\n' ,'', title)\n",
    "    title = re.sub(' <\\/b>', '', title)\n",
    "else:\n",
    "    title = re.sub('â€”', ' - ', badtitle[0])\n",
    "    title = re.sub('SPLIT-HERE', '', title)\n",
    "    title = re.sub('\\n' ,'', title)\n",
    "text = re.sub('SPLIT-HERE', '\\n\\n', text)\n",
    "title"
   ]
  },
  {
   "cell_type": "markdown",
   "metadata": {},
   "source": [
    "###### Date"
   ]
  },
  {
   "cell_type": "code",
   "execution_count": 6,
   "metadata": {},
   "outputs": [
    {
     "data": {
      "text/plain": [
       "'April 8, 2009'"
      ]
     },
     "execution_count": 6,
     "metadata": {},
     "output_type": "execute_result"
    }
   ],
   "source": [
    "date = re.findall(\"(?<=p>\\\\n<i>\\\\n ).*?(?= ) [\\d].*?, \\d\\d\\d\\d\", text)\n",
    "if len(date) == 0:\n",
    "    date = re.findall('\\([A-Z][a-z][a-z][a-z][a-z].*?\\)', text)[0]\n",
    "    date = date[1:len(date)-1]\n",
    "else:\n",
    "    date = date[0]\n",
    "date"
   ]
  },
  {
   "cell_type": "markdown",
   "metadata": {},
   "source": [
    "###### Date Filed"
   ]
  },
  {
   "cell_type": "code",
   "execution_count": 7,
   "metadata": {},
   "outputs": [
    {
     "data": {
      "text/plain": [
       "'11:15 a.m. April 9 2009'"
      ]
     },
     "execution_count": 7,
     "metadata": {},
     "output_type": "execute_result"
    }
   ],
   "source": [
    "filed = re.findall('Filed with the Office of .*\\n*', text)[0]\n",
    "filed = re.findall('\\d.*', filed)[0]\n",
    "filed = re.sub(',', '', filed)\n",
    "filed = re.sub(']', '', filed)\n",
    "filed"
   ]
  },
  {
   "cell_type": "markdown",
   "metadata": {},
   "source": [
    "###### Note"
   ]
  },
  {
   "cell_type": "code",
   "execution_count": 8,
   "metadata": {},
   "outputs": [
    {
     "data": {
      "text/plain": [
       "'This proclamation was published in the Federal Register on April 10.'"
      ]
     },
     "execution_count": 8,
     "metadata": {},
     "output_type": "execute_result"
    }
   ],
   "source": [
    "note = re.findall('This proclamation[^.]*', text)[0]\n",
    "note = re.sub('\\\\n|<i>|<\\/i>', '', note)\n",
    "note = re.sub('       |      ', ' ', note)\n",
    "note = note + '.'\n",
    "note"
   ]
  },
  {
   "cell_type": "markdown",
   "metadata": {},
   "source": [
    "###### Categories"
   ]
  },
  {
   "cell_type": "code",
   "execution_count": null,
   "metadata": {},
   "outputs": [],
   "source": [
    "categories = re.findall('(?<=Categories.[\\n] <\\/i>\\n ).*(?=\\n)', text)\n",
    "if len(categories) == 0:\n",
    "    categories = 'none'\n",
    "else:\n",
    "    categories = categories[0]\n",
    "categories\n"
   ]
  },
  {
   "cell_type": "markdown",
   "metadata": {},
   "source": [
    "###### Subjects"
   ]
  },
  {
   "cell_type": "code",
   "execution_count": null,
   "metadata": {},
   "outputs": [],
   "source": [
    "subjects = re.findall('Subjects.*\\n.*\\n.*', text)\n",
    "if len(subjects) == 0:\n",
    "    subjects = 'none'\n",
    "else:\n",
    "    subjects = subjects[0]\n",
    "    subjects = re.sub('\\n', '', subjects)\n",
    "    subjects = re.sub('<\\/i>', '', subjects)\n",
    "    subjects = re.sub('  ', ' ', subjects)\n",
    "subjects"
   ]
  },
  {
   "cell_type": "markdown",
   "metadata": {
    "collapsed": true
   },
   "source": [
    "###### CPD Number"
   ]
  },
  {
   "cell_type": "code",
   "execution_count": null,
   "metadata": {},
   "outputs": [],
   "source": [
    "cpd = re.findall('(?<=DCPD).*?(?=\\.)', name)\n",
    "if len(cpd) == 0:\n",
    "    cpd = re.findall('WCPD\\d*', name)[0]\n",
    "    cpd = re.sub('WCPD', '', cpd)\n",
    "else:\n",
    "    cpd = cpd[0]\n",
    "cpd"
   ]
  },
  {
   "cell_type": "code",
   "execution_count": null,
   "metadata": {},
   "outputs": [],
   "source": [
    "print(text)"
   ]
  },
  {
   "cell_type": "code",
   "execution_count": null,
   "metadata": {
    "collapsed": true
   },
   "outputs": [],
   "source": []
  },
  {
   "cell_type": "code",
   "execution_count": null,
   "metadata": {
    "collapsed": true
   },
   "outputs": [],
   "source": []
  }
 ],
 "metadata": {
  "kernelspec": {
   "display_name": "Python 3",
   "language": "python",
   "name": "python3"
  },
  "language_info": {
   "codemirror_mode": {
    "name": "ipython",
    "version": 3
   },
   "file_extension": ".py",
   "mimetype": "text/x-python",
   "name": "python",
   "nbconvert_exporter": "python",
   "pygments_lexer": "ipython3",
   "version": "3.6.2"
  }
 },
 "nbformat": 4,
 "nbformat_minor": 2
}
