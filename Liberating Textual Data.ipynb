{
 "cells": [
  {
   "cell_type": "markdown",
   "metadata": {},
   "source": [
    "# Liberating Presidential Transcripts"
   ]
  },
  {
   "cell_type": "code",
   "execution_count": 1,
   "metadata": {
    "collapsed": true
   },
   "outputs": [],
   "source": [
    "import requests"
   ]
  },
  {
   "cell_type": "markdown",
   "metadata": {},
   "source": [
    "##### Using the ProPublica API\n",
    "Saving this here just in case we want to use this later on."
   ]
  },
  {
   "cell_type": "code",
   "execution_count": 2,
   "metadata": {
    "collapsed": true
   },
   "outputs": [],
   "source": [
    "#key = 'KYXeq5PJ4PFO8sRiQTTLJH9v2SVrw7tubGzQ2jJ7'\n",
    "#url = 'https://api.propublica.org/congress/v1/115/senate/members.json'\n",
    "#import requests\n",
    "#headers = {\"X-API-Key\": key}\n",
    "#r = requests.get(url, headers=headers)"
   ]
  },
  {
   "cell_type": "markdown",
   "metadata": {},
   "source": [
    "### Using Selenium to scrape our data and BeautifulSoup to store it"
   ]
  },
  {
   "cell_type": "code",
   "execution_count": 3,
   "metadata": {
    "collapsed": true
   },
   "outputs": [],
   "source": [
    "indexhtml = \"https://www.gpo.gov/fdsys/browse/collection.action?collectionCode=CPD&browsePath=2018&isCollapsed=true&leafLevelBrowse=false&ycord=0\""
   ]
  },
  {
   "cell_type": "code",
   "execution_count": 4,
   "metadata": {
    "collapsed": true
   },
   "outputs": [],
   "source": [
    "import os\n",
    "import urllib\n",
    "from selenium import webdriver\n",
    "from selenium.webdriver.common.keys import Keys\n",
    "from time import sleep\n",
    "from bs4 import BeautifulSoup\n",
    "import requests\n",
    "import re\n",
    "import io\n",
    "import os.path"
   ]
  },
  {
   "cell_type": "markdown",
   "metadata": {},
   "source": [
    "###### Downloaded all of our files"
   ]
  },
  {
   "cell_type": "code",
   "execution_count": null,
   "metadata": {
    "scrolled": true
   },
   "outputs": [
    {
     "name": "stdout",
     "output_type": "stream",
     "text": [
      "Year: 21\n",
      "Month: 0\n",
      "Month: 1\n",
      "Month: 2\n",
      "Month: 3\n",
      "Month: 4\n",
      "Month: 5\n",
      "Month: 6\n",
      "Month: 7\n",
      "Month: 8\n",
      "Month: 9\n",
      "Month: 10\n",
      "Month: 11\n",
      "Year: 22\n",
      "Month: 0\n",
      "Month: 1\n",
      "Month: 2\n",
      "Month: 3\n",
      "Month: 4\n",
      "Month: 5\n",
      "Month: 6\n",
      "Month: 7\n",
      "Month: 8\n",
      "Month: 9\n",
      "Month: 10\n",
      "Month: 11\n",
      "Year: 23\n",
      "Month: 0\n",
      "Month: 1\n",
      "Month: 2\n",
      "Month: 3\n",
      "Month: 4\n",
      "Month: 5\n",
      "Month: 6\n",
      "Month: 7\n",
      "Month: 8\n",
      "Month: 9\n",
      "Month: 10\n",
      "Month: 11\n",
      "Year: 24\n",
      "Month: 0\n",
      "Month: 1\n",
      "Month: 2\n",
      "Month: 3\n",
      "Month: 4\n",
      "Month: 5\n",
      "Month: 6\n",
      "Month: 7\n",
      "Month: 8\n",
      "Month: 9\n",
      "Month: 10\n",
      "Month: 11\n",
      "Year: 25\n",
      "Month: 0\n",
      "Month: 1\n",
      "Month: 2\n",
      "Month: 3\n",
      "Month: 4\n",
      "Month: 5\n",
      "Month: 6\n",
      "Month: 7\n",
      "Month: 8\n",
      "Month: 9\n",
      "Month: 10\n",
      "Month: 11\n"
     ]
    }
   ],
   "source": [
    "pres_page = webdriver.Firefox()\n",
    "pres_page.get(indexhtml)\n",
    "years=pres_page.find_elements_by_xpath(\".//div[@class='level1 browse-level']/a\")\n",
    "save_path = \"C:/Users/avish/OneDrive/Documents/Presidential-Transcripts/Files\"\n",
    "for year in range(25, len(years)):\n",
    "    print(\"Year: \" + str(year))\n",
    "    years = pres_page.find_elements_by_xpath(\".//div[@class='level1 browse-level']/a\")\n",
    "    years[year].click()\n",
    "    months = pres_page.find_elements_by_xpath(\".//div[@class='level3 browse-leaf-level browse-leaf-level-top']/a|.//div[@class='level3 browse-leaf-level ']/a\")\n",
    "    for month in range(0, len(months)):\n",
    "        print(\"Month: \" + str(month))\n",
    "        months = pres_page.find_elements_by_xpath(\".//div[@class='level3 browse-leaf-level browse-leaf-level-top']/a|.//div[@class='level3 browse-leaf-level ']/a\")\n",
    "        months[month].click()\n",
    "        texts = pres_page.find_elements_by_partial_link_text(\"Text\")\n",
    "        text_links = [i.get_attribute('href') for i in texts]\n",
    "        for i in text_links:\n",
    "            test = requests.get(i)\n",
    "            newsoup = BeautifulSoup(test.content, 'html.parser')\n",
    "            text = newsoup.prettify\n",
    "            title = re.findall(r\"\\w\", test.url)\n",
    "            title = \"\".join(title)\n",
    "            title = re.findall(r\"CPD.+$\", title)\n",
    "            title = title[0][:len(title)-4] + '.txt'\n",
    "            title = os.path.join(save_path, title)\n",
    "            with io.open(title, \"w\", encoding=\"utf-8\") as f:\n",
    "                f.write(text())\n",
    "                f.close()\n",
    "        pres_page.back()\n",
    "    pres_page.back()\n",
    "print(\"Finished downloading.\")"
   ]
  },
  {
   "cell_type": "code",
   "execution_count": null,
   "metadata": {
    "collapsed": true
   },
   "outputs": [],
   "source": []
  }
 ],
 "metadata": {
  "kernelspec": {
   "display_name": "Python 3",
   "language": "python",
   "name": "python3"
  },
  "language_info": {
   "codemirror_mode": {
    "name": "ipython",
    "version": 3
   },
   "file_extension": ".py",
   "mimetype": "text/x-python",
   "name": "python",
   "nbconvert_exporter": "python",
   "pygments_lexer": "ipython3",
   "version": "3.6.2"
  }
 },
 "nbformat": 4,
 "nbformat_minor": 2
}
