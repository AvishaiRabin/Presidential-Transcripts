{
 "cells": [
  {
   "cell_type": "markdown",
   "metadata": {},
   "source": [
    "# Liberating Presidential Transcripts"
   ]
  },
  {
   "cell_type": "code",
   "execution_count": 1,
   "metadata": {
    "collapsed": true
   },
   "outputs": [],
   "source": [
    "import requests"
   ]
  },
  {
   "cell_type": "markdown",
   "metadata": {},
   "source": [
    "##### Using the ProPublica API\n",
    "Saving this here just in case we want to use this later on."
   ]
  },
  {
   "cell_type": "code",
   "execution_count": 2,
   "metadata": {
    "collapsed": true
   },
   "outputs": [],
   "source": [
    "#key = 'KYXeq5PJ4PFO8sRiQTTLJH9v2SVrw7tubGzQ2jJ7'\n",
    "#url = 'https://api.propublica.org/congress/v1/115/senate/members.json'\n",
    "#import requests\n",
    "#headers = {\"X-API-Key\": key}\n",
    "#r = requests.get(url, headers=headers)"
   ]
  },
  {
   "cell_type": "markdown",
   "metadata": {},
   "source": [
    "###### Using Selenium to scrape our data"
   ]
  },
  {
   "cell_type": "code",
   "execution_count": 2,
   "metadata": {
    "collapsed": true
   },
   "outputs": [],
   "source": [
    "indexhtml = \"https://www.gpo.gov/fdsys/browse/collection.action?collectionCode=CPD&browsePath=2018&isCollapsed=true&leafLevelBrowse=false&ycord=0\""
   ]
  },
  {
   "cell_type": "code",
   "execution_count": 33,
   "metadata": {},
   "outputs": [],
   "source": [
    "import os\n",
    "import urllib\n",
    "from selenium import webdriver\n",
    "from selenium.webdriver.common.keys import Keys\n",
    "from time import sleep\n",
    "from bs4 import BeautifulSoup\n",
    "import requests"
   ]
  },
  {
   "cell_type": "code",
   "execution_count": null,
   "metadata": {},
   "outputs": [
    {
     "name": "stdout",
     "output_type": "stream",
     "text": [
      "<Response [200]>\n",
      "\n",
      "\n",
      "\n",
      "\n",
      "\n",
      "\n",
      "\n",
      "\n",
      "\n",
      "\n",
      "\n",
      "Administration of Donald J. Trump, 2018 Statement on National Mentoring Month, 2018 January 1, 2018 In our youth, we must learn the behaviors and habits of successful adults: how to treat others, how to overcome failure, and how to give back to our communities, for example. Many learn these things from their parents, grandparents, or other family members. Too many, however, lack ready access to strong, compassionate adult role models. During National Mentoring Month, we thank the millions of Americans who set aside time to invest in the lives of our Nation's youth as volunteer mentors. Because of them, children who would otherwise have to learn the ways of the adult world on their own are guided to become successful and responsible adults. The work of those who mentor the next generation makes profound impressions on the lives of their mentees, improves our communities, and strengthens our Nation. Every day, mentors fill critical needs in our communities. They serve as role models to children, and their faithful presence often makes a tremendous difference in the physical, emotional, mental, and spiritual development of their mentees. Mentors tutor in academics, coach athletics, and provide wisdom and guidance for all of life's decisions. They help build self-esteem, develop character, and encourage learning and leadership skills in America's youth. Their dedication and commitment convey to both their mentees and the world that every human has God-given value and worthwhile hopes and dreams. As we celebrate National Mentoring Month, I encourage every American to consider how they might use their time and talents to help transform the life of a child, whether as teachers, friends, educators, clergy, or community leaders. Our Nation's mentors are as diverse as our citizenry, but they all share a common commitment: building a better life for our youth and a brighter future for our country. Categories: Statements by the President : National Mentoring Month. Subjects: Holidays and special observances : Mentoring Month, National; Voluntarism. DCPD Number: DCPD201800001. \n",
      "\n",
      "\n",
      "\n",
      "<Response [200]>\n",
      "\n",
      "\n",
      "\n",
      "\n",
      "\n",
      "\n",
      "\n",
      "\n",
      "\n",
      "\n",
      "\n",
      "Administration of Donald J. Trump, 2018 Statement on Stalking Awareness Month, 2018 January 2, 2018 All Americans deserve to live their daily lives free of fear of physical violence. Unfortunately, perpetrators of stalking rob too many Americans of this right, depriving them of privacy and freedom in ordinary activities like spending time at home and communicating with loved ones. Stalking is a serious crime that affects the lives of more than 7 million Americans every year. Nearly half of those victimized by stalking report enduring unwanted contact at least once per week, and more than one in ten victims have been stalked by the same person for 5 years or more. Most victims are stalked by someone they know, and many are stalked by an intimate partner, sometimes as part of a terrible cycle of domestic violence. In recent decades, perpetrators have developed new methods to stalk their victims by misusing technology. Social media and cell phones have given stalkers new ways to monitor and manipulate their victims' lives, hacking confidential information, and abusing technologies that track whereabouts. My administration has taken and continues to take a strong stand against crime in the United States. The Department of Justice's Task Force on Crime Reduction and Public Safety has urged our Nation's judicial and public officials to prosecute, to the fullest extent of the law, those who threaten the lives and safety of our fellow Americans. We will continue to provide research, training, and assistance to help our law enforcement and criminal justice professionals deter and combat stalking. During Stalking Awareness Month, we reaffirm our commitment to learning more about stalking, supporting the victims of this serious crime, and holding perpetrators accountable. Together, we will reduce stalking and the harmful effects it has on our families, friends, coworkers, and loved ones. Categories: Statements by the President : National Stalking Awareness Month. Subjects: Holidays and special observances : Stalking Awareness Month, National; Justice, Department of : Crime Reduction and Public Safety, Task Force on. DCPD Number: DCPD201800002. \n",
      "\n",
      "\n",
      "\n",
      "<Response [200]>\n",
      "\n",
      "\n",
      "\n",
      "\n",
      "\n",
      "\n",
      "\n",
      "\n",
      "\n",
      "\n",
      "\n",
      "Administration of Donald J. Trump, 2018 Statement on the Death of Thomas S. Monson January 3, 2018 Melania and I are deeply saddened by the death of Thomas S. Monson, a beloved President of the Church of Jesus Christ of Latter-Day Saints. While serving for over half a century in the leadership of his church, President Monson demonstrated wisdom, inspired leadership, and great compassion. Considered a prophet by the nearly 16 million members of the LDS Church, his message was one of optimism, forgiveness, and faith. Our thoughts and prayers are with his three children and the rest of the Monson family. NOTE: The statement referred to Thomas L. and Clark S. Monson and Ann Dibb, children of Mr. Monson. Categories: Statements by the President : Deaths :: Monson, Thomas S. Names: Dibb, Ann; Monson, Clark S.; Monson, Thomas L.; Monson, Thomas S.; Trump, Melania. Subjects: Deaths : Monson, Thomas S. DCPD Number: DCPD201800003. \n",
      "\n",
      "\n",
      "\n",
      "<Response [200]>\n",
      "\n",
      "\n",
      "\n",
      "\n",
      "\n",
      "\n",
      "\n",
      "\n",
      "\n",
      "\n",
      "\n",
      "Administration of Donald J. Trump, 2018 Statement on Former White House Chief Strategist Stephen K. Bannon January 3, 2018 Steve Bannon has nothing to do with me or my Presidency. When he was fired, he not only lost his job, he lost his mind. Steve was a staffer who worked for me after I had already won the nomination by defeating 17 candidates, often described as the most talented field ever assembled in the Republican Party. Now that he is on his own, Steve is learning that winning isn't as easy as I make it look. Steve had very little to do with our historic victory, which was delivered by the forgotten men and women of this country. Yet Steve had everything to do with the loss of a Senate seat in Alabama held for more than 30 years by Republicans. Steve doesn't represent my base, he's only in it for himself. Steve pretends to be at war with the media, which he calls the opposition party, yet he spent his time at the White House leaking false information to the media to make himself seem far more important than he was. It is the only thing he does well. Steve was rarely in a one-on-one meeting with me and only pretends to have had influence to fool a few people with no access and no clue, whom he helped write phony books. We have many great Republican Members of Congress and candidates who are very supportive of the \"Make America Great Again\" agenda. Like me, they love the United States of America and are helping to finally take our country back and build it up, rather than simply seeking to burn it all down. Categories: Statements by the President : Bannon, Stephen K., former White House Chief Strategist. Names: Bannon, Stephen K. Subjects: Alabama : 2017 special senatorial election; Elections : 2016 Presidential and congressional elections. DCPD Number: DCPD201800004. \n",
      "\n",
      "\n",
      "\n",
      "<Response [200]>\n",
      "\n",
      "\n",
      "\n",
      "\n",
      "\n",
      "\n",
      "\n",
      "\n",
      "\n",
      "\n",
      "\n",
      "Administration of Donald J. Trump, 2018 Executive Order 13820—Termination of Presidential Advisory Commission on Election Integrity January 3, 2018 By the authority vested in me as President by the Constitution and the laws of the United States of America, it is hereby ordered as follows: Section 1. Executive Order 13799 of May 11, 2017 (Establishment of Presidential Advisory Commission on Election Integrity), is hereby revoked, and the Presidential Advisory Commission on Election Integrity is accordingly terminated. Sec. 2. General Provisions. (a) Nothing in this order shall be construed to impair or otherwise affect: (i) the authority granted by law to an executive department, agency, or the head thereof; or (ii) the functions of the Director of the Office of Management and Budget relating to budgetary, administrative, or legislative proposals. (b) This order shall be implemented consistent with applicable law and subject to the availability of appropriations. (c) This order is not intended to, and does not, create any right or benefit, substantive or procedural, enforceable at law or in equity by any party (other than by the United States) against the United States, its departments, agencies, or entities, its officers, employees, or agents, or any other person. DONALD J. TRUMP The White House, January 3, 2018. [Filed with the Office of the Federal Register, 11:15 a.m., January 5, 2018] NOTE: This Executive order was published in the Federal Register on January 8. Categories: Executive Orders : Election Integrity, Presidential Advisory Commission on, termination. Subjects: Election Integrity, Presidential Advisory Commission on. DCPD Number: DCPD201800005. \n",
      "\n",
      "\n",
      "\n"
     ]
    },
    {
     "name": "stdout",
     "output_type": "stream",
     "text": [
      "<Response [200]>\n",
      "\n",
      "\n",
      "\n",
      "\n",
      "\n",
      "\n",
      "\n",
      "\n",
      "\n",
      "\n",
      "\n",
      "Administration of Donald J. Trump, 2018 Remarks During a Meeting With Republican Senators on Immigration Reform and an Exchange With Reporters January 4, 2018 The President. Important meeting. Thank you very much for being here. We're making a lot of progress on a lot of different things. Today I'm with the Senate working group on immigration. It's become a very big subject. I think that started around November 8 and maybe a year and a half before that, starting with the campaign. We're all working in an effort to develop an immigration reform plan that will serve the interests of the American workers and the American families and safety. I want to thank Chairman Grassley, along with Senators Tillis and Lankford, Cornyn, Cotton, and Graham for being here today. These are great people. They've become friends of mine, and they love this country. I also want to acknowledge Senator Perdue, who is likewise a terrific person, who has become a very close friend of mine. And he'll be briefed as to what's happening. Our current immigration system fails Americans. Chain migration is a total disaster, which threatens our security and our economy and provides a gateway for terrorism. Likewise, the visa lottery is bad for our economy and very bad for security. You saw that recently in New York along the West Side Highway. We need a physical border wall. We're going to have a wall—remember that—we're going to have a wall to keep out deadly drug dealers, dangerous traffickers, and violent criminal cartels. Mexico is having a tremendous problem with crime, and we want to keep it out of our country. We need to ensure our immigration officers finally have the resources, tools, and authorities that they desperately deserve and need to save and protect American lives. Even the Border Patrol agents, as you saw recently, killed—a couple of them killed; one very badly hurt. It's a rough job, and they're incredible people, along with the ICE agents. These are incredible people. They've been with me right from the beginning, and they love what we're doing. That's why our position has been clear and very clear from the beginning. Any legislation on DACA must secure the border with a wall. It must give our immigration officers the resources they need to stop illegal immigration and also to stop visa overstays. And crucially, the legislation must end chain migration. It must end the visa lottery. Dangerous. And I think many of the Democrats agree with us on that now. The lottery system is a disaster. Tom and I talk about it all the time. They put down their probably worst people—who knows—but they're not looking to get rid of their best people. So they put their worst people in the hopper, and we're picking out the people. And then, we find out: What do we have? It's not a good situation. So we're going to end it. The lottery system has to be laughed at by countries outside of our country when they send these people in. I want to thank the Senators for working with us, because it really has been a very collaborative effort. We are, believe it or not, working also with Democrats. I think that's correct. Right, Tom? We're moving across the aisle and trying to get support, and I think we have a lot of support. But we'll soon see. We'd love to take care of DACA, but we're only going to do it under these conditions. So we appreciate it very much. Mr. Vice President, do you have anything to say? Mike. Vice President Michael R. Pence. Mr. President, you've made immigration a centerpiece in the national debate over the last year and a half. And—but you said all along the way, we're going to build a wall and reform our immigration system. We're going to enforce the laws of this country for the citizens of this country. But you also said along the way, we're going to do it with a big heart. And you've opened the door to an agreement on DACA, and today is part of an ongoing discussion with these Republican leaders, but also with Democrats on Capitol Hill, to accomplish that. And I look forward to being a part of it. The President. Very good. Thank you, Mike. And, Senator Grassley, anything to say? Senator Charles E. Grassley. Of course, where you said, we were here, I think, with you on November the 8. We set out a program that we all agreed to here. We know that there has to be negotiations in regard to that, but you've laid out some principles that we will not compromise on. The President. Thank you. And you've been a great voice in a lot of different ways, and we appreciate it. Thank you very much. Lindsey—used to be a great enemy of mine, and now he's a great friend of mine. I really like Lindsey. Can you believe that? I never thought I'd say that, but I do like him a lot. Senator Lindsey O. Graham. Thank you. I like me too, so we have something in common. [Laughter] The President. We all know that. [Laughter] Sen. Graham. Obama couldn't do it. Bush couldn't do it. I think you can do it. There's a deal to be had. If you want it bad enough, we'll get it. It will be good for the country. Everybody has got to give a little bit. But I've never been more optimistic about an immigration reform proposal making it to the President's desk than I am right now. The President. I think we have a good chance. Tom Cotton? Senator Thomas B. Cotton. Thank you for having us, Mr. President.  The President. Thank you. Sen. Cotton. As Senator Graham said, I think there's a deal to be had here. The President has made clear that he wants to provide some kind of protections for those who receive the DACA work permits, but at the same time, we have to deal with the negative consequences of that. We have to end chain migration to prevent a future set of new chain migrants coming. And we have to secure our border. We have to enforce our laws on the interior as well, to decrease the illegal immigration that will inevitably encourage overstays. The President and our group have been clear on that from the very beginning. And I hope Democrats will sit down with us and finally take yes for an answer on it. The President. Good. I think we've got a good shot. I really do. Thom? Anything?  Senator Thomas R. Tillis. Mr. President, I just want to say exactly what Lindsey did. And if you think about in the Obama administration, when you had the votes to pass Obamacare and you couldn't get the DREAM Act passed, then you know there's something structurally wrong with just the baseline. [Laughter] I mean, if you just think about it, you're providing the leadership to come up with a balance where you're going to produce a bipartisan solution and a solution that's consistent with your principles, which I think are important for us to fulfill the promises that we made to the American people. And we can provide certainty to the DACA population. And shame on anybody for getting caught up in words. The wall, for example—— The President. Right. Sen. Tillis. When we've got the opportunity to provide a solution, achieve your objectives, and do something good for the DACA population, then I think we should. The President. Thank you, Thom, very much. You're right 100 percent. Tom? I'm sorry. Senator James P. Lankford. Mr. President, thank you for bringing all of us together. I mentioned to you in September, when you first made the announcement about DACA, that you'd given a tremendous gift to the American people. It's been 20 years since we've had a vote on immigration of any type that's actually passed and become law. Immigration issues are very hard; they're very emotional. But there's been no deadline. So every time the Congress starts to work on it, they work on it for a while, then drop it because it's difficult. You gave us a deadline—— The President. Thank you, James. Sen. Lankford. ——and setting that for March the 1st, and that's a tremendous gift to be able to get that done. Thanks for your engagement on this. I do absolutely agree with your heart on the issues on DACA and for those kids, and be able to find out—we've got to get a legislative solution, but we've got to deal with every other issue as well or we'll just keep having DACA votes every 10 years, and we can't do that. So thanks. And by the way, thanks for the new leadership in DHS as well.  The President. Right. Sen. Lankford. And looking forward to seeing her leadership in the days ahead. The President. Well, I have to tell you, James Lankford has been a tremendous help, not only on what we just passed, but will be a tremendous help on this. And, James, I want to thank you for your support. Sen. Lankford. Thank you, sir. The President. You've been really fantastic. And I can say that for all of the men and the people in this room. They've been fantastic. And, John, you have been really been—we can't even call you the whip—[laughter]—but you have been more than a whip. You've been so fantastic on the taxes and the tax cuts and reform and the success of that. And certainly, it wasn't easy. It went right to the last minute, and you were right there. And we all want to thank you. The job you did is fantastic. So, Senator Cornyn, want to say a few words? Senator John Cornyn III. Well, Mr. President, thank you for having us here. America is the most generous country in the world when it comes to legal immigration, but that generosity has been abused by people who are exploiting the vulnerabilities we have along the border with the lack of enforcement. And we saw the previous administration that tried to usurp the authority that only Congress and the White House have in passing immigration laws. And they tried to do it by executive action, and the courts just struck that down. So I do think this is an important opportunity for those of us who care not only about the people and about our legal immigration system that's benefited us all, but also are determined to eliminate and stop illegal immigration, along with the drugs and the harm that that causes. And I do think this is a great opportunity. I hope we make the most of it. Coming from a border State with 1,200 miles of common border with Mexico, my constituents in Texas all understand the importance of border security and enforcement. At the same time, they're people with big hearts. The President. That's true. That's so true. Sen. Cornyn. And like you and like the rest of us who want to do the right thing by these young adults who came here as children, and I think we have a great opportunity. The President. Well, thank you very much, John. And I have to tell you that as I walked into the room—I don't know if you heard the latest, but the market is up about 150 points. And we broke a very, very big barrier—25,000. And there were those who'd say we wouldn't break 25,000 by the end of the 8th year, and we're in the 11th month. We broke 25,000 just as we came in now. I have to be a little careful, because as we walk out, maybe it goes down. [Laughter] You always have to be careful with that, Tom. But we did, in fact, break 25,000, very substantially break it, very easily. So I guess our new number is 30,000. [Laughter] But what it means is, every time you see that number go up on Wall Street it means jobs, it means success, it means 401(k)s that are flourishing. I was in New York at a big event recently, and I take a lot of pictures with police and with firemen and with the military. And one of the policemen came up, an officer, and he said: \"Sir, I want to thank you. My 401(k) is through the roof. My wife thinks I'm a brilliant investor.\" [Laughter] He said he was up 39 percent. I said, \"You should be doing better than that, actually.\" [Laughter] But he said, \"I'm up 39 percent in 9 months.\" And he said: \"I've never seen anything like it. My wife is so happy, my family is so happy.\" And people with 401(k)s, unless they're really having difficulties in life, they're doing very, very well. So I just want to congratulate everyone in the room because you worked so hard. I may finish off with our new Secretary, who's just in the position, but I will tell you, respected by everybody. I got a very good vote. Got a very good vote. And would you like to say anything, Secretary? Secretary of Homeland Security Kirstjen M. Nielsen. Yes. I just want to thank you for your leadership on this issue. And I really appreciate your support of the men and women at DHS. They do have a very dangerous job, one that we don't often like to talk about. But they are—they do put their lives in danger for all of us every day. And I really look forward to working with all of you, and learning today about your progress. As you know, border security, we have to have the wall and the technology and personnel that go with that, but we also need to close the loopholes so that we can do the expedited removal because that's a core part of border security. So I look very much forward to working with you and others in Congress to get this done. The President. Well, you're going to break all of General Kelly—who's right over here—you're going to break all of his records, rights? [Laughter] Secretary Nielsen. Absolutely. The President. Because he had some pretty good records; 78 percent is—so far, that's the best number. So you have to break 78 percent. That's tough, but you'll do it. Secretary Nielsen. All right. Yes, sir. The President. Thank you all very much. Appreciate it. Deferred Action for Childhood Arrivals Program/Border Security/Bipartisanship Q. Your message to DREAMers, Mr. President? Your message to DREAMers, Mr. President?  The President. Hopefully, everything is going to work out very well. We really want it to work out. I can tell you the Republicans want to see it work out very well. If we have support from the Democrats, I think DACA is going to be terrific. We have people that have been working on this issue for a long time. As Lindsey said, as others have said, we really are at a point where I think we could do something spectacular for the people on the border, people coming through. We have to be careful, because there's a drug epidemic like the likes of which we've never seen in this country. We need protection. We need the wall. We need all of those things. And frankly, I think a lot of Democrats agree with us. When they see what's happening, when they see the kind of problems we're having at the border, they really understand it. Whether they'll vote that way is another situation, but they really understand it. So we want to thank you all for being here. We have a great spirit going in the Republican Party. I think it can be bipartisan. I hope it's going to be bipartisan. And we take care of a lot of problems. We take care of a lot of problems. It would be really nice to do it in a bipartisan way. Okay? Thank you all. Former White House Chief Strategist Stephen K. Bannon Q. Did Steve Bannon betray you, Mr. President? Any words about Steve Bannon? The President. I don't know, he called me a great man last night. So you know, he obviously changed his tune pretty quick. All right, thank you all very much. Q. [Inaudible] The President. I don't talk to him. I don't talk to him. I don't talk to him. That's just a misnomer. Thank you. NOTE: The President spoke at 11:34 a.m. in the Roosevelt Room at the White House. In his remarks, he referred to Stephen \"Michael\" Garland, a U.S. Customs and Border Patrol agent who was injured in an ambush attack in Van Horn, TX, on November 18; White House Chief of Staff John F. Kelly, in his former capacity as Secretary of Homeland Security. Sen. Graham referred to former Presidents Barrack Obama and George W. Bush. Categories: Addresses and Remarks : Immigration reform, meeting with Republican Senators; Interviews With the News Media : Exchanges with reporters :: White House. Locations: Washington, DC. Names: Bannon, Stephen K.; Cornyn, John, III; Cotton, Thomas B.; Garland, Stephen \"Michael\"; Graham, Lindsey O.; Grassley, Charles E.; Kelly, John F.; Lankford, James P.; Nielsen, Kirstjen M.; Pence, Michael R.; Perdue, David A., Jr.; Tillis, Thomas R. Subjects: Congress : Bipartisanship; Congress : Members, meetings with President; Drug abuse and trafficking : Illegal drugs, interdiction efforts; Drug abuse and trafficking : Opioid epidemic, efforts to combat; Economy, national : Improvement; Homeland Security, Department of : Customs and Border Protection, U.S.; Homeland Security, Department of : Immigration and Customs Enforcement, U.S.; Homeland Security, Department of : Secretary; Immigration and naturalization : Deferred Action for Childhood Arrivals (DACA) policy, review; Immigration and naturalization : Illegal immigration; Immigration and naturalization : Reform; Legislation, enacted : Tax reform legislation; Mexico : Border with U.S., infrastructure and security; New York :: New York City :: Terrorist attacks; White House Office : Assistants to the President :: Chief of Staff; White House Office : Vice President. DCPD Number: DCPD201800006. \n",
      "\n",
      "\n",
      "\n"
     ]
    },
    {
     "name": "stdout",
     "output_type": "stream",
     "text": [
      "<Response [200]>\n",
      "\n",
      "\n",
      "\n",
      "\n",
      "\n",
      "\n",
      "\n",
      "\n",
      "\n",
      "\n",
      "\n",
      "Administration of Donald J. Trump, 2018 Videotaped Remarks on Tax Reform Legislation During a Press Briefing by White House Press Secretary Sarah Huckabee Sanders January 4, 2018 Press Secretary Sanders. Good afternoon. We're pleased to see that the Dow Jones Industrial Average broke through 25,000 for the first time ever today. The President's economic agenda of lower taxes, less regulation, and more opportunity for all is already paying off, and American families and workers are the big winners. With that in mind, we have a message from a special guest that I’d like to share with you.  With that, I'll ask you to tune into the screens, and then I'll continue from there. [At this point, a video was displayed on two projection screens, in which the President made remarks as follows.] The President. Thank you for being with us today. The historic tax cut I signed into law just 2 weeks ago, before Christmas, is already delivering major economic gains. Hundreds of thousands of Americans are seeing larger paychecks, bigger bonuses, and higher pension contribution, and it's all because of the tax cuts and the tax reform. And I want to thank all of the companies that worked so hard to do it. Workers at AT&T, Bank of America, Comcast, Southwest Airlines, American Airlines, and many other companies are receiving bonuses of $1,000 or more. Aflac and others are investing more in employees' 401(k)s. CVS announced it will hire 3,000 new workers. Boeing, another great company, is investing hundreds of millions of dollars in employee training and infrastructure. More than 60 companies have announced they are raising wages, including many that have voluntarily raised their minimum wage to $15 per hour—and I mean they did that voluntarily—which many politicians said could only be achieved by government mandate. Investing in the American worker is the most important investment a business will ever make. I want to thank all of these companies for putting their tax savings to the best possible use by creating more jobs and higher wages for the American family. These great results are just the beginning. When the dreams of the American people are unleashed, there is nothing—absolutely nothing—we can't achieve. We are going to make America great again, and it's happening a lot faster than anyone thought possible. Thank you. [The video concluded, and Press Secretary Sanders spoke as follows.] Press Secretary Sanders. Thank you, Mr. President. As he said, this is only the beginning. And we are excited to see the economic growth and optimism continue to soar in 2018. [Press Secretary Sanders continued with the press briefing.] NOTE: The remarks were recorded at approximately 11:45 a.m. on January 3 in the Cabinet Room at the White House for broadcast during Press Secretary Sanders's January 4 press briefing, which began at 2:15 p.m. in the James S. Brady Press Briefing Room. The transcript of the President's remarks was included in the press briefing transcript. Categories: Addresses and Remarks : Tax reform legislation remarks. Locations: Washington, DC. Names: Sanders, Sarah Huckabee. Subjects: Business and industry : Domestic investment, promotion efforts; Economy, national : Household income and wages; Economy, national : Improvement; Employment and unemployment : Job creation and growth; Taxation : Tax Code, reform; Taxation : Tax relief; White House Office : Assistants to the President :: Press Secretary. DCPD Number: DCPD201800007. \n",
      "\n",
      "\n",
      "\n",
      "<Response [200]>\n",
      "\n",
      "\n",
      "\n",
      "\n",
      "\n",
      "\n",
      "\n",
      "\n",
      "\n",
      "\n",
      "\n",
      "Administration of Donald J. Trump, 2018 Remarks to Reporters Prior to Boarding Marine One En Route to Camp David, Maryland January 5, 2018 Hi, everybody. I'm going over with the Senators. We're going to Camp David. We have a lot of things to work on, a lot of things to accomplish. The stock market is up very, very big today. We've set new records, and I think they'll be continued to set. The tax cuts are really kicking in far beyond what anyone thought. Numerous companies have today come out and announced that they're going to make big payments to their employees, something that nobody really had in mind. So we're very honored by it. But the market is good. The jobs reports were very good, and we think they're going to get really good over the next couple of months. So again, we're going to Camp David with a lot of the great Republican Senators, and we're making America great again. Thank you. Thank you very much. NOTE: The President spoke at 1:47 p.m. on the South Lawn at the White House.  Categories: Addresses and Remarks : Interviews With the News Media :: White House. Subjects: Economy, national : Improvement; Taxation : Tax relief. DCPD Number: DCPD201800008. \n",
      "\n",
      "\n",
      "\n",
      "<Response [200]>\n",
      "\n",
      "\n",
      "\n",
      "\n",
      "\n",
      "\n",
      "\n",
      "\n",
      "\n",
      "\n",
      "\n",
      "Administration of Donald J. Trump, 2018 Remarks Following a Republican Congressional Leadership Retreat and an Exchange With Reporters at Camp David, Maryland January 6, 2018 The President. Thank you very much. It's great to have you at Camp David—a very special place. We started, as you know, yesterday afternoon. We had a couple of incredible meetings. It's a feeling here that you don't have in very many places. There was a bonding. There was a—we got a lot of work done, a lot of great work for the people. Security discussed, infrastructure discussed, military and all types of military situations and applications discussed. General Mattis is here, General Kelly—a lot of good military input. Very important. Discussed funding for the military, which is so important. We also, obviously, went into budgets. And we went into DACA and how we're going to do. And we hope that we're going to be able to work out an arrangement with the Democrats. I think it's something that they'd like to see happen. It's something, certainly, that I'd like to see happen. So we are very well prepared for the coming year. We finished very strong. One of the things we are discussing and discussing very powerfully is drugs pouring into this country and how to stop it. Because it's at a point—over the last number of years, it's never been like this. We've never had a problem with drugs like we do, whether it's opioid or drugs in the traditional sense. It's never been like it is. And we are going to do everything we can. It's a very difficult situation, difficult for many countries. Not so difficult for some, believe it or not. They take it very seriously, and they're very harsh. And those are the ones that have much less difficulty. But we are going to be working on that very, very hard this year. And I think we're going to make a big dent into the drug problem. With that, I think I—what I'll do is ask Majority Leader Mitch McConnell to say a few words. Then, I'll have Paul Ryan. And we'll—perhaps you'll have some questions for some of the folks. We have a great group of talent. And I will tell you, the meetings, again, were really, perhaps, transformative in certain ways. We're doing things, and we have things planned for next year. One of the things Mitch said—and he said it very well—was, it's going to be tough to beat the year we just left because what we had last year was something very special, especially to cap it off with the tremendous tax cuts and tax reform. And don't forget ANWR. And don't forget the fact that the individual mandate—such a horrible thing for so many people—was terminated. So it's very, very tough. But I'd like to ask Mitch—come up, say a few words, please. [At this point, Senate Majority Leader A. Mitchell McConnell made brief remarks, concluding as follows.] Leader McConnell. And so, Mr. President, thanks for the opportunity to be here. We're excited about the new year and ready to get to work. Thank you. The President. Thank you, Mitch. [Speaker of the House of Representatives Paul D. Ryan made brief remarks, concluding as follows.] Speaker Ryan. So we have a very bold agenda for 2018. We think this agenda is one that will appeal to everyone in between: between Democrats and Republicans, Independents. And so we're excited about the progress that's already been made, and we're very excited about what we have in store for us for 2018. Thank you. The President. Thank you, Paul. Mike. [Vice President Michael R. Pence made brief remarks, concluding as follows.] Vice President Pence. We truly do believe that there are opportunities after our discussions this weekend for bipartisan work on a broad range of issues from infrastructure to workforce to vocational education. And I can say, I'm even more confident, after this weekend's discussions, that, with the President's leadership and with the strong leadership in the Congress, we're going to keep delivering for the American people in 2018 and we're going to create a stronger and more prosperous America. The President. Thank you very much, Mike. Any questions for the group? Yes.  Welfare Reform Q. Mr. President, I didn't hear any mention here of welfare reform. Is that something that is still on the agenda for 2018? The President. We are looking at it. And we're looking at aspects of it. It's a subject that's very dear to our heart. We'll try and do something in a bipartisan way; otherwise, we'll be holding it for a little bit later. But we'll be looking to do that very much in a bipartisan way, if we can. Yes. The President's Education and Accomplishments/Author and Journalist Michael Wolff/Former White House Chief Strategist Stephen K. Bannon Q. Mr. President, you were talking about the policy issues that you all were focusing on the last few days here at Camp David, but this morning you were tweeting about your mental state. Why did you feel the need to tweet about that this morning? The President. Well, only because I went to the best colleges—or college. I went to a—I had a situation where I was a very excellent student. Came out and made billions and billions of dollars. Became one of the top businesspeople. Went to television and, for 10 years, was a tremendous success, as you probably have heard. Ran for President one time and won. And then, I hear this guy that does not know me, doesn't know me at all. By the way, did not interview me for three—he said he interviewed me for 3 hours in the White House. It didn't exist, okay? It's in his imagination. And what I was heartened by—because I talk about fake news and the fake news media—was I—really, was the fact that so many of the people that I talk about, in terms of fake news, actually came to the defense of this great administration and even myself because they know the author and they know he's a fraud. And when I saw some of the people say—and you look at some of his past books. He did a book on Rupert Murdoch. It was a terrible exposé, and it was false. So much of it was false. I consider it a work of fiction, and I think it's a disgrace that somebody is able to have something, do something like that. The libel laws are very weak in this country. If they were strong, it would be very helpful. You wouldn't have things like that happen where you can say whatever comes to your head. But just so you know, I never interviewed with him in the White House at all. He was never in the Oval Office. We didn't have an interview. And I did a quick interview with him a long time ago having to do with an article, but I don't know this man. I guess Sloppy Steve brought him into the White House quite a bit, and it was one of those things. That's why Sloppy Steve is now looking for a job. Okay, who else do you have? Yes. North Korea/2018 Winter Olympics in Pyeongchang, South Korea Q. Mr. President, the meetings now between South Korea and North Korea, the discussions—— The President. Yes. Hope it works out. Q. I was going ask, are you comfortable that this will remain just about the Olympics? Are you—— The President. Well, I think so. I spoke with the President, as you know—with President Moon of South Korea. He thanked me very much for my tough stance. And you know, for 25 years, they haven't been using a tough stance. They've been giving everything. When you look at what Bill Clinton did—and you've seen the famous clip where Bill Clinton wants to give them everything, and where I said, years ago, with Russert on \"Meet the Press\"—many years ago, we—I talked to—I don't think anything has changed. You have to have a certain attitude, and you have to be prepared to do certain things. And I'm totally prepared to do that. But President Moon called me, and we had a great discussion a couple of days ago, and he thanked me very much. And I hope it works out. I very much want to see it work out between the two countries. I'd like to see them getting involved in the Olympics, and maybe things go from there. So I'm behind that a hundred percent. He actually thanked me. He said—and a lot of people have said, a lot of people have written—that without my rhetoric and without my tough stance—and it's not just a stance—I mean, this is—this is what has to be done, if it has to be done—that they wouldn't be talking about Olympics, that they wouldn't be talking right now. North Korea-South Korea Relations Q. Are you comfortable that they're not also taking the conversation beyond the Olympics while he continues to—— The President. Well, I hope they do. I hope they do. I would love to see them take it beyond the Olympics. We have a very good relationship with South Korea. I would love to see it go far beyond the Olympics, absolutely. And at the appropriate time, we'll get involved. But I like the idea of their dealing on the Olympics. That should be between those two countries. Yes. Investigation Into Russia's Efforts To Interfere in the 2016 Presidential Election/New York Times/2016 Democratic Presidential Nominee Hillary Rodham Clinton Q. Mr. President, did you ask the White House Counsel to ask Attorney General Sessions not to recuse himself from the Russia investigation? The President. Everything I've done is a hundred-percent proper. The story, by the way, in the Times was way off, or at least off. But everything that I've done is a hundred-percent proper. That's what I do is, I do things proper. And you know, I guess the collusion now is dead, because everyone found that, after a year of study, there's been absolutely no collusion. There has been no collusion between us and the Russians. Now, there has been collusion between Hillary Clinton, the DNC, and the Russians. Unfortunately, you people don't cover that very much. But the only collusion is between Hillary and the Russians, and the DNC and the Russians, and one of those things. Okay, any other questions? New York Times Q. In what way was the New York Times story off? The President. You'll find out. But the story was off. Attorney General Jefferson B. Sessions III Q. Do you stand by Jeff Sessions as your Attorney General? The President. Yes, I do. National Economic Council Director Chairman Gary D. Cohn Q. And will Gary Cohn continue to remain in position? The President. I hope so. Where's Gary? [Laughter] Is he here? He was here. Gary, come here. [Laughter] Oh! Did you hear the question, Gary, in this beautiful hangar that's freezing? Director Cohn. No, I did not, sir. The President. They said, will Gary Cohn continue or remain in the administration? I said, I hope so. [Laughter] Now, if he leaves, I'm going to say, I'm very happy that he left, okay? [Laughter] All right. Come here, Gary. Come here. Are you happy, Gary? He's just passed a very big bill. I think he's pretty happy. Director Cohn. Yes, I'm happy. How's that? [Laughter] The President. Come on. Gary, hopefully, will be staying for a long time. Yes, ma'am. North Korea Q. Just to follow up on the conversations between North Korea and South Korea, are you willing to engage in phone talks with Kim Jong Un right now? The President. Sure. I always believe in talking. Q. Do you think that that would be helpful? The President. But we have a very firm stance. Look, our stance—you know what it is. We're very firm. But I would be—absolutely I would do that. No problem with that at all. North Korea-South Korea Relations/2018 Winter Olympics in Pyeongchang, South Korea/North Korea Q. So no prerequisites to coming to the table and talking with him? Speaker Ryan. That's not what he said. The President. We—that's not what I said, at all. Look, right now they're talking Olympics. It's a start. It's a big start. If I weren't involved, they wouldn't be talking about Olympics right now. They'd be doing no talking, or they—it would be much more serious. He knows I'm not messing around. I'm not messing around, not even a little bit, not even 1 percent. He understands that. At the same time, if we can come up with a very peaceful and very good solution—we're working on it with Rex, and we're working on it with a lot of people—if something can happen and something can come out of those talks, that would be a great thing for all of humanity. That would be a great thing for the world. Very important, okay? Q. Mr. President? The President. Yes, sir. 2018 Congressional Elections/The President's Approval Rating Q. Do you plan on involving yourself in Republican primaries in this midterm year? The President. Yes, I'll be very much involved.  Q. On the side of—— The President. In fact, that's one of the reasons—hard to believe, my polls numbers have gone way up. You'll have to explain that to me someday. But I will tell you, they—actually, they've been explaining it to me, but they want me to be involved, and we're going to be very involved. In fact, not only with the Senate, also with the House. 2018 Congressional Elections/Bipartisanship Q. And protecting incumbents? Will you—— The President. Protecting incumbents and whoever I have to protect.  Q. Will you back challengers? The President. But we need more Republicans. We have to have more Republicans. With that being said, I think we're going to go bipartisan. I think we're going to have some really great bipartisan bills. But we need more Republicans so that we can really get the rest of the \"Make America Great Again\" agenda passed. And so I will be actually working for incumbents and anybody else that has my kind of thinking. And I think it's going to happen. We're going to make a lot of trips. We'll be very involved. I think you folks are going to be very happy, because you're going to be doing a lot of travel. 2018 Congressional Elections/2017 Special Senatorial Election in Alabama Q. So that includes some challengers to incumbents too? The President. I don't see it—I don't see that happening. I don't see that happening at this moment, no. I think they've sort of scattered. We had somebody that lost us the State of Alabama. And I think, as far as I'm concerned, that was a shame that that was lost. That should never have been lost. And you have to—look, with it all being said, we have the right policy, we have the right everything. You still need a good candidate. You don't have a good candidate, you're just not going to win. So we should have never lost Alabama. It shouldn't have happened. Okay, any other questions? Yes, ma'am. Deferred Action for Childhood Arrivals Program/Immigration Reform Legislation Q. Mr. President, can you lay out—I know that you guys released a very long list of requirements—things that you wanted to see on immigration tied to a DACA fix. The President. I do. Q. But can you explain to us right now the exact points—— The President. Well, I can just say some of the basics. Q. What exactly do you need to sign it? The President. I can say some of the basics. We want the wall. The wall is going to happen, or we're not going to have DACA. You know, we want to get rid of chain migration. Very important. And we want to get rid of the lottery system. In addition to that, we want some money for funding. We need some additional border security. These are great people, and we need some border security. We need ICE. But we want to make sure that, in terms of what we want—and we want DACA to happen. We all—everybody, I think I can speak for everybody—we want—John Cornyn from Texas. We all want DACA to happen. But we also want great security for our country. So important. We want to stop the drugs from flowing in. Very important. So we have to get rid of the visa lottery. You know, the lottery is a disaster. They give you people—in fact, as you know, the person on the West Side Highway that killed 8 people and so badly injured—legs and arms—so badly injured many more, they came in through the lottery system. And remember this, the lottery—it's just common sense—they're not sending us their finest, okay. When somebody gets picked in the lottery, we're not getting their best people. So we have to get rid of the lottery system, we have to get rid of chain migration. We have to have the wall. Immigration Reform Legislation Q. Do you want the lottery and the chain migration aspects in that same piece of legislation? The President. I think it should be in the same legislation, yes. And I think, frankly, that the Democrats feel strongly about it too. I mean, Chuck Schumer is New York. He saw somebody that came in through the lottery system. He saw this man kill 8 people on the West Side Highway that he knows very well and he loves like I do. I think he's okay with it. I really think we'll have a lot of Democrat support. I hope so. Okay? Yes, sir. Border Security/Mexico-U.S. Relations Q. Mr. President, have there been any more efforts to get Mexico to pay for the wall? The President. Well, yes, I believe that Mexico will pay for the wall. I have a very good relationship with Mexico. As you know, we're negotiating NAFTA. We'll see how that goes. Yes, but Mexico will pay. In some form, Mexico will pay for the wall. White House Press Secretary Sarah Huckabee Sanders. Probably got time for one more question. The President. One more question. Investigation Into Russia's Efforts To Interfere in the 2016 Presidential Election/2016 Democratic Presidential Nominee Hillary Rodham Clinton Q. Mr. President, if Robert Mueller asks you to come and speak with his committee personally, are you committed, still, to doing that? Do you believe that's appropriate for a President? The President. Yes. Just so you understand—just so you understand, there's been no collusion; there's been no crime. And in theory, everybody tells me I'm not under investigation. Maybe Hillary is, I don't know, but I'm not. But there's been no collusion. There's been no crime. But we have been very open. We could have done it two ways. We could have been very closed, and it would have taken years. But you know, it's sort of like, when you've done nothing wrong, let's be open and get it over with. Because, honestly, it's very, very bad for our country. It's making our country look foolish, and this is a country that I don't want looking foolish. And it's not going to look foolish as long as I'm here. So we've been very open, and we just want to get that over with. Okay, anybody else? I think we're set. Thank you very much. I appreciate it. Thank you. Thank you very much. Appreciate it. NOTE: The President spoke at 12 p.m. In his remarks, he referred to Secretary of Defense James N. Mattis; White House Chief of Staff John F. Kelly; Rupert Murdoch, executive cochairman, News Corp.; former President William J. Clinton; Chairman of the Korean Worker's Party Kim Jong Un of North Korea; Secretary of State Rex W. Tillerson; 2017 Alabama Republican senatorial candidate Roy S. Moore; Senate Majority Whip John Cornyn III; Sayfullo Saipov, suspect in the vehicular terrorist attack on the bike path along the West Side Highway in Lower Manhattan on October 31, 2017; and Senate Majority Leader Charles E. Schumer. Reporters referred to White House Counsel Donald F. McGahn II; and Department of Justice Special Counsel Robert S. Mueller III. Categories: Addresses and Remarks : Republican congressional leadership retreat at Camp David, MD; Interviews With the News Media : Exchanges with reporters :: Camp David, MD. Locations: Camp David, MD. Names: Bannon, Stephen K.; Clinton, Hillary Rodham; Clinton, William J.; Cohn, Gary D.; Cornyn, John, III; Kelly, John F.; Kim Jong Un; Mattis, James N.; McConnell, A. Mitchell; Moon Jae-in; Moore, Roy S.; Murdoch, Rupert; Pence, Michael R.; Ryan, Paul D.; Saipov, Sayfullo; Sanders, Sarah Huckabee; Schumer, Charles E.; Sessions, Jefferson B., III; Tillerson, Rex W.; Wolff, Michael. Subjects: Alabama : 2017 special senatorial election; Alaska : Arctic National Wildlife Refuge (ANWR); Commerce, international : North American Free Trade Agreement (NAFTA); Communications : News media :: Accuracy and fairness; Congress : House of Representatives :: Speaker; Congress : Members, meetings with President; Congress : Senate :: Majority leader; Congress : Senate :: Majority whip; Congress : Senate :: Minority leader; Defense and national security : Border security; Defense, Department of : Secretary; Drug abuse and trafficking : Illegal drugs, interdiction efforts; Drug abuse and trafficking : Opioid epidemic, efforts to combat; Elections : 2016 Presidential and congressional elections; Elections : 2018 congressional elections; Energy : Oil and gas industry :: Federal regulations and oversight; Homeland Security, Department of : Immigration and Customs Enforcement, U.S.; Immigration and naturalization : Deferred Action for Childhood Arrivals (DACA) policy, review; Immigration and naturalization : Reform; Justice, Department of : Attorney General; Maryland : President's visits; Mexico : Border with U.S., infrastructure and security; Mexico : Relations with U.S.; New York : New York City :: Terrorist attacks; North Korea : International diplomatic efforts; North Korea : Korean Worker's Party Chairman; North Korea : Relations with South Korea; Russia : 2016 U.S. elections, interference; South Korea : Olympic Games in Pyeongchang; South Korea : President; South Korea : Relations with North Korea; South Korea : Relations with U.S.; Sports : Olympic Games; State, Department of : Secretary; Taxation : Tax Code, reform; Taxation : Tax relief; Welfare system, reform efforts; White House Office : Assistants to the President :: Chief of Staff; White House Office : Assistants to the President :: Press Secretary; White House Office : Economic Council, National; White House Office : Vice President. DCPD Number: DCPD201800009. \n",
      "\n",
      "\n",
      "\n"
     ]
    }
   ],
   "source": [
    "pres_page = webdriver.Firefox()\n",
    "pres_page.get(indexhtml)\n",
    "years=pres_page.find_elements_by_xpath(\".//div[@class='level1 browse-level']/a\")\n",
    "for year in range(0, len(years)):\n",
    "    years = pres_page.find_elements_by_xpath(\".//div[@class='level1 browse-level']/a\")\n",
    "    years[year].click()\n",
    "    months = pres_page.find_elements_by_xpath(\".//div[@class='level3 browse-leaf-level browse-leaf-level-top']/a|.//div[@class='level3 browse-leaf-level ']/a\")\n",
    "    for month in range(0, len(months)):\n",
    "        months = pres_page.find_elements_by_xpath(\".//div[@class='level3 browse-leaf-level browse-leaf-level-top']/a|.//div[@class='level3 browse-leaf-level ']/a\")\n",
    "        months[month].click()\n",
    "        texts = pres_page.find_elements_by_partial_link_text(\"Text\")\n",
    "        text_links = [i.get_attribute('href') for i in texts]\n",
    "        for i in text_links:\n",
    "            test = requests.get(i)\n",
    "            newsoup = BeautifulSoup(test.content, 'html.parser')\n",
    "            print(newsoup.get_text())\n",
    "            print(\"\")\n",
    "            pres_page.back()\n",
    "    pres_page.back()\n"
   ]
  },
  {
   "cell_type": "code",
   "execution_count": null,
   "metadata": {
    "collapsed": true
   },
   "outputs": [],
   "source": []
  }
 ],
 "metadata": {
  "kernelspec": {
   "display_name": "Python 3",
   "language": "python",
   "name": "python3"
  },
  "language_info": {
   "codemirror_mode": {
    "name": "ipython",
    "version": 3
   },
   "file_extension": ".py",
   "mimetype": "text/x-python",
   "name": "python",
   "nbconvert_exporter": "python",
   "pygments_lexer": "ipython3",
   "version": "3.6.2"
  }
 },
 "nbformat": 4,
 "nbformat_minor": 2
}
