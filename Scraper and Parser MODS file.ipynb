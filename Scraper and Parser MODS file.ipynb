{
 "cells": [
  {
   "cell_type": "code",
   "execution_count": null,
   "metadata": {
    "collapsed": true
   },
   "outputs": [],
   "source": [
    "import pandas\n",
    "import urllib\n",
    "from selenium import webdriver\n",
    "from time import sleep\n",
    "import re\n",
    "\n",
    "gpo=webdriver.Chrome()\n",
    "gpo.get(\"https://www.gpo.gov/fdsys/browse/collection.action?collectionCode=CPD\")"
   ]
  },
  {
   "cell_type": "code",
   "execution_count": null,
   "metadata": {
    "collapsed": true
   },
   "outputs": [],
   "source": [
    "years=gpo.find_elements_by_xpath(\".//div[@class='level1 browse-level']/a\")\n",
    "\n",
    "years"
   ]
  },
  {
   "cell_type": "code",
   "execution_count": 311,
   "metadata": {
    "collapsed": true
   },
   "outputs": [],
   "source": [
    "def find_all_more(url_var):\n",
    "    \"\"\"Finds all text links on a page\"\"\"\n",
    "    return url_var.find_elements_by_partial_link_text('More')\n",
    "\n",
    "def get_doc_link(links):\n",
    "    \"\"\"Takes a list of text links and returns the url value of the actual document\"\"\"\n",
    "    href = []\n",
    "    for i in range(len(links)):\n",
    "        href.append(links[i].get_attribute('href'))\n",
    "    return href\n",
    "        "
   ]
  },
  {
   "cell_type": "code",
   "execution_count": null,
   "metadata": {
    "collapsed": true
   },
   "outputs": [],
   "source": [
    "index = 0 \n",
    "for x in range(index, len(years)):\n",
    "    years = gpo.find_elements_by_xpath(\".//div[@class='level1 browse-level']/a\")\n",
    "    years[x].click()\n",
    "    \n",
    "    \n",
    "    months = gpo.find_elements_by_xpath(\".//div[@class='level3 browse-leaf-level browse-leaf-level-top']/a|.//div[@class='level3 browse-leaf-level ']/a\")\n",
    "    month_index = 0\n",
    "    \n",
    "    for k in range(month_index, len(months)):\n",
    "        months = gpo.find_elements_by_xpath(\".//div[@class='level3 browse-leaf-level browse-leaf-level-top']/a|.//div[@class='level3 browse-leaf-level ']/a\")\n",
    "        months[k].click()\n",
    "        for z in range(len(a)):\n",
    "            a = find_all_more(gpo)\n",
    "            a[z].click()\n",
    "            mods = gpo.find_elements_by_partial_link_text('MODS')\n",
    "            doc_link = get_doc_link(mods)\n",
    "            for i in range(len(doc_link)):\n",
    "                text=urllib.request.Request(doc_link[i], headers={'User-Agent': \"Chrome/64.0.3 (OSX 10.12)\"})\n",
    "                doc= urllib.request.urlopen(text).read()\n",
    "                file_name=str(z)+'_'+str(k)+'_'+str(x)+\".txt\"\n",
    "                file = open(file_name,'wb')\n",
    "                file.write(doc)\n",
    "                file.close()\n",
    "            gpo.back()\n",
    "        gpo.back()\n",
    "    gpo.back()"
   ]
  },
  {
   "cell_type": "code",
   "execution_count": 104,
   "metadata": {},
   "outputs": [
    {
     "data": {
      "text/plain": [
       "'<?xml version=\"1.0\" encoding=\"UTF-8\"?><mods xmlns:xlink=\"http://www.w3.org/1999/xlink\" xmlns:exslt=\"http://exslt.org/common\" xmlns:xsi=\"http://www.w3.org/2001/XMLSchema-instance\" xmlns=\"http://www.loc.gov/mods/v3\" version=\"3.3\" xsi:schemaLocation=\"http://www.loc.gov/mods/v3 http://www.loc.gov/standards/mods/v3/mods-3-3.xsd\" ID=\"id-WCPD-2003-03-10-Pg289-2\">\\n<name type=\"corporate\">\\n<namePart>United States Government Publishing Office</namePart>\\n<role>\\n<roleTerm authority=\"marcrelator\" type=\"text\">publisher</roleTerm>\\n<roleTerm authority=\"marcrelator\" type=\"code\">pbl</roleTerm>\\n</role>\\n<role>\\n<roleTerm authority=\"marcrelator\" type=\"text\">distributor</roleTerm>\\n<roleTerm authority=\"marcrelator\" type=\"code\">dst</roleTerm>\\n</role>\\n</name>\\n<name type=\"corporate\">\\n<namePart>United States</namePart>\\n<namePart>National Archives and Records Administration</namePart>\\n<namePart>Office of the Federal Register</namePart>\\n<role>\\n<roleTerm authority=\"marcrelator\" type=\"text\">author</roleTerm>\\n<roleTerm authority=\"marcrelator\" type=\"code\">aut</roleTerm>\\n</role>\\n<description>Government Organization</description>\\n</name>\\n<name type=\"corporate\">\\n<namePart>United States</namePart>\\n<namePart>Executive Office of the President</namePart>\\n<role>\\n<roleTerm authority=\"marcrelator\" type=\"text\">author</roleTerm>\\n<roleTerm authority=\"marcrelator\" type=\"code\">aut</roleTerm>\\n</role>\\n<description>United States Government Agency</description>\\n</name>\\n<typeOfResource>text</typeOfResource>\\n<genre authority=\"marcgt\">government publication</genre>\\n<language>\\n<languageTerm type=\"code\" authority=\"iso639-2b\">eng</languageTerm>\\n</language>\\n<extension>\\n<collectionCode>WCPD</collectionCode>\\n<category>Budget and Presidential Materials</category>\\n<waisDatabaseName>2003_presidential_documents</waisDatabaseName>\\n<branch>executive</branch>\\n<dateIngested>2010-08-03</dateIngested>\\n</extension>\\n<name type=\"personal\">\\n<namePart>George W. Bush</namePart>\\n<role>\\n<roleTerm authority=\"marcrelator\" type=\"text\">author</roleTerm>\\n<roleTerm authority=\"marcrelator\" type=\"code\">aut</roleTerm>\\n</role>\\n<description>President of the United States</description>\\n</name>\\n<genre authority=\"marcgt\">article</genre>\\n<titleInfo>\\n<title>Remarks to the American Medical Association National Conference</title>\\n</titleInfo>\\n<relatedItem type=\"otherFormat\" xlink:href=\"https://www.gpo.gov/fdsys/pkg/WCPD-2003-03-10/html/WCPD-2003-03-10-Pg289-2.htm\">\\n<identifier type=\"FDsys Unique ID\">D09002ee1959f82ad</identifier>\\n</relatedItem>\\n<relatedItem type=\"otherFormat\" xlink:href=\"https://www.gpo.gov/fdsys/pkg/WCPD-2003-03-10/pdf/WCPD-2003-03-10-Pg289-2.pdf\">\\n<identifier type=\"FDsys Unique ID\">D09002ee1959f82c5</identifier>\\n</relatedItem>\\n<identifier type=\"WCPD citation\">39 WCPD 289</identifier>\\n<identifier type=\"uri\">https://www.gpo.gov/fdsys/granule/WCPD-2003-03-10/WCPD-2003-03-10-Pg289-2</identifier>\\n<identifier type=\"former granule identifier\">pd10mr03_txt-13</identifier>\\n<location>\\n<url displayLabel=\"Content Detail\" access=\"object in context\">https://www.gpo.gov/fdsys/granule/WCPD-2003-03-10/WCPD-2003-03-10-Pg289-2/content-detail.html</url>\\n<url access=\"raw object\" displayLabel=\"PDF rendition\">https://www.gpo.gov/fdsys/pkg/WCPD-2003-03-10/pdf/WCPD-2003-03-10-Pg289-2.pdf</url>\\n<url access=\"raw object\" displayLabel=\"HTML rendition\">https://www.gpo.gov/fdsys/pkg/WCPD-2003-03-10/html/WCPD-2003-03-10-Pg289-2.htm</url>\\n</location>\\n<subject>\\n<topic>Addresses and Remarks</topic>\\n</subject>\\n<physicalDescription>\\n<extent>6 p.</extent>\\n</physicalDescription>\\n<part type=\"article\">\\n<extent unit=\"pages\">\\n<start>289</start>\\n<end>294</end>\\n</extent>\\n</part>\\n<identifier type=\"preferred citation\">39 WCPD 289</identifier>\\n<extension>\\n<searchTitle>Remarks to the American Medical Association National Conference; Weekly Compilation of Presidential Documents Vol. 39, No. 10</searchTitle>\\n<granuleClass>PRESDOCU</granuleClass>\\n<accessId>WCPD-2003-03-10-Pg289-2</accessId>\\n<eventDate>2003-03-04</eventDate>\\n<president id=\"GWB\" party=\"R\">\\n                        <name type=\"authority-lnf\">Bush, George W.</name>\\n                        <name type=\"authority-fnf\">George W. Bush</name>\\n                        <name type=\"authority-other\">George Bush</name>\\n                        <name type=\"authority-other\">George Walker Bush</name>\\n                    </president>\\n<category1>Addresses and Remarks</category1>\\n<notes>The President spoke at 10 a.m. in the International Ballroom at the Washington Hilton Hotel. In his remarks, he referred to President Saddam Hussein of Iraq; and Dr. Yank Coble, Jr., president, Dr. Michael D. Maves, executive vice president, and Dr. J. Edward Hill, chair of the board of trustees, American Medical Association. The Office of the Press Secretary also released a Spanish language transcript of these remarks.</notes>\\n</extension>\\n<relatedItem type=\"host\" ID=\"P0b002ee1802d66e5\">\\n<titleInfo>\\n<title>Weekly Compilation of Presidential Documents</title>\\n<partNumber>Vol. 39, no. 10</partNumber>\\n</titleInfo>\\n<originInfo>\\n<publisher>Office of the Federal Register, National Archives and Records Administration</publisher>\\n<dateIssued encoding=\"w3cdtf\">2003-03-10</dateIssued>\\n<issuance>continuing</issuance>\\n<frequency>weekly</frequency>\\n</originInfo>\\n<physicalDescription>\\n<note type=\"source content type\">deposited</note>\\n<digitalOrigin>born digital</digitalOrigin>\\n<extent>51 p.</extent>\\n</physicalDescription>\\n<classification authority=\"sudocs\">AE 2.109:</classification>\\n<classification authority=\"sudocs\">GS 4.114:</classification>\\n<identifier type=\"local\">P0b002ee1802d66e5</identifier>\\n<identifier type=\"uri\">https://www.gpo.gov/fdsys/pkg/WCPD-2003-03-10</identifier>\\n<identifier type=\"ILS system id\">000599742</identifier>\\n<identifier type=\"former package identifier\">pd10mr03_txt</identifier>\\n<identifier type=\"preferred citation\">39 WCPD 263</identifier>\\n<location>\\n<url displayLabel=\"Content Detail\" access=\"object in context\">https://www.gpo.gov/fdsys/pkg/WCPD-2003-03-10/content-detail.html</url>\\n<url displayLabel=\"PDF rendition\" access=\"raw object\">https://www.gpo.gov/fdsys/pkg/WCPD-2003-03-10/pdf/WCPD-2003-03-10.pdf</url>\\n</location>\\n<accessCondition type=\"GPO scope determination\">fdlp</accessCondition>\\n<part type=\"issue\">\\n<extent unit=\"pages\">\\n<start>263</start>\\n<end>311</end>\\n</extent>\\n</part>\\n<recordInfo>\\n<recordContentSource authority=\"marcorg\">DGPO</recordContentSource>\\n<recordCreationDate encoding=\"w3cdtf\">2010-08-03</recordCreationDate>\\n<recordChangeDate encoding=\"w3cdtf\">2017-07-18</recordChangeDate>\\n<recordIdentifier source=\"DGPO\">WCPD-2003-03-10</recordIdentifier>\\n<recordOrigin>machine generated</recordOrigin>\\n<languageOfCataloging>\\n<languageTerm type=\"code\" authority=\"iso639-2b\">eng</languageTerm>\\n</languageOfCataloging>\\n</recordInfo>\\n<extension>\\n<docClass>WCPD</docClass>\\n<accessId>WCPD-2003-03-10</accessId>\\n<weekEndingDate>2003-03-07</weekEndingDate>\\n<volume>39</volume>\\n<issue>10</issue>\\n</extension>\\n</relatedItem>\\n</mods>\\n'"
      ]
     },
     "execution_count": 104,
     "metadata": {},
     "output_type": "execute_result"
    }
   ],
   "source": [
    "test_file1 = './file/mods.xml'\n",
    "with open(test_file1, 'r') as f:\n",
    "    text_bush = f.read()\n",
    "text_bush"
   ]
  },
  {
   "cell_type": "code",
   "execution_count": 116,
   "metadata": {
    "collapsed": true
   },
   "outputs": [],
   "source": [
    "presidents = ['\"GWB\"', '\"BHO\"', '\"DJT\"', '\"WJC\"']\n",
    "names = ['George W. Bush', 'Barack H. Obama', 'Donald J. Trump', 'William J. Clinton']\n",
    "parties = ['\"R\"', '\"D\"' ]\n",
    "party_name = ['Republican', 'Democrat']"
   ]
  },
  {
   "cell_type": "code",
   "execution_count": 117,
   "metadata": {},
   "outputs": [],
   "source": [
    "def president(text):\n",
    "    pres = re.findall('(?<=president id=).*\\w\\S', text)\n",
    "    x = pres[0].split()\n",
    "    for president in presidents: \n",
    "        if president in x: \n",
    "            return names[presidents.index(president)]"
   ]
  },
  {
   "cell_type": "code",
   "execution_count": 118,
   "metadata": {},
   "outputs": [
    {
     "data": {
      "text/plain": [
       "'George W. Bush'"
      ]
     },
     "execution_count": 118,
     "metadata": {},
     "output_type": "execute_result"
    }
   ],
   "source": [
    "president(text_bush)"
   ]
  },
  {
   "cell_type": "code",
   "execution_count": 119,
   "metadata": {
    "collapsed": true
   },
   "outputs": [],
   "source": [
    "def party(text):\n",
    "    par = re.findall('(?<=party=).*\\w\\S', text)\n",
    "    for party in parties: \n",
    "        if party in par:\n",
    "            return party_name[parties.index(party)]\n",
    "    "
   ]
  },
  {
   "cell_type": "code",
   "execution_count": 120,
   "metadata": {},
   "outputs": [
    {
     "data": {
      "text/plain": [
       "'Republican'"
      ]
     },
     "execution_count": 120,
     "metadata": {},
     "output_type": "execute_result"
    }
   ],
   "source": [
    "party(text_bush)"
   ]
  },
  {
   "cell_type": "code",
   "execution_count": 342,
   "metadata": {},
   "outputs": [],
   "source": [
    "def notes(text):\n",
    "    note = re.findall('<notes>(.+?)</notes>', text)\n",
    "    if len(note)==0:\n",
    "        return None\n",
    "    else: \n",
    "        return note[0]"
   ]
  },
  {
   "cell_type": "code",
   "execution_count": 122,
   "metadata": {},
   "outputs": [
    {
     "data": {
      "text/plain": [
       "'The President spoke at 10 a.m. in the International Ballroom at the Washington Hilton Hotel. In his remarks, he referred to President Saddam Hussein of Iraq; and Dr. Yank Coble, Jr., president, Dr. Michael D. Maves, executive vice president, and Dr. J. Edward Hill, chair of the board of trustees, American Medical Association. The Office of the Press Secretary also released a Spanish language transcript of these remarks.'"
      ]
     },
     "execution_count": 122,
     "metadata": {},
     "output_type": "execute_result"
    }
   ],
   "source": [
    "notes(text_bush)"
   ]
  },
  {
   "cell_type": "code",
   "execution_count": 263,
   "metadata": {},
   "outputs": [],
   "source": [
    "def date(text):\n",
    "    docclass = re.findall('<docClass>(.+?)</docClass>', text)\n",
    "    accessid = re.findall('<accessId>(.+?)</accessId>', text)\n",
    "    return accessid[(len(accessid)-1)][(len(docclass[0])+1):]"
   ]
  },
  {
   "cell_type": "code",
   "execution_count": 145,
   "metadata": {},
   "outputs": [
    {
     "data": {
      "text/plain": [
       "'2003-03-04'"
      ]
     },
     "execution_count": 145,
     "metadata": {},
     "output_type": "execute_result"
    }
   ],
   "source": [
    "date(text_bush)"
   ]
  },
  {
   "cell_type": "code",
   "execution_count": 146,
   "metadata": {},
   "outputs": [],
   "source": [
    "def year(text):\n",
    "    return date(text)[0:4]\n",
    "\n",
    "def month(text):\n",
    "    return date(text)[5:7]\n",
    "\n",
    "def day(text):\n",
    "    return date(text)[8:]"
   ]
  },
  {
   "cell_type": "code",
   "execution_count": 147,
   "metadata": {},
   "outputs": [
    {
     "name": "stdout",
     "output_type": "stream",
     "text": [
      "2003 03 04\n"
     ]
    }
   ],
   "source": [
    "print(year(text_bush), month(text_bush), day(text_bush))"
   ]
  },
  {
   "cell_type": "code",
   "execution_count": 129,
   "metadata": {
    "collapsed": true
   },
   "outputs": [],
   "source": [
    "def title(text):\n",
    "    sub = re.findall('<title>(.+?)</title>', text)\n",
    "    return sub[0]"
   ]
  },
  {
   "cell_type": "code",
   "execution_count": 130,
   "metadata": {},
   "outputs": [
    {
     "data": {
      "text/plain": [
       "'Remarks to the American Medical Association National Conference'"
      ]
     },
     "execution_count": 130,
     "metadata": {},
     "output_type": "execute_result"
    }
   ],
   "source": [
    "title(text_bush)"
   ]
  },
  {
   "cell_type": "code",
   "execution_count": 390,
   "metadata": {},
   "outputs": [],
   "source": [
    "def people(text):\n",
    "    people = re.findall('<name>(.+?)</name>', text)\n",
    "    if len(people)==0:\n",
    "        return None\n",
    "    else:\n",
    "        return people[1:]"
   ]
  },
  {
   "cell_type": "code",
   "execution_count": 391,
   "metadata": {
    "collapsed": true
   },
   "outputs": [],
   "source": [
    "people(text_bush)"
   ]
  },
  {
   "cell_type": "code",
   "execution_count": 392,
   "metadata": {
    "collapsed": true
   },
   "outputs": [],
   "source": [
    "def topics(text):\n",
    "    topics = re.findall('<topic>(.+?)</topic>', text)\n",
    "    if len(topics)==0:\n",
    "        return None\n",
    "    else: \n",
    "        return topics"
   ]
  },
  {
   "cell_type": "code",
   "execution_count": 393,
   "metadata": {},
   "outputs": [
    {
     "data": {
      "text/plain": [
       "['Addresses and Remarks']"
      ]
     },
     "execution_count": 393,
     "metadata": {},
     "output_type": "execute_result"
    }
   ],
   "source": [
    "topics(text_bush)"
   ]
  },
  {
   "cell_type": "code",
   "execution_count": 394,
   "metadata": {},
   "outputs": [
    {
     "data": {
      "text/plain": [
       "'<mods xmlns:xlink=\"http://www.w3.org/1999/xlink\" xmlns:xsi=\"http://www.w3.org/2001/XMLSchema-instance\" xmlns=\"http://www.loc.gov/mods/v3\" version=\"3.3\" xsi:schemaLocation=\"http://www.loc.gov/mods/v3 http://www.loc.gov/standards/mods/v3/mods-3-3.xsd\" ID=\"P0b002ee1985faaa5\">\\n<name type=\"corporate\" xmlns:exslt=\"http://exslt.org/common\">\\n <namePart>United States Government Publishing Office</namePart>\\n <role>\\n  <roleTerm authority=\"marcrelator\" type=\"text\">publisher</roleTerm>\\n  <roleTerm authority=\"marcrelator\" type=\"code\">pbl</roleTerm>\\n</role>\\n <role>\\n  <roleTerm authority=\"marcrelator\" type=\"text\">distributor</roleTerm>\\n  <roleTerm authority=\"marcrelator\" type=\"code\">dst</roleTerm>\\n</role>\\n</name>\\n<name type=\"corporate\" xmlns:exslt=\"http://exslt.org/common\">\\n <namePart>United States</namePart>\\n <namePart>National Archives and Records Administration</namePart>\\n <namePart>Office of the Federal Register</namePart>\\n <role>\\n  <roleTerm authority=\"marcrelator\" type=\"text\">author</roleTerm>\\n  <roleTerm authority=\"marcrelator\" type=\"code\">aut</roleTerm>\\n</role>\\n <description>Government Organization</description>\\n</name>\\n<typeOfResource>text</typeOfResource>\\n<genre authority=\"marcgt\">government publication</genre>\\n<language xmlns:exslt=\"http://exslt.org/common\">\\n <languageTerm type=\"code\" authority=\"iso639-2b\">eng</languageTerm>\\n</language>\\n<extension xmlns:exslt=\"http://exslt.org/common\">\\n <collectionCode>DCPD</collectionCode>\\n <category>Budget and Presidential Materials</category>\\n <branch>executive</branch>\\n <dateIngested>2018-02-09</dateIngested>\\n</extension>\\n<name type=\"corporate\">\\n <namePart>United States</namePart>\\n <namePart>Executive Office of the President</namePart>\\n <role>\\n  <roleTerm authority=\"marcrelator\" type=\"text\">originator</roleTerm>\\n  <roleTerm authority=\"marcrelator\" type=\"code\">org</roleTerm>\\n</role>\\n <description>United States Government Agency</description>\\n</name>\\n<name type=\"personal\">\\n <namePart>Donald J. Trump</namePart>\\n <role>\\n  <roleTerm authority=\"marcrelator\" type=\"text\">originator</roleTerm>\\n  <roleTerm authority=\"marcrelator\" type=\"code\">org</roleTerm>\\n</role>\\n <description>President of the United States</description>\\n</name>\\n<titleInfo>\\n <title>Remarks at a Working Session With Mayors</title>\\n</titleInfo>\\n<location xmlns:exslt=\"http://exslt.org/common\">\\n <url displayLabel=\"Content Detail\" access=\"object in context\">https://www.gpo.gov/fdsys/pkg/DCPD-201800051/content-detail.html</url>\\n <url displayLabel=\"HTML rendition\" access=\"raw object\">https://www.gpo.gov/fdsys/pkg/DCPD-201800051/html/DCPD-201800051.htm</url>\\n <url displayLabel=\"PDF rendition\" access=\"raw object\">https://www.gpo.gov/fdsys/pkg/DCPD-201800051/pdf/DCPD-201800051.pdf</url>\\n</location>\\n<identifier type=\"preferred citation\">DCPD-201800051</identifier>\\n<note>The President spoke at 3:37 p.m. in the East Room at the White House. In his remarks, he referred to Mayor Betsy Price of Fort Worth, TX; Mayor Toni N. Harp of New Haven, CT; Counselor to the President Kellyanne Conway; and Timothy D. Cook, chief executive officer, Apple Inc.</note>\\n<subject>\\n <topic>Business and industry:Domestic investment, promotion efforts</topic>\\n <topic>Business and industry:Manufacturing industry::Improvement</topic>\\n <topic>Economy, national:Improvement</topic>\\n <topic>Elections:2016 Presidential and congressional elections</topic>\\n <topic>Employment and unemployment:Job creation and growth</topic>\\n <topic>Employment and unemployment:Unemployment rate</topic>\\n <topic>Energy:Oil and gas industry::Dakota Access Pipeline project</topic>\\n <topic>Energy:Oil and gas industry::Keystone XL Pipeline project</topic>\\n <topic>Government organization and employees:Federal infrastructure review and permitting, modernization efforts</topic>\\n <topic>Government organization and employees:Federal regulations, review</topic>\\n <topic>Immigration and naturalization:Illegal immigration</topic>\\n <topic>Justice, Department of:Sanctuary cities, efforts to combat</topic>\\n <topic>Law enforcement and crime:Gang violence, prevention efforts</topic>\\n <topic>Law enforcement and crime:Illegal immigration, deportation of criminals</topic>\\n <topic>Law enforcement and crime:State and community law enforcement agencies, Federal support</topic>\\n <topic>Mayors, working session at White House</topic>\\n <topic>Taxation:Tax Code, reform</topic>\\n <topic>Taxation:Tax relief</topic>\\n <topic>Transportation:Infrastructure, national, improvement efforts</topic>\\n <topic>White House Office:Assistants to the President::Counselor</topic>\\n <geographic>\\n                    Washington, DC\\n                    38.89511180\\n                    -77.03636580\\n                </geographic>\\n <name>\\n  <namePart>Conway, Kellyanne</namePart>\\n</name>\\n <name>\\n  <namePart>Cook, Timothy D.</namePart>\\n</name>\\n <name>\\n  <namePart>Harp, Toni N.</namePart>\\n</name>\\n <name>\\n  <namePart>Maxwell, Dane</namePart>\\n</name>\\n <name>\\n  <namePart>Price, Betsy</namePart>\\n</name>\\n</subject>\\n<extension>\\n <searchTitle>Remarks at a Working Session With Mayors;DCPD-201800051</searchTitle>\\n</extension>\\n<originInfo xmlns:exslt=\"http://exslt.org/common\">\\n <publisher>Office of the Federal Register, National Archives and Records Administration</publisher>\\n <dateIssued encoding=\"w3cdtf\">2018-01-24</dateIssued>\\n <issuance>continuing</issuance>\\n <frequency authority=\"marcfrequency\">daily</frequency>\\n</originInfo>\\n<physicalDescription xmlns:exslt=\"http://exslt.org/common\">\\n <note type=\"source content type\">deposited</note>\\n <digitalOrigin>born digital</digitalOrigin>\\n <extent>5 p.</extent>\\n</physicalDescription>\\n<classification authority=\"sudocs\"></classification>\\n<classification authority=\"lcs\"></classification>\\n<identifier type=\"uri\" xmlns:exslt=\"http://exslt.org/common\">https://www.gpo.gov/fdsys/pkg/DCPD-201800051</identifier>\\n<identifier type=\"local\" xmlns:exslt=\"http://exslt.org/common\">P0b002ee1985faaa5</identifier>\\n<identifier type=\"ILS system id\" xmlns:exslt=\"http://exslt.org/common\">000599742</identifier>\\n<identifier type=\"Child ILS system id\" xmlns:exslt=\"http://exslt.org/common\">000599742</identifier>\\n<recordInfo xmlns:exslt=\"http://exslt.org/common\">\\n <recordContentSource authority=\"marcorg\">DGPO</recordContentSource>\\n <recordCreationDate encoding=\"w3cdtf\">2018-02-09</recordCreationDate>\\n <recordChangeDate encoding=\"w3cdtf\">2018-02-09</recordChangeDate>\\n <recordIdentifier source=\"DGPO\">DCPD-201800051</recordIdentifier>\\n <recordOrigin>machine generated</recordOrigin>\\n <languageOfCataloging>\\n  <languageTerm type=\"code\" authority=\"iso639-2b\">eng</languageTerm>\\n</languageOfCataloging>\\n</recordInfo>\\n<accessCondition type=\"GPO scope determination\" xmlns:exslt=\"http://exslt.org/common\">fdlp</accessCondition>\\n<extension xmlns:exslt=\"http://exslt.org/common\">\\n <docClass>PRESDOC</docClass>\\n <dcpdCategory>\\n                      <level1>Addresses and Remarks</level1>\\n                      <level2>Mayors, working session</level2>\\n                </dcpdCategory>\\n <location>\\n                      <name>Washington, DC</name>\\n                      <latitude>38.89511180</latitude>\\n                      <longitude>-77.03636580</longitude>\\n                </location>\\n <name>Conway, Kellyanne</name>\\n <name>Cook, Timothy D.</name>\\n <name>Harp, Toni N.</name>\\n <name>Maxwell, Dane</name>\\n <name>Price, Betsy</name>\\n <subject>\\n                      <level1>Business and industry</level1>\\n                      <level2>Domestic investment, promotion efforts</level2>\\n                </subject>\\n <subject>\\n                      <level1>Business and industry</level1>\\n                      <level2>Manufacturing industry</level2>\\n                      <level3>Improvement</level3>\\n                </subject>\\n <subject>\\n                      <level1>Economy, national</level1>\\n                      <level2>Improvement</level2>\\n                </subject>\\n <subject>\\n                      <level1>Elections</level1>\\n                      <level2>2016 Presidential and congressional elections</level2>\\n                </subject>\\n <subject>\\n                      <level1>Employment and unemployment</level1>\\n                      <level2>Job creation and growth</level2>\\n                </subject>\\n <subject>\\n                      <level1>Employment and unemployment</level1>\\n                      <level2>Unemployment rate</level2>\\n                </subject>\\n <subject>\\n                      <level1>Energy</level1>\\n                      <level2>Oil and gas industry</level2>\\n                      <level3>Dakota Access Pipeline project</level3>\\n                </subject>\\n <subject>\\n                      <level1>Energy</level1>\\n                      <level2>Oil and gas industry</level2>\\n                      <level3>Keystone XL Pipeline project</level3>\\n                </subject>\\n <subject>\\n                      <level1>Government organization and employees</level1>\\n                      <level2>Federal infrastructure review and permitting, modernization efforts</level2>\\n                </subject>\\n <subject>\\n                      <level1>Government organization and employees</level1>\\n                      <level2>Federal regulations, review</level2>\\n                </subject>\\n <subject>\\n                      <level1>Immigration and naturalization</level1>\\n                      <level2>Illegal immigration</level2>\\n                </subject>\\n <subject>\\n                      <level1>Justice, Department of</level1>\\n                      <level2>Sanctuary cities, efforts to combat</level2>\\n                </subject>\\n <subject>\\n                      <level1>Law enforcement and crime</level1>\\n                      <level2>Gang violence, prevention efforts</level2>\\n                </subject>\\n <subject>\\n                      <level1>Law enforcement and crime</level1>\\n                      <level2>Illegal immigration, deportation of criminals</level2>\\n                </subject>\\n <subject>\\n                      <level1>Law enforcement and crime</level1>\\n                      <level2>State and community law enforcement agencies, Federal support</level2>\\n                </subject>\\n <subject>\\n                      <level1>Mayors, working session at White House</level1>\\n                </subject>\\n <subject>\\n                      <level1>Taxation</level1>\\n                      <level2>Tax Code, reform</level2>\\n                </subject>\\n <subject>\\n                      <level1>Taxation</level1>\\n                      <level2>Tax relief</level2>\\n                </subject>\\n <subject>\\n                      <level1>Transportation</level1>\\n                      <level2>Infrastructure, national, improvement efforts</level2>\\n                </subject>\\n <subject>\\n                      <level1>White House Office</level1>\\n                      <level2>Assistants to the President</level2>\\n                      <level3>Counselor</level3>\\n                </subject>\\n <notes>The President spoke at 3:37 p.m. in the East Room at the White House. In his remarks, he referred to Mayor Betsy Price of Fort Worth, TX; Mayor Toni N. Harp of New Haven, CT; Counselor to the President Kellyanne Conway; and Timothy D. Cook, chief executive officer, Apple Inc.</notes>\\n <accessId>DCPD-201800051</accessId>\\n <president id=\"DJT\" party=\"R\">\\n                      <name type=\"authority-lnf\">Trump, Donald J.</name>\\n                      <name type=\"authority-fnf\">Donald J. Trump</name>\\n                      <name type=\"authority-other\">Donald Trump</name>\\n                      <name type=\"authority-other\">Donald John Trump</name>\\n                </president>\\n</extension>\\n</mods>'"
      ]
     },
     "execution_count": 394,
     "metadata": {},
     "output_type": "execute_result"
    }
   ],
   "source": [
    "test_file2 = './file/modstrump.xml'\n",
    "with open(test_file2, 'r') as f:\n",
    "    text_trump = f.read()\n",
    "text_trump"
   ]
  },
  {
   "cell_type": "code",
   "execution_count": 395,
   "metadata": {},
   "outputs": [
    {
     "data": {
      "text/plain": [
       "'Donald J. Trump'"
      ]
     },
     "execution_count": 395,
     "metadata": {},
     "output_type": "execute_result"
    }
   ],
   "source": [
    "president(text_trump)"
   ]
  },
  {
   "cell_type": "code",
   "execution_count": 396,
   "metadata": {},
   "outputs": [
    {
     "data": {
      "text/plain": [
       "'Republican'"
      ]
     },
     "execution_count": 396,
     "metadata": {},
     "output_type": "execute_result"
    }
   ],
   "source": [
    "party(text_trump)"
   ]
  },
  {
   "cell_type": "code",
   "execution_count": 397,
   "metadata": {},
   "outputs": [
    {
     "data": {
      "text/plain": [
       "'The President spoke at 3:37 p.m. in the East Room at the White House. In his remarks, he referred to Mayor Betsy Price of Fort Worth, TX; Mayor Toni N. Harp of New Haven, CT; Counselor to the President Kellyanne Conway; and Timothy D. Cook, chief executive officer, Apple Inc.'"
      ]
     },
     "execution_count": 397,
     "metadata": {},
     "output_type": "execute_result"
    }
   ],
   "source": [
    "notes(text_trump)"
   ]
  },
  {
   "cell_type": "code",
   "execution_count": 398,
   "metadata": {},
   "outputs": [
    {
     "data": {
      "text/plain": [
       "'Remarks at a Working Session With Mayors'"
      ]
     },
     "execution_count": 398,
     "metadata": {},
     "output_type": "execute_result"
    }
   ],
   "source": [
    "title(text_trump)"
   ]
  },
  {
   "cell_type": "code",
   "execution_count": 400,
   "metadata": {},
   "outputs": [
    {
     "data": {
      "text/plain": [
       "['Conway, Kellyanne',\n",
       " 'Cook, Timothy D.',\n",
       " 'Harp, Toni N.',\n",
       " 'Maxwell, Dane',\n",
       " 'Price, Betsy']"
      ]
     },
     "execution_count": 400,
     "metadata": {},
     "output_type": "execute_result"
    }
   ],
   "source": [
    "people(text_trump) "
   ]
  },
  {
   "cell_type": "code",
   "execution_count": 401,
   "metadata": {},
   "outputs": [
    {
     "data": {
      "text/plain": [
       "'800051'"
      ]
     },
     "execution_count": 401,
     "metadata": {},
     "output_type": "execute_result"
    }
   ],
   "source": [
    "date(text_trump) #Problem with date function "
   ]
  },
  {
   "cell_type": "code",
   "execution_count": 402,
   "metadata": {
    "collapsed": true
   },
   "outputs": [],
   "source": [
    "def topic_levels(text):\n",
    "    x = topics(text)\n",
    "    contains_sub = []\n",
    "    contains_post_sub = []\n",
    "    for k in range(len(x)):\n",
    "        if ':' in x[k]:\n",
    "            contains_sub.append(x[k])\n",
    "    for k in range(len(contains_sub)):\n",
    "        if '::' in contains_sub[k]:\n",
    "            contains_post_sub.append(contains_sub[k])       \n",
    "    if len(contains_sub)!=0:\n",
    "        main = []\n",
    "        sub = []\n",
    "        for i in range(len(x)):\n",
    "            main.append(x[i].split(':')[0])\n",
    "            sub.append(x[i].split('::')[0][len(main[i])+1:])  \n",
    "    if len(contains_post_sub)!=0:\n",
    "        sub_sub = []\n",
    "        for i in range(len(x)):\n",
    "            sub_sub.append(x[i][(len(main[i])+1+len(sub[i])+2):])\n",
    "    if len(contains_sub)==0: \n",
    "        return topics(text)\n",
    "    if len(contains_post_sub)==0:\n",
    "        return [main, sub]\n",
    "    else: \n",
    "        return [main, sub, sub_sub]"
   ]
  },
  {
   "cell_type": "code",
   "execution_count": 403,
   "metadata": {
    "scrolled": true
   },
   "outputs": [
    {
     "data": {
      "text/plain": [
       "['Business and industry:Domestic investment, promotion efforts',\n",
       " 'Business and industry:Manufacturing industry::Improvement',\n",
       " 'Economy, national:Improvement',\n",
       " 'Elections:2016 Presidential and congressional elections',\n",
       " 'Employment and unemployment:Job creation and growth',\n",
       " 'Employment and unemployment:Unemployment rate',\n",
       " 'Energy:Oil and gas industry::Dakota Access Pipeline project',\n",
       " 'Energy:Oil and gas industry::Keystone XL Pipeline project',\n",
       " 'Government organization and employees:Federal infrastructure review and permitting, modernization efforts',\n",
       " 'Government organization and employees:Federal regulations, review',\n",
       " 'Immigration and naturalization:Illegal immigration',\n",
       " 'Justice, Department of:Sanctuary cities, efforts to combat',\n",
       " 'Law enforcement and crime:Gang violence, prevention efforts',\n",
       " 'Law enforcement and crime:Illegal immigration, deportation of criminals',\n",
       " 'Law enforcement and crime:State and community law enforcement agencies, Federal support',\n",
       " 'Mayors, working session at White House',\n",
       " 'Taxation:Tax Code, reform',\n",
       " 'Taxation:Tax relief',\n",
       " 'Transportation:Infrastructure, national, improvement efforts',\n",
       " 'White House Office:Assistants to the President::Counselor']"
      ]
     },
     "execution_count": 403,
     "metadata": {},
     "output_type": "execute_result"
    }
   ],
   "source": [
    "topics(text_trump)"
   ]
  },
  {
   "cell_type": "code",
   "execution_count": 404,
   "metadata": {},
   "outputs": [
    {
     "data": {
      "text/plain": [
       "[['Business and industry',\n",
       "  'Business and industry',\n",
       "  'Economy, national',\n",
       "  'Elections',\n",
       "  'Employment and unemployment',\n",
       "  'Employment and unemployment',\n",
       "  'Energy',\n",
       "  'Energy',\n",
       "  'Government organization and employees',\n",
       "  'Government organization and employees',\n",
       "  'Immigration and naturalization',\n",
       "  'Justice, Department of',\n",
       "  'Law enforcement and crime',\n",
       "  'Law enforcement and crime',\n",
       "  'Law enforcement and crime',\n",
       "  'Mayors, working session at White House',\n",
       "  'Taxation',\n",
       "  'Taxation',\n",
       "  'Transportation',\n",
       "  'White House Office'],\n",
       " ['Domestic investment, promotion efforts',\n",
       "  'Manufacturing industry',\n",
       "  'Improvement',\n",
       "  '2016 Presidential and congressional elections',\n",
       "  'Job creation and growth',\n",
       "  'Unemployment rate',\n",
       "  'Oil and gas industry',\n",
       "  'Oil and gas industry',\n",
       "  'Federal infrastructure review and permitting, modernization efforts',\n",
       "  'Federal regulations, review',\n",
       "  'Illegal immigration',\n",
       "  'Sanctuary cities, efforts to combat',\n",
       "  'Gang violence, prevention efforts',\n",
       "  'Illegal immigration, deportation of criminals',\n",
       "  'State and community law enforcement agencies, Federal support',\n",
       "  '',\n",
       "  'Tax Code, reform',\n",
       "  'Tax relief',\n",
       "  'Infrastructure, national, improvement efforts',\n",
       "  'Assistants to the President'],\n",
       " ['',\n",
       "  'Improvement',\n",
       "  '',\n",
       "  '',\n",
       "  '',\n",
       "  '',\n",
       "  'Dakota Access Pipeline project',\n",
       "  'Keystone XL Pipeline project',\n",
       "  '',\n",
       "  '',\n",
       "  '',\n",
       "  '',\n",
       "  '',\n",
       "  '',\n",
       "  '',\n",
       "  '',\n",
       "  '',\n",
       "  '',\n",
       "  '',\n",
       "  'Counselor']]"
      ]
     },
     "execution_count": 404,
     "metadata": {},
     "output_type": "execute_result"
    }
   ],
   "source": [
    "topic_levels(text_trump)"
   ]
  },
  {
   "cell_type": "code",
   "execution_count": 405,
   "metadata": {},
   "outputs": [
    {
     "data": {
      "text/plain": [
       "'<?xml version=\"1.0\" encoding=\"UTF-8\"?><mods xmlns:xlink=\"http://www.w3.org/1999/xlink\" xmlns:exslt=\"http://exslt.org/common\" xmlns:xsi=\"http://www.w3.org/2001/XMLSchema-instance\" xmlns=\"http://www.loc.gov/mods/v3\" version=\"3.3\" xsi:schemaLocation=\"http://www.loc.gov/mods/v3 http://www.loc.gov/standards/mods/v3/mods-3-3.xsd\" ID=\"id-WCPD-2000-10-09-Pg2277\">\\n<name type=\"corporate\">\\n<namePart>United States Government Publishing Office</namePart>\\n<role>\\n<roleTerm authority=\"marcrelator\" type=\"text\">publisher</roleTerm>\\n<roleTerm authority=\"marcrelator\" type=\"code\">pbl</roleTerm>\\n</role>\\n<role>\\n<roleTerm authority=\"marcrelator\" type=\"text\">distributor</roleTerm>\\n<roleTerm authority=\"marcrelator\" type=\"code\">dst</roleTerm>\\n</role>\\n</name>\\n<name type=\"corporate\">\\n<namePart>United States</namePart>\\n<namePart>National Archives and Records Administration</namePart>\\n<namePart>Office of the Federal Register</namePart>\\n<role>\\n<roleTerm authority=\"marcrelator\" type=\"text\">author</roleTerm>\\n<roleTerm authority=\"marcrelator\" type=\"code\">aut</roleTerm>\\n</role>\\n<description>Government Organization</description>\\n</name>\\n<name type=\"corporate\">\\n<namePart>United States</namePart>\\n<namePart>Executive Office of the President</namePart>\\n<role>\\n<roleTerm authority=\"marcrelator\" type=\"text\">author</roleTerm>\\n<roleTerm authority=\"marcrelator\" type=\"code\">aut</roleTerm>\\n</role>\\n<description>United States Government Agency</description>\\n</name>\\n<typeOfResource>text</typeOfResource>\\n<genre authority=\"marcgt\">government publication</genre>\\n<language>\\n<languageTerm type=\"code\" authority=\"iso639-2b\">eng</languageTerm>\\n</language>\\n<extension>\\n<collectionCode>WCPD</collectionCode>\\n<category>Budget and Presidential Materials</category>\\n<waisDatabaseName>2000_presidential_documents</waisDatabaseName>\\n<branch>executive</branch>\\n<dateIngested>2010-08-03</dateIngested>\\n</extension>\\n<name type=\"personal\">\\n<namePart>William J. Clinton</namePart>\\n<role>\\n<roleTerm authority=\"marcrelator\" type=\"text\">author</roleTerm>\\n<roleTerm authority=\"marcrelator\" type=\"code\">aut</roleTerm>\\n</role>\\n<description>President of the United States</description>\\n</name>\\n<genre authority=\"marcgt\">article</genre>\\n<titleInfo>\\n<title>Remarks on the Student Loan Program and Student Assistance</title>\\n</titleInfo>\\n<relatedItem type=\"otherFormat\" xlink:href=\"https://www.gpo.gov/fdsys/pkg/WCPD-2000-10-09/html/WCPD-2000-10-09-Pg2277.htm\">\\n<identifier type=\"FDsys Unique ID\">D09002ee1959edf35</identifier>\\n</relatedItem>\\n<relatedItem type=\"otherFormat\" xlink:href=\"https://www.gpo.gov/fdsys/pkg/WCPD-2000-10-09/pdf/WCPD-2000-10-09-Pg2277.pdf\">\\n<identifier type=\"FDsys Unique ID\">D09002ee1959edf82</identifier>\\n</relatedItem>\\n<identifier type=\"WCPD citation\">36 WCPD 2277</identifier>\\n<identifier type=\"uri\">https://www.gpo.gov/fdsys/granule/WCPD-2000-10-09/WCPD-2000-10-09-Pg2277</identifier>\\n<identifier type=\"former granule identifier\">pd09oc00_txt-11</identifier>\\n<location>\\n<url displayLabel=\"Content Detail\" access=\"object in context\">https://www.gpo.gov/fdsys/granule/WCPD-2000-10-09/WCPD-2000-10-09-Pg2277/content-detail.html</url>\\n<url access=\"raw object\" displayLabel=\"PDF rendition\">https://www.gpo.gov/fdsys/pkg/WCPD-2000-10-09/pdf/WCPD-2000-10-09-Pg2277.pdf</url>\\n<url access=\"raw object\" displayLabel=\"HTML rendition\">https://www.gpo.gov/fdsys/pkg/WCPD-2000-10-09/html/WCPD-2000-10-09-Pg2277.htm</url>\\n</location>\\n<subject>\\n<topic>Addresses and Remarks</topic>\\n</subject>\\n<physicalDescription>\\n<extent>5 p.</extent>\\n</physicalDescription>\\n<part type=\"article\">\\n<extent unit=\"pages\">\\n<start>2277</start>\\n<end>2281</end>\\n</extent>\\n</part>\\n<identifier type=\"preferred citation\">36 WCPD 2277</identifier>\\n<extension>\\n<searchTitle>Remarks on the Student Loan Program and Student Assistance; Weekly Compilation of Presidential Documents Vol. 36, No. 40</searchTitle>\\n<granuleClass>PRESDOCU</granuleClass>\\n<accessId>WCPD-2000-10-09-Pg2277</accessId>\\n<eventDate>2000-10-02</eventDate>\\n<president id=\"WJC\" party=\"D\">\\n                        <name type=\"authority-lnf\">Clinton, William J.</name>\\n                        <name type=\"authority-fnf\">William J. Clinton</name>\\n                        <name type=\"authority-other\">Bill Clinton</name>\\n                        <name type=\"authority-other\">William Clinton</name>\\n                        <name type=\"authority-other\">William Jefferson Clinton</name>\\n                    </president>\\n<category1>Addresses and Remarks</category1>\\n<notes>The President spoke at 11:05 a.m. in Presidential Hall in the Dwight D. Eisenhower Executive Office Building. In his remarks, he referred to Raquel Talley, student loan recipient who introduced the President; and NAGB, the National Assessment Governing Board.</notes>\\n</extension>\\n<relatedItem type=\"host\" ID=\"P0b002ee1802d2a1d\">\\n<titleInfo>\\n<title>Weekly Compilation of Presidential Documents</title>\\n<partNumber>Vol. 36, no. 40</partNumber>\\n</titleInfo>\\n<originInfo>\\n<publisher>Office of the Federal Register, National Archives and Records Administration</publisher>\\n<dateIssued encoding=\"w3cdtf\">2000-10-09</dateIssued>\\n<issuance>continuing</issuance>\\n<frequency>weekly</frequency>\\n</originInfo>\\n<physicalDescription>\\n<note type=\"source content type\">deposited</note>\\n<digitalOrigin>born digital</digitalOrigin>\\n<extent>82 p.</extent>\\n</physicalDescription>\\n<classification authority=\"sudocs\">AE 2.109:</classification>\\n<classification authority=\"sudocs\">GS 4.114:</classification>\\n<identifier type=\"local\">P0b002ee1802d2a1d</identifier>\\n<identifier type=\"uri\">https://www.gpo.gov/fdsys/pkg/WCPD-2000-10-09</identifier>\\n<identifier type=\"ILS system id\">000599742</identifier>\\n<identifier type=\"former package identifier\">pd09oc00_txt</identifier>\\n<identifier type=\"preferred citation\">36 WCPD 2269</identifier>\\n<location>\\n<url displayLabel=\"Content Detail\" access=\"object in context\">https://www.gpo.gov/fdsys/pkg/WCPD-2000-10-09/content-detail.html</url>\\n<url displayLabel=\"PDF rendition\" access=\"raw object\">https://www.gpo.gov/fdsys/pkg/WCPD-2000-10-09/pdf/WCPD-2000-10-09.pdf</url>\\n</location>\\n<accessCondition type=\"GPO scope determination\">fdlp</accessCondition>\\n<part type=\"issue\">\\n<extent unit=\"pages\">\\n<start>2269</start>\\n<end>2347</end>\\n</extent>\\n</part>\\n<recordInfo>\\n<recordContentSource authority=\"marcorg\">DGPO</recordContentSource>\\n<recordCreationDate encoding=\"w3cdtf\">2010-08-03</recordCreationDate>\\n<recordChangeDate encoding=\"w3cdtf\">2017-07-18</recordChangeDate>\\n<recordIdentifier source=\"DGPO\">WCPD-2000-10-09</recordIdentifier>\\n<recordOrigin>machine generated</recordOrigin>\\n<languageOfCataloging>\\n<languageTerm type=\"code\" authority=\"iso639-2b\">eng</languageTerm>\\n</languageOfCataloging>\\n</recordInfo>\\n<extension>\\n<docClass>WCPD</docClass>\\n<accessId>WCPD-2000-10-09</accessId>\\n<weekEndingDate>2000-10-06</weekEndingDate>\\n<volume>36</volume>\\n<issue>40</issue>\\n</extension>\\n</relatedItem>\\n</mods>\\n'"
      ]
     },
     "execution_count": 405,
     "metadata": {},
     "output_type": "execute_result"
    }
   ],
   "source": [
    "test_file3 = './file/modsclinton.xml'\n",
    "with open(test_file3, 'r') as f:\n",
    "    text_clinton = f.read()\n",
    "text_clinton"
   ]
  },
  {
   "cell_type": "code",
   "execution_count": 406,
   "metadata": {},
   "outputs": [
    {
     "data": {
      "text/plain": [
       "'William J. Clinton'"
      ]
     },
     "execution_count": 406,
     "metadata": {},
     "output_type": "execute_result"
    }
   ],
   "source": [
    "president(text_clinton)"
   ]
  },
  {
   "cell_type": "code",
   "execution_count": 407,
   "metadata": {},
   "outputs": [
    {
     "data": {
      "text/plain": [
       "'Democrat'"
      ]
     },
     "execution_count": 407,
     "metadata": {},
     "output_type": "execute_result"
    }
   ],
   "source": [
    "party(text_clinton)"
   ]
  },
  {
   "cell_type": "code",
   "execution_count": 408,
   "metadata": {},
   "outputs": [
    {
     "data": {
      "text/plain": [
       "'2000-10-09'"
      ]
     },
     "execution_count": 408,
     "metadata": {},
     "output_type": "execute_result"
    }
   ],
   "source": [
    "date(text_clinton)"
   ]
  },
  {
   "cell_type": "code",
   "execution_count": 409,
   "metadata": {},
   "outputs": [
    {
     "name": "stdout",
     "output_type": "stream",
     "text": [
      "2000 10 09\n"
     ]
    }
   ],
   "source": [
    "print(year(text_clinton), month(text_clinton), day(text_clinton))"
   ]
  },
  {
   "cell_type": "code",
   "execution_count": 410,
   "metadata": {},
   "outputs": [
    {
     "data": {
      "text/plain": [
       "'Remarks on the Student Loan Program and Student Assistance'"
      ]
     },
     "execution_count": 410,
     "metadata": {},
     "output_type": "execute_result"
    }
   ],
   "source": [
    "title(text_clinton)"
   ]
  },
  {
   "cell_type": "code",
   "execution_count": 411,
   "metadata": {},
   "outputs": [
    {
     "data": {
      "text/plain": [
       "['Addresses and Remarks']"
      ]
     },
     "execution_count": 411,
     "metadata": {},
     "output_type": "execute_result"
    }
   ],
   "source": [
    "topics(text_clinton)"
   ]
  },
  {
   "cell_type": "code",
   "execution_count": 412,
   "metadata": {},
   "outputs": [
    {
     "data": {
      "text/plain": [
       "['Addresses and Remarks']"
      ]
     },
     "execution_count": 412,
     "metadata": {},
     "output_type": "execute_result"
    }
   ],
   "source": [
    "topic_levels(text_clinton)"
   ]
  },
  {
   "cell_type": "code",
   "execution_count": 413,
   "metadata": {
    "collapsed": true
   },
   "outputs": [],
   "source": [
    "people(text_clinton)"
   ]
  },
  {
   "cell_type": "code",
   "execution_count": 414,
   "metadata": {},
   "outputs": [
    {
     "data": {
      "text/plain": [
       "'The President spoke at 11:05 a.m. in Presidential Hall in the Dwight D. Eisenhower Executive Office Building. In his remarks, he referred to Raquel Talley, student loan recipient who introduced the President; and NAGB, the National Assessment Governing Board.'"
      ]
     },
     "execution_count": 414,
     "metadata": {},
     "output_type": "execute_result"
    }
   ],
   "source": [
    "notes(text_clinton)"
   ]
  },
  {
   "cell_type": "code",
   "execution_count": 415,
   "metadata": {},
   "outputs": [
    {
     "data": {
      "text/plain": [
       "'<mods xmlns=\"http://www.loc.gov/mods/v3\" xmlns:xsi=\"http://www.w3.org/2001/XMLSchema-instance\" xmlns:xlink=\"http://www.w3.org/1999/xlink\" xsi:schemaLocation=\"http://www.loc.gov/mods/v3 http://www.loc.gov/standards/mods/v3/mods-3-3.xsd\" version=\"3.3\" ID=\"P0b002ee181f6de17\">\\n<name xmlns:exslt=\"http://exslt.org/common\" type=\"corporate\">\\n <namePart>United States Government Printing Office</namePart>\\n <role>\\n  <roleTerm type=\"text\" authority=\"marcrelator\">printer</roleTerm>\\n  <roleTerm type=\"code\" authority=\"marcrelator\">prt</roleTerm>\\n</role>\\n <role>\\n  <roleTerm type=\"text\" authority=\"marcrelator\">distributor</roleTerm>\\n  <roleTerm type=\"code\" authority=\"marcrelator\">dst</roleTerm>\\n</role>\\n</name>\\n<name xmlns:exslt=\"http://exslt.org/common\" type=\"corporate\">\\n <namePart>United States</namePart>\\n <namePart>National Archives and Records Administration</namePart>\\n <namePart>Office of the Federal Register</namePart>\\n <role>\\n  <roleTerm type=\"text\" authority=\"marcrelator\">author</roleTerm>\\n  <roleTerm type=\"code\" authority=\"marcrelator\">aut</roleTerm>\\n</role>\\n <description>Government Organization</description>\\n</name>\\n<typeOfResource xmlns:exslt=\"http://exslt.org/common\">text</typeOfResource>\\n<genre authority=\"marcgt\">government publication</genre>\\n<language xmlns:exslt=\"http://exslt.org/common\">\\n <languageTerm authority=\"iso639-2b\" type=\"code\">eng</languageTerm>\\n</language>\\n<extension xmlns:exslt=\"http://exslt.org/common\">\\n <collectionCode>DCPD</collectionCode>\\n <category>Budget and Presidential Materials</category>\\n <branch>executive</branch>\\n <dateIngested>2012-03-06</dateIngested>\\n</extension>\\n<name type=\"corporate\">\\n <namePart>United States</namePart>\\n <namePart>Executive Office of the President</namePart>\\n <role>\\n  <roleTerm type=\"text\" authority=\"marcrelator\">originator</roleTerm>\\n  <roleTerm type=\"code\" authority=\"marcrelator\">org</roleTerm>\\n</role>\\n <description>United States Government Agency</description>\\n</name>\\n<name type=\"personal\">\\n <namePart>Barack H. Obama</namePart>\\n <role>\\n  <roleTerm type=\"text\" authority=\"marcrelator\">originator</roleTerm>\\n  <roleTerm type=\"code\" authority=\"marcrelator\">org</roleTerm>\\n</role>\\n <description>President of the United States</description>\\n</name>\\n<titleInfo>\\n <title>Remarks at Nashua Community College in Nashua, New Hampshire</title>\\n</titleInfo>\\n<location xmlns:exslt=\"http://exslt.org/common\">\\n <url access=\"object in context\" displayLabel=\"Content Detail\">http://www.gpo.gov/fdsys/pkg/DCPD-201200142/content-detail.html</url>\\n <url access=\"raw object\" displayLabel=\"HTML rendition\">http://www.gpo.gov/fdsys/pkg/DCPD-201200142/html/DCPD-201200142.htm</url>\\n <url access=\"raw object\" displayLabel=\"PDF rendition\">http://www.gpo.gov/fdsys/pkg/DCPD-201200142/pdf/DCPD-201200142.pdf</url>\\n</location>\\n<identifier type=\"preferred citation\">DCPD-201200142</identifier>\\n<note>The President spoke at 1:28 p.m. In his remarks, he referred to Nashua Community College student Mike Kapel.</note>\\n<subject>\\n <topic>Business and industry:Automobile industry::Strengthening efforts</topic>\\n <topic>China:Economic growth and development</topic>\\n <topic>Education:Postsecondary education::Career training and continuing education</topic>\\n <topic>Elections:2012 Presidential and congressional elections</topic>\\n <topic>Employment and unemployment:Job creation and growth</topic>\\n <topic>Energy:Alternative and renewable sources and technologies::Federal Government use</topic>\\n <topic>Energy:Alternative and renewable sources and technologies::Promotion efforts</topic>\\n <topic>Energy:Developing countries, energy sources</topic>\\n <topic>Energy:Domestic sources</topic>\\n <topic>Energy:Energy efficiency and weatherization::Homes and buildings</topic>\\n <topic>Energy:Foreign sources</topic>\\n <topic>Energy:Fuel efficiency standards, strengthening efforts</topic>\\n <topic>Energy:Gasoline, oil, and natural gas costs</topic>\\n <topic>Energy:Hybrid and alternative fuel automobiles::Battery technology, U.S. production</topic>\\n <topic>Energy:National energy policy</topic>\\n <topic>Energy:Oil and gas industry::Federal regulations and oversight</topic>\\n <topic>Energy:Oil and gas industry::Safety and environmental issues</topic>\\n <topic>Energy:Oil and gas industry::Subsidies, elimination</topic>\\n <topic>Iran:Oil supply and refining</topic>\\n <topic>New Hampshire:Nashua Community College in Nashua</topic>\\n <topic>New Hampshire:President&apos;s visit</topic>\\n <geographic>\\n                    Nashua, NH\\n                    42.76536620\\n                    -71.46756599999999\\n                </geographic>\\n <name>\\n  <namePart>Bush, George W.</namePart>\\n</name>\\n <name>\\n  <namePart>Jordan, Lucille A.</namePart>\\n</name>\\n <name>\\n  <namePart>Kapel, Mike</namePart>\\n</name>\\n <name>\\n  <namePart>Lozeau, Donnalee</namePart>\\n</name>\\n <name>\\n  <namePart>Wunderlich, Karl A.</namePart>\\n</name>\\n</subject>\\n<extension>\\n <searchTitle>Remarks at Nashua Community College in Nashua, New Hampshire;DCPD-201200142</searchTitle>\\n</extension>\\n<originInfo xmlns:exslt=\"http://exslt.org/common\">\\n <publisher>Office of the Federal Register, National Archives and Records Administration</publisher>\\n <dateIssued encoding=\"w3cdtf\">2012-03-01</dateIssued>\\n <issuance>continuing</issuance>\\n <frequency authority=\"marcfrequency\">daily</frequency>\\n</originInfo>\\n<physicalDescription xmlns:exslt=\"http://exslt.org/common\">\\n <note type=\"source content type\">deposited</note>\\n <digitalOrigin>born digital</digitalOrigin>\\n <extent>6 p.</extent>\\n</physicalDescription>\\n<classification authority=\"sudocs\"></classification>\\n<classification authority=\"lcs\"></classification>\\n<identifier xmlns:exslt=\"http://exslt.org/common\" type=\"uri\">http://www.gpo.gov/fdsys/pkg/DCPD-201200142</identifier>\\n<identifier xmlns:exslt=\"http://exslt.org/common\" type=\"local\">P0b002ee181f6de17</identifier>\\n<identifier xmlns:exslt=\"http://exslt.org/common\" type=\"ILS system id\">000599742</identifier>\\n<identifier xmlns:exslt=\"http://exslt.org/common\" type=\"Child ILS system id\">000599742</identifier>\\n<recordInfo xmlns:exslt=\"http://exslt.org/common\">\\n <recordContentSource authority=\"marcorg\">DGPO</recordContentSource>\\n <recordCreationDate encoding=\"w3cdtf\">2012-03-06</recordCreationDate>\\n <recordChangeDate encoding=\"w3cdtf\">2012-06-15</recordChangeDate>\\n <recordIdentifier source=\"DGPO\">DCPD-201200142</recordIdentifier>\\n <recordOrigin>machine generated</recordOrigin>\\n <languageOfCataloging>\\n  <languageTerm authority=\"iso639-2b\" type=\"code\">eng</languageTerm>\\n</languageOfCataloging>\\n</recordInfo>\\n<accessCondition xmlns:exslt=\"http://exslt.org/common\" type=\"GPO scope determination\">fdlp</accessCondition>\\n<extension xmlns:exslt=\"http://exslt.org/common\">\\n <docClass>PRESDOC</docClass>\\n <dcpdCategory>\\n                      <level1>Addresses and Remarks</level1>\\n                      <level2>Nashua Community College in Nashua, NH</level2>\\n                </dcpdCategory>\\n <location>\\n                      <name>Nashua, NH</name>\\n                      <latitude>42.76536620</latitude>\\n                      <longitude>-71.46756599999999</longitude>\\n                </location>\\n <name>Bush, George W.</name>\\n <name>Jordan, Lucille A.</name>\\n <name>Kapel, Mike</name>\\n <name>Lozeau, Donnalee</name>\\n <name>Wunderlich, Karl A.</name>\\n <subject>\\n                      <level1>Business and industry</level1>\\n                      <level2>Automobile industry</level2>\\n                      <level3>Strengthening efforts</level3>\\n                </subject>\\n <subject>\\n                      <level1>China</level1>\\n                      <level2>Economic growth and development</level2>\\n                </subject>\\n <subject>\\n                      <level1>Education</level1>\\n                      <level2>Postsecondary education</level2>\\n                      <level3>Career training and continuing education</level3>\\n                </subject>\\n <subject>\\n                      <level1>Elections</level1>\\n                      <level2>2012 Presidential and congressional elections</level2>\\n                </subject>\\n <subject>\\n                      <level1>Employment and unemployment</level1>\\n                      <level2>Job creation and growth</level2>\\n                </subject>\\n <subject>\\n                      <level1>Energy</level1>\\n                      <level2>Alternative and renewable sources and technologies</level2>\\n                      <level3>Federal Government use</level3>\\n                </subject>\\n <subject>\\n                      <level1>Energy</level1>\\n                      <level2>Alternative and renewable sources and technologies</level2>\\n                      <level3>Promotion efforts</level3>\\n                </subject>\\n <subject>\\n                      <level1>Energy</level1>\\n                      <level2>Developing countries, energy sources</level2>\\n                </subject>\\n <subject>\\n                      <level1>Energy</level1>\\n                      <level2>Domestic sources</level2>\\n                </subject>\\n <subject>\\n                      <level1>Energy</level1>\\n                      <level2>Energy efficiency and weatherization</level2>\\n                      <level3>Homes and buildings</level3>\\n                </subject>\\n <subject>\\n                      <level1>Energy</level1>\\n                      <level2>Foreign sources</level2>\\n                </subject>\\n <subject>\\n                      <level1>Energy</level1>\\n                      <level2>Fuel efficiency standards, strengthening efforts</level2>\\n                </subject>\\n <subject>\\n                      <level1>Energy</level1>\\n                      <level2>Gasoline, oil, and natural gas costs</level2>\\n                </subject>\\n <subject>\\n                      <level1>Energy</level1>\\n                      <level2>Hybrid and alternative fuel automobiles</level2>\\n                      <level3>Battery technology, U.S. production</level3>\\n                </subject>\\n <subject>\\n                      <level1>Energy</level1>\\n                      <level2>National energy policy</level2>\\n                </subject>\\n <subject>\\n                      <level1>Energy</level1>\\n                      <level2>Oil and gas industry</level2>\\n                      <level3>Federal regulations and oversight</level3>\\n                </subject>\\n <subject>\\n                      <level1>Energy</level1>\\n                      <level2>Oil and gas industry</level2>\\n                      <level3>Safety and environmental issues</level3>\\n                </subject>\\n <subject>\\n                      <level1>Energy</level1>\\n                      <level2>Oil and gas industry</level2>\\n                      <level3>Subsidies, elimination</level3>\\n                </subject>\\n <subject>\\n                      <level1>Iran</level1>\\n                      <level2>Oil supply and refining</level2>\\n                </subject>\\n <subject>\\n                      <level1>New Hampshire</level1>\\n                      <level2>Nashua Community College in Nashua</level2>\\n                </subject>\\n <subject>\\n                      <level1>New Hampshire</level1>\\n                      <level2>President&apos;s visit</level2>\\n                </subject>\\n <notes>The President spoke at 1:28 p.m. In his remarks, he referred to Nashua Community College student Mike Kapel.</notes>\\n <accessId>DCPD-201200142</accessId>\\n <president id=\"BHO\" party=\"D\">\\n                      <name type=\"authority-lnf\">Obama, Barack H.</name>\\n                      <name type=\"authority-fnf\">Barack H. Obama</name>\\n                      <name type=\"authority-other\">Barack Obama</name>\\n                      <name type=\"authority-other\">Barack Hussein Obama</name>\\n                </president>\\n</extension>\\n</mods>'"
      ]
     },
     "execution_count": 415,
     "metadata": {},
     "output_type": "execute_result"
    }
   ],
   "source": [
    "test_file4 = './file/modsobama.xml'\n",
    "with open(test_file4, 'r') as f:\n",
    "    text_obama = f.read()\n",
    "text_obama"
   ]
  },
  {
   "cell_type": "code",
   "execution_count": 416,
   "metadata": {},
   "outputs": [
    {
     "data": {
      "text/plain": [
       "'Barack H. Obama'"
      ]
     },
     "execution_count": 416,
     "metadata": {},
     "output_type": "execute_result"
    }
   ],
   "source": [
    "president(text_obama)"
   ]
  },
  {
   "cell_type": "code",
   "execution_count": 417,
   "metadata": {},
   "outputs": [
    {
     "data": {
      "text/plain": [
       "'Democrat'"
      ]
     },
     "execution_count": 417,
     "metadata": {},
     "output_type": "execute_result"
    }
   ],
   "source": [
    "party(text_obama)"
   ]
  },
  {
   "cell_type": "code",
   "execution_count": 418,
   "metadata": {},
   "outputs": [
    {
     "data": {
      "text/plain": [
       "['Business and industry:Automobile industry::Strengthening efforts',\n",
       " 'China:Economic growth and development',\n",
       " 'Education:Postsecondary education::Career training and continuing education',\n",
       " 'Elections:2012 Presidential and congressional elections',\n",
       " 'Employment and unemployment:Job creation and growth',\n",
       " 'Energy:Alternative and renewable sources and technologies::Federal Government use',\n",
       " 'Energy:Alternative and renewable sources and technologies::Promotion efforts',\n",
       " 'Energy:Developing countries, energy sources',\n",
       " 'Energy:Domestic sources',\n",
       " 'Energy:Energy efficiency and weatherization::Homes and buildings',\n",
       " 'Energy:Foreign sources',\n",
       " 'Energy:Fuel efficiency standards, strengthening efforts',\n",
       " 'Energy:Gasoline, oil, and natural gas costs',\n",
       " 'Energy:Hybrid and alternative fuel automobiles::Battery technology, U.S. production',\n",
       " 'Energy:National energy policy',\n",
       " 'Energy:Oil and gas industry::Federal regulations and oversight',\n",
       " 'Energy:Oil and gas industry::Safety and environmental issues',\n",
       " 'Energy:Oil and gas industry::Subsidies, elimination',\n",
       " 'Iran:Oil supply and refining',\n",
       " 'New Hampshire:Nashua Community College in Nashua',\n",
       " 'New Hampshire:President&apos;s visit']"
      ]
     },
     "execution_count": 418,
     "metadata": {},
     "output_type": "execute_result"
    }
   ],
   "source": [
    "topics(text_obama)"
   ]
  },
  {
   "cell_type": "code",
   "execution_count": 419,
   "metadata": {
    "scrolled": false
   },
   "outputs": [
    {
     "data": {
      "text/plain": [
       "[['Business and industry',\n",
       "  'China',\n",
       "  'Education',\n",
       "  'Elections',\n",
       "  'Employment and unemployment',\n",
       "  'Energy',\n",
       "  'Energy',\n",
       "  'Energy',\n",
       "  'Energy',\n",
       "  'Energy',\n",
       "  'Energy',\n",
       "  'Energy',\n",
       "  'Energy',\n",
       "  'Energy',\n",
       "  'Energy',\n",
       "  'Energy',\n",
       "  'Energy',\n",
       "  'Energy',\n",
       "  'Iran',\n",
       "  'New Hampshire',\n",
       "  'New Hampshire'],\n",
       " ['Automobile industry',\n",
       "  'Economic growth and development',\n",
       "  'Postsecondary education',\n",
       "  '2012 Presidential and congressional elections',\n",
       "  'Job creation and growth',\n",
       "  'Alternative and renewable sources and technologies',\n",
       "  'Alternative and renewable sources and technologies',\n",
       "  'Developing countries, energy sources',\n",
       "  'Domestic sources',\n",
       "  'Energy efficiency and weatherization',\n",
       "  'Foreign sources',\n",
       "  'Fuel efficiency standards, strengthening efforts',\n",
       "  'Gasoline, oil, and natural gas costs',\n",
       "  'Hybrid and alternative fuel automobiles',\n",
       "  'National energy policy',\n",
       "  'Oil and gas industry',\n",
       "  'Oil and gas industry',\n",
       "  'Oil and gas industry',\n",
       "  'Oil supply and refining',\n",
       "  'Nashua Community College in Nashua',\n",
       "  'President&apos;s visit'],\n",
       " ['Strengthening efforts',\n",
       "  '',\n",
       "  'Career training and continuing education',\n",
       "  '',\n",
       "  '',\n",
       "  'Federal Government use',\n",
       "  'Promotion efforts',\n",
       "  '',\n",
       "  '',\n",
       "  'Homes and buildings',\n",
       "  '',\n",
       "  '',\n",
       "  '',\n",
       "  'Battery technology, U.S. production',\n",
       "  '',\n",
       "  'Federal regulations and oversight',\n",
       "  'Safety and environmental issues',\n",
       "  'Subsidies, elimination',\n",
       "  '',\n",
       "  '',\n",
       "  '']]"
      ]
     },
     "execution_count": 419,
     "metadata": {},
     "output_type": "execute_result"
    }
   ],
   "source": [
    "topic_levels(text_obama)"
   ]
  },
  {
   "cell_type": "code",
   "execution_count": 420,
   "metadata": {},
   "outputs": [
    {
     "data": {
      "text/plain": [
       "'200142'"
      ]
     },
     "execution_count": 420,
     "metadata": {},
     "output_type": "execute_result"
    }
   ],
   "source": [
    "date(text_obama) #Problem with date function "
   ]
  },
  {
   "cell_type": "code",
   "execution_count": 422,
   "metadata": {},
   "outputs": [
    {
     "data": {
      "text/plain": [
       "['Bush, George W.',\n",
       " 'Jordan, Lucille A.',\n",
       " 'Kapel, Mike',\n",
       " 'Lozeau, Donnalee',\n",
       " 'Wunderlich, Karl A.']"
      ]
     },
     "execution_count": 422,
     "metadata": {},
     "output_type": "execute_result"
    }
   ],
   "source": [
    "people(text_obama) "
   ]
  },
  {
   "cell_type": "code",
   "execution_count": 423,
   "metadata": {},
   "outputs": [
    {
     "data": {
      "text/plain": [
       "'The President spoke at 1:28 p.m. In his remarks, he referred to Nashua Community College student Mike Kapel.'"
      ]
     },
     "execution_count": 423,
     "metadata": {},
     "output_type": "execute_result"
    }
   ],
   "source": [
    "notes(text_obama)"
   ]
  },
  {
   "cell_type": "code",
   "execution_count": 424,
   "metadata": {
    "collapsed": true
   },
   "outputs": [],
   "source": [
    "##Testing with news conference"
   ]
  },
  {
   "cell_type": "code",
   "execution_count": 425,
   "metadata": {},
   "outputs": [
    {
     "data": {
      "text/plain": [
       "'<mods xmlns:xlink=\"http://www.w3.org/1999/xlink\" xmlns:xsi=\"http://www.w3.org/2001/XMLSchema-instance\" xmlns=\"http://www.loc.gov/mods/v3\" version=\"3.3\" xsi:schemaLocation=\"http://www.loc.gov/mods/v3 http://www.loc.gov/standards/mods/v3/mods-3-3.xsd\" ID=\"P0b002ee1995b7d71\">\\n<name type=\"corporate\" xmlns:exslt=\"http://exslt.org/common\">\\n <namePart>United States Government Publishing Office</namePart>\\n <role>\\n  <roleTerm authority=\"marcrelator\" type=\"text\">publisher</roleTerm>\\n  <roleTerm authority=\"marcrelator\" type=\"code\">pbl</roleTerm>\\n</role>\\n <role>\\n  <roleTerm authority=\"marcrelator\" type=\"text\">distributor</roleTerm>\\n  <roleTerm authority=\"marcrelator\" type=\"code\">dst</roleTerm>\\n</role>\\n</name>\\n<name type=\"corporate\" xmlns:exslt=\"http://exslt.org/common\">\\n <namePart>United States</namePart>\\n <namePart>National Archives and Records Administration</namePart>\\n <namePart>Office of the Federal Register</namePart>\\n <role>\\n  <roleTerm authority=\"marcrelator\" type=\"text\">author</roleTerm>\\n  <roleTerm authority=\"marcrelator\" type=\"code\">aut</roleTerm>\\n</role>\\n <description>Government Organization</description>\\n</name>\\n<typeOfResource>text</typeOfResource>\\n<genre authority=\"marcgt\">government publication</genre>\\n<language xmlns:exslt=\"http://exslt.org/common\">\\n <languageTerm type=\"code\" authority=\"iso639-2b\">eng</languageTerm>\\n</language>\\n<extension xmlns:exslt=\"http://exslt.org/common\">\\n <collectionCode>DCPD</collectionCode>\\n <category>Budget and Presidential Materials</category>\\n <branch>executive</branch>\\n <dateIngested>2018-03-12</dateIngested>\\n</extension>\\n<name type=\"corporate\">\\n <namePart>United States</namePart>\\n <namePart>Executive Office of the President</namePart>\\n <role>\\n  <roleTerm authority=\"marcrelator\" type=\"text\">originator</roleTerm>\\n  <roleTerm authority=\"marcrelator\" type=\"code\">org</roleTerm>\\n</role>\\n <description>United States Government Agency</description>\\n</name>\\n<name type=\"personal\">\\n <namePart>Donald J. Trump</namePart>\\n <role>\\n  <roleTerm authority=\"marcrelator\" type=\"text\">originator</roleTerm>\\n  <roleTerm authority=\"marcrelator\" type=\"code\">org</roleTerm>\\n</role>\\n <description>President of the United States</description>\\n</name>\\n<titleInfo>\\n <title>The President&apos;s News Conference With Prime Minister Malcolm B. Turnbull of Australia</title>\\n</titleInfo>\\n<location xmlns:exslt=\"http://exslt.org/common\">\\n <url displayLabel=\"Content Detail\" access=\"object in context\">https://www.gpo.gov/fdsys/pkg/DCPD-201800114/content-detail.html</url>\\n <url displayLabel=\"HTML rendition\" access=\"raw object\">https://www.gpo.gov/fdsys/pkg/DCPD-201800114/html/DCPD-201800114.htm</url>\\n <url displayLabel=\"PDF rendition\" access=\"raw object\">https://www.gpo.gov/fdsys/pkg/DCPD-201800114/pdf/DCPD-201800114.pdf</url>\\n</location>\\n<identifier type=\"preferred citation\">DCPD-201800114</identifier>\\n<note>The President&apos;s news conference began at 2:05 p.m. in the East Room at the White House. In his remarks, the President referred to Lucinda M. Turnbull, wife of Prime Minister Turnbull; Gregory J. Norman, former professional golfer, and chairman and chief executive officer, Greg Norman Company; Secretary of the Navy Richard V. Spencer; Vice President Michael R. Pence; Nikolas J. Cruz, suspected gunman in the shooting at Marjory Stoneman Douglas High School in Parkland, FL, on February 14; Speaker of the House of Representatives Paul D. Ryan; Senate Majority Leader A. Mitchell McConnell; Scot Peterson, former deputy sheriff, Broward County, FL, Sherriff&apos;s Office, in his former capacity as the Marjory Stoneman Douglas High School resource officer; Secretary of Defense James N. Mattis; and Assistant to the President Ivanka M. Trump. He also referred to the Islamic State of Iraq and Syria (ISIS) terrorist organization, also known as Daesh or ISIL. Prime Minister Turnbull referred to Premier Daniel M. Andrews of Victoria; Premier Gladys Berejiklian of New South Wales; Premier Mark McGowan of West Australia; Premier Annastacia Palaszczuk of Queensland; Chief Minister Andrew J. Barr of the Australian Capital Territory; Chief Minister Michael P.F. Gunner of the Northern Territory; Premier Jay Weatherill of South Australia; Premier William E.F. Hodgman of Tasmania; U.S. Trade Representative Robert E. Lighthizer; U.S. Secretary of Commerce Wilbur L. Ross, Jr.; Minister for Trade, Tourism, and Investment Steven Ciobo of Australia; U.S. Chairman of the Joint Chiefs of Staff General Joseph F. Dunford, Jr., USMC; and U.S. Secretary of State Rex W. Tillerson.</note>\\n<subject>\\n <topic>Australia:Defense relationship with U.S</topic>\\n <topic>Australia:Investment and business ventures in U.S</topic>\\n <topic>Australia:Minister of Defense</topic>\\n <topic>Australia:Prime Minister</topic>\\n <topic>Australia:Relations with U.S</topic>\\n <topic>Australia:Trade with U.S</topic>\\n <topic>Business and industry:Domestic investment, promotion efforts</topic>\\n <topic>China:President</topic>\\n <topic>China:Relations with U.S</topic>\\n <topic>China:Trade with U.S</topic>\\n <topic>Commerce, international:Free and fair trade</topic>\\n <topic>Communications:News media, Presidential interviews</topic>\\n <topic>Congress:House of Representatives::Speaker</topic>\\n <topic>Congress:Senate::Majority leader</topic>\\n <topic>Defense, Department of:Secretary</topic>\\n <topic>Education:School security, improvement efforts</topic>\\n <topic>Employment and unemployment:Job creation and growth</topic>\\n <topic>Florida:Shooting in Parkland</topic>\\n <topic>Immigration and naturalization:Reform</topic>\\n <topic>Iran:Syria, role</topic>\\n <topic>Israel:Jerusalem, U.S. recognition as capital</topic>\\n <topic>Israel:U.S. Embassy, relocation to Jerusalem</topic>\\n <topic>Labor issues:Paid family and sick leave</topic>\\n <topic>Law enforcement and crime:Criminal background check procedures, strengthening efforts</topic>\\n <topic>Law enforcement and crime:Gun control</topic>\\n <topic>Middle East:Arab-Israeli conflict, peace process</topic>\\n <topic>Navy, Department of the:Secretary</topic>\\n <topic>North Korea:Nuclear weapons development</topic>\\n <topic>North Korea:U.S. sanctions</topic>\\n <topic>Russia:Syria, role</topic>\\n <topic>Syria:Civil war and sectarian conflict</topic>\\n <topic>Taxation:Child tax credit</topic>\\n <topic>Terrorism:Counterterrorism efforts</topic>\\n <topic>Terrorism:Islamic State of Iraq and Syria (ISIS) terrorist organization</topic>\\n <topic>Trans-Pacific Partnership (TPP)</topic>\\n <topic>White House Office:Assistants to the President::Assistant to the President</topic>\\n <topic>White House Office:Assistants to the President::Chief of Staff</topic>\\n <topic>White House Office:Assistants to the President::Senior Adviser</topic>\\n <topic>White House Office:Vice President</topic>\\n <geographic>\\n                    Washington, DC\\n                    38.89511180\\n                    -77.03636580\\n                </geographic>\\n <name>\\n  <namePart>Cruz, Nikolas J.</namePart>\\n</name>\\n <name>\\n  <namePart>Harris, Harry B., Jr.</namePart>\\n</name>\\n <name>\\n  <namePart>Kelly, John F.</namePart>\\n</name>\\n <name>\\n  <namePart>Kushner, Jared C.</namePart>\\n</name>\\n <name>\\n  <namePart>Mattis, James N.</namePart>\\n</name>\\n <name>\\n  <namePart>McConnell, A. Mitchell</namePart>\\n</name>\\n <name>\\n  <namePart>Norman, Gregory J.</namePart>\\n</name>\\n <name>\\n  <namePart>Payne, Marise A.</namePart>\\n</name>\\n <name>\\n  <namePart>Pence, Michael R.</namePart>\\n</name>\\n <name>\\n  <namePart>Peterson, Scot</namePart>\\n</name>\\n <name>\\n  <namePart>Pratt, Anthony J.</namePart>\\n</name>\\n <name>\\n  <namePart>Ryan, Paul D.</namePart>\\n</name>\\n <name>\\n  <namePart>Spencer, Richard V.</namePart>\\n</name>\\n <name>\\n  <namePart>Trump, Ivanka M.</namePart>\\n</name>\\n <name>\\n  <namePart>Trump, Melania</namePart>\\n</name>\\n <name>\\n  <namePart>Turnbull, Lucinda M.</namePart>\\n</name>\\n <name>\\n  <namePart>Turnbull, Malcolm B.</namePart>\\n</name>\\n <name>\\n  <namePart>Xi Jinping</namePart>\\n</name>\\n</subject>\\n<extension>\\n <searchTitle>The President&apos;s News Conference With Prime Minister Malcolm B. Turnbull of Australia;DCPD-201800114</searchTitle>\\n</extension>\\n<originInfo xmlns:exslt=\"http://exslt.org/common\">\\n <publisher>Office of the Federal Register, National Archives and Records Administration</publisher>\\n <dateIssued encoding=\"w3cdtf\">2018-02-23</dateIssued>\\n <issuance>continuing</issuance>\\n <frequency authority=\"marcfrequency\">daily</frequency>\\n</originInfo>\\n<physicalDescription xmlns:exslt=\"http://exslt.org/common\">\\n <note type=\"source content type\">deposited</note>\\n <digitalOrigin>born digital</digitalOrigin>\\n <extent>12 p.</extent>\\n</physicalDescription>\\n<classification authority=\"sudocs\"></classification>\\n<classification authority=\"lcs\"></classification>\\n<identifier type=\"uri\" xmlns:exslt=\"http://exslt.org/common\">https://www.gpo.gov/fdsys/pkg/DCPD-201800114</identifier>\\n<identifier type=\"local\" xmlns:exslt=\"http://exslt.org/common\">P0b002ee1995b7d71</identifier>\\n<identifier type=\"ILS system id\" xmlns:exslt=\"http://exslt.org/common\">000599742</identifier>\\n<identifier type=\"Child ILS system id\" xmlns:exslt=\"http://exslt.org/common\">000599742</identifier>\\n<recordInfo xmlns:exslt=\"http://exslt.org/common\">\\n <recordContentSource authority=\"marcorg\">DGPO</recordContentSource>\\n <recordCreationDate encoding=\"w3cdtf\">2018-03-12</recordCreationDate>\\n <recordChangeDate encoding=\"w3cdtf\">2018-03-12</recordChangeDate>\\n <recordIdentifier source=\"DGPO\">DCPD-201800114</recordIdentifier>\\n <recordOrigin>machine generated</recordOrigin>\\n <languageOfCataloging>\\n  <languageTerm type=\"code\" authority=\"iso639-2b\">eng</languageTerm>\\n</languageOfCataloging>\\n</recordInfo>\\n<accessCondition type=\"GPO scope determination\" xmlns:exslt=\"http://exslt.org/common\">fdlp</accessCondition>\\n<extension xmlns:exslt=\"http://exslt.org/common\">\\n <docClass>PRESDOC</docClass>\\n <dcpdCategory>\\n                      <level1>Interviews With the News Media</level1>\\n                      <level2>Joint news conferences</level2>\\n                </dcpdCategory>\\n <location>\\n                      <name>Washington, DC</name>\\n                      <latitude>38.89511180</latitude>\\n                      <longitude>-77.03636580</longitude>\\n                </location>\\n <name>Cruz, Nikolas J.</name>\\n <name>Harris, Harry B., Jr.</name>\\n <name>Kelly, John F.</name>\\n <name>Kushner, Jared C.</name>\\n <name>Mattis, James N.</name>\\n <name>McConnell, A. Mitchell</name>\\n <name>Norman, Gregory J.</name>\\n <name>Payne, Marise A.</name>\\n <name>Pence, Michael R.</name>\\n <name>Peterson, Scot</name>\\n <name>Pratt, Anthony J.</name>\\n <name>Ryan, Paul D.</name>\\n <name>Spencer, Richard V.</name>\\n <name>Trump, Ivanka M.</name>\\n <name>Trump, Melania</name>\\n <name>Turnbull, Lucinda M.</name>\\n <name>Turnbull, Malcolm B.</name>\\n <name>Xi Jinping</name>\\n <subject>\\n                      <level1>Australia</level1>\\n                      <level2>Defense relationship with U.S</level2>\\n                </subject>\\n <subject>\\n                      <level1>Australia</level1>\\n                      <level2>Investment and business ventures in U.S</level2>\\n                </subject>\\n <subject>\\n                      <level1>Australia</level1>\\n                      <level2>Minister of Defense</level2>\\n                </subject>\\n <subject>\\n                      <level1>Australia</level1>\\n                      <level2>Prime Minister</level2>\\n                </subject>\\n <subject>\\n                      <level1>Australia</level1>\\n                      <level2>Relations with U.S</level2>\\n                </subject>\\n <subject>\\n                      <level1>Australia</level1>\\n                      <level2>Trade with U.S</level2>\\n                </subject>\\n <subject>\\n                      <level1>Business and industry</level1>\\n                      <level2>Domestic investment, promotion efforts</level2>\\n                </subject>\\n <subject>\\n                      <level1>China</level1>\\n                      <level2>President</level2>\\n                </subject>\\n <subject>\\n                      <level1>China</level1>\\n                      <level2>Relations with U.S</level2>\\n                </subject>\\n <subject>\\n                      <level1>China</level1>\\n                      <level2>Trade with U.S</level2>\\n                </subject>\\n <subject>\\n                      <level1>Commerce, international</level1>\\n                      <level2>Free and fair trade</level2>\\n                </subject>\\n <subject>\\n                      <level1>Communications</level1>\\n                      <level2>News media, Presidential interviews</level2>\\n                </subject>\\n <subject>\\n                      <level1>Congress</level1>\\n                      <level2>House of Representatives</level2>\\n                      <level3>Speaker</level3>\\n                </subject>\\n <subject>\\n                      <level1>Congress</level1>\\n                      <level2>Senate</level2>\\n                      <level3>Majority leader</level3>\\n                </subject>\\n <subject>\\n                      <level1>Defense, Department of</level1>\\n                      <level2>Secretary</level2>\\n                </subject>\\n <subject>\\n                      <level1>Education</level1>\\n                      <level2>School security, improvement efforts</level2>\\n                </subject>\\n <subject>\\n                      <level1>Employment and unemployment</level1>\\n                      <level2>Job creation and growth</level2>\\n                </subject>\\n <subject>\\n                      <level1>Florida</level1>\\n                      <level2>Shooting in Parkland</level2>\\n                </subject>\\n <subject>\\n                      <level1>Immigration and naturalization</level1>\\n                      <level2>Reform</level2>\\n                </subject>\\n <subject>\\n                      <level1>Iran</level1>\\n                      <level2>Syria, role</level2>\\n                </subject>\\n <subject>\\n                      <level1>Israel</level1>\\n                      <level2>Jerusalem, U.S. recognition as capital</level2>\\n                </subject>\\n <subject>\\n                      <level1>Israel</level1>\\n                      <level2>U.S. Embassy, relocation to Jerusalem</level2>\\n                </subject>\\n <subject>\\n                      <level1>Labor issues</level1>\\n                      <level2>Paid family and sick leave</level2>\\n                </subject>\\n <subject>\\n                      <level1>Law enforcement and crime</level1>\\n                      <level2>Criminal background check procedures, strengthening efforts</level2>\\n                </subject>\\n <subject>\\n                      <level1>Law enforcement and crime</level1>\\n                      <level2>Gun control</level2>\\n                </subject>\\n <subject>\\n                      <level1>Middle East</level1>\\n                      <level2>Arab-Israeli conflict, peace process</level2>\\n                </subject>\\n <subject>\\n                      <level1>Navy, Department of the</level1>\\n                      <level2>Secretary</level2>\\n                </subject>\\n <subject>\\n                      <level1>North Korea</level1>\\n                      <level2>Nuclear weapons development</level2>\\n                </subject>\\n <subject>\\n                      <level1>North Korea</level1>\\n                      <level2>U.S. sanctions</level2>\\n                </subject>\\n <subject>\\n                      <level1>Russia</level1>\\n                      <level2>Syria, role</level2>\\n                </subject>\\n <subject>\\n                      <level1>Syria</level1>\\n                      <level2>Civil war and sectarian conflict</level2>\\n                </subject>\\n <subject>\\n                      <level1>Taxation</level1>\\n                      <level2>Child tax credit</level2>\\n                </subject>\\n <subject>\\n                      <level1>Terrorism</level1>\\n                      <level2>Counterterrorism efforts</level2>\\n                </subject>\\n <subject>\\n                      <level1>Terrorism</level1>\\n                      <level2>Islamic State of Iraq and Syria (ISIS) terrorist organization</level2>\\n                </subject>\\n <subject>\\n                      <level1>Trans-Pacific Partnership (TPP)</level1>\\n                </subject>\\n <subject>\\n                      <level1>White House Office</level1>\\n                      <level2>Assistants to the President</level2>\\n                      <level3>Assistant to the President</level3>\\n                </subject>\\n <subject>\\n                      <level1>White House Office</level1>\\n                      <level2>Assistants to the President</level2>\\n                      <level3>Chief of Staff</level3>\\n                </subject>\\n <subject>\\n                      <level1>White House Office</level1>\\n                      <level2>Assistants to the President</level2>\\n                      <level3>Senior Adviser</level3>\\n                </subject>\\n <subject>\\n                      <level1>White House Office</level1>\\n                      <level2>Vice President</level2>\\n                </subject>\\n <notes>The President&apos;s news conference began at 2:05 p.m. in the East Room at the White House. In his remarks, the President referred to Lucinda M. Turnbull, wife of Prime Minister Turnbull; Gregory J. Norman, former professional golfer, and chairman and chief executive officer, Greg Norman Company; Secretary of the Navy Richard V. Spencer; Vice President Michael R. Pence; Nikolas J. Cruz, suspected gunman in the shooting at Marjory Stoneman Douglas High School in Parkland, FL, on February 14; Speaker of the House of Representatives Paul D. Ryan; Senate Majority Leader A. Mitchell McConnell; Scot Peterson, former deputy sheriff, Broward County, FL, Sherriff&apos;s Office, in his former capacity as the Marjory Stoneman Douglas High School resource officer; Secretary of Defense James N. Mattis; and Assistant to the President Ivanka M. Trump. He also referred to the Islamic State of Iraq and Syria (ISIS) terrorist organization, also known as Daesh or ISIL. Prime Minister Turnbull referred to Premier Daniel M. Andrews of Victoria; Premier Gladys Berejiklian of New South Wales; Premier Mark McGowan of West Australia; Premier Annastacia Palaszczuk of Queensland; Chief Minister Andrew J. Barr of the Australian Capital Territory; Chief Minister Michael P.F. Gunner of the Northern Territory; Premier Jay Weatherill of South Australia; Premier William E.F. Hodgman of Tasmania; U.S. Trade Representative Robert E. Lighthizer; U.S. Secretary of Commerce Wilbur L. Ross, Jr.; Minister for Trade, Tourism, and Investment Steven Ciobo of Australia; U.S. Chairman of the Joint Chiefs of Staff General Joseph F. Dunford, Jr., USMC; and U.S. Secretary of State Rex W. Tillerson.</notes>\\n <accessId>DCPD-201800114</accessId>\\n <president id=\"DJT\" party=\"R\">\\n                      <name type=\"authority-lnf\">Trump, Donald J.</name>\\n                      <name type=\"authority-fnf\">Donald J. Trump</name>\\n                      <name type=\"authority-other\">Donald Trump</name>\\n                      <name type=\"authority-other\">Donald John Trump</name>\\n                </president>\\n</extension>\\n</mods>'"
      ]
     },
     "execution_count": 425,
     "metadata": {},
     "output_type": "execute_result"
    }
   ],
   "source": [
    "test_file5 = './file/newstrump.xml'\n",
    "with open(test_file5, 'r') as f:\n",
    "    news_trump = f.read()\n",
    "news_trump"
   ]
  },
  {
   "cell_type": "code",
   "execution_count": 426,
   "metadata": {},
   "outputs": [
    {
     "data": {
      "text/plain": [
       "'Donald J. Trump'"
      ]
     },
     "execution_count": 426,
     "metadata": {},
     "output_type": "execute_result"
    }
   ],
   "source": [
    "president(news_trump)"
   ]
  },
  {
   "cell_type": "code",
   "execution_count": 427,
   "metadata": {},
   "outputs": [
    {
     "data": {
      "text/plain": [
       "'800114'"
      ]
     },
     "execution_count": 427,
     "metadata": {},
     "output_type": "execute_result"
    }
   ],
   "source": [
    "date(news_trump)#Date is a problem"
   ]
  },
  {
   "cell_type": "code",
   "execution_count": 428,
   "metadata": {},
   "outputs": [
    {
     "data": {
      "text/plain": [
       "'Republican'"
      ]
     },
     "execution_count": 428,
     "metadata": {},
     "output_type": "execute_result"
    }
   ],
   "source": [
    "party(news_trump)"
   ]
  },
  {
   "cell_type": "code",
   "execution_count": 429,
   "metadata": {},
   "outputs": [
    {
     "data": {
      "text/plain": [
       "'The President&apos;s news conference began at 2:05 p.m. in the East Room at the White House. In his remarks, the President referred to Lucinda M. Turnbull, wife of Prime Minister Turnbull; Gregory J. Norman, former professional golfer, and chairman and chief executive officer, Greg Norman Company; Secretary of the Navy Richard V. Spencer; Vice President Michael R. Pence; Nikolas J. Cruz, suspected gunman in the shooting at Marjory Stoneman Douglas High School in Parkland, FL, on February 14; Speaker of the House of Representatives Paul D. Ryan; Senate Majority Leader A. Mitchell McConnell; Scot Peterson, former deputy sheriff, Broward County, FL, Sherriff&apos;s Office, in his former capacity as the Marjory Stoneman Douglas High School resource officer; Secretary of Defense James N. Mattis; and Assistant to the President Ivanka M. Trump. He also referred to the Islamic State of Iraq and Syria (ISIS) terrorist organization, also known as Daesh or ISIL. Prime Minister Turnbull referred to Premier Daniel M. Andrews of Victoria; Premier Gladys Berejiklian of New South Wales; Premier Mark McGowan of West Australia; Premier Annastacia Palaszczuk of Queensland; Chief Minister Andrew J. Barr of the Australian Capital Territory; Chief Minister Michael P.F. Gunner of the Northern Territory; Premier Jay Weatherill of South Australia; Premier William E.F. Hodgman of Tasmania; U.S. Trade Representative Robert E. Lighthizer; U.S. Secretary of Commerce Wilbur L. Ross, Jr.; Minister for Trade, Tourism, and Investment Steven Ciobo of Australia; U.S. Chairman of the Joint Chiefs of Staff General Joseph F. Dunford, Jr., USMC; and U.S. Secretary of State Rex W. Tillerson.'"
      ]
     },
     "execution_count": 429,
     "metadata": {},
     "output_type": "execute_result"
    }
   ],
   "source": [
    "notes(news_trump)"
   ]
  },
  {
   "cell_type": "code",
   "execution_count": 430,
   "metadata": {},
   "outputs": [
    {
     "data": {
      "text/plain": [
       "['Australia:Defense relationship with U.S',\n",
       " 'Australia:Investment and business ventures in U.S',\n",
       " 'Australia:Minister of Defense',\n",
       " 'Australia:Prime Minister',\n",
       " 'Australia:Relations with U.S',\n",
       " 'Australia:Trade with U.S',\n",
       " 'Business and industry:Domestic investment, promotion efforts',\n",
       " 'China:President',\n",
       " 'China:Relations with U.S',\n",
       " 'China:Trade with U.S',\n",
       " 'Commerce, international:Free and fair trade',\n",
       " 'Communications:News media, Presidential interviews',\n",
       " 'Congress:House of Representatives::Speaker',\n",
       " 'Congress:Senate::Majority leader',\n",
       " 'Defense, Department of:Secretary',\n",
       " 'Education:School security, improvement efforts',\n",
       " 'Employment and unemployment:Job creation and growth',\n",
       " 'Florida:Shooting in Parkland',\n",
       " 'Immigration and naturalization:Reform',\n",
       " 'Iran:Syria, role',\n",
       " 'Israel:Jerusalem, U.S. recognition as capital',\n",
       " 'Israel:U.S. Embassy, relocation to Jerusalem',\n",
       " 'Labor issues:Paid family and sick leave',\n",
       " 'Law enforcement and crime:Criminal background check procedures, strengthening efforts',\n",
       " 'Law enforcement and crime:Gun control',\n",
       " 'Middle East:Arab-Israeli conflict, peace process',\n",
       " 'Navy, Department of the:Secretary',\n",
       " 'North Korea:Nuclear weapons development',\n",
       " 'North Korea:U.S. sanctions',\n",
       " 'Russia:Syria, role',\n",
       " 'Syria:Civil war and sectarian conflict',\n",
       " 'Taxation:Child tax credit',\n",
       " 'Terrorism:Counterterrorism efforts',\n",
       " 'Terrorism:Islamic State of Iraq and Syria (ISIS) terrorist organization',\n",
       " 'Trans-Pacific Partnership (TPP)',\n",
       " 'White House Office:Assistants to the President::Assistant to the President',\n",
       " 'White House Office:Assistants to the President::Chief of Staff',\n",
       " 'White House Office:Assistants to the President::Senior Adviser',\n",
       " 'White House Office:Vice President']"
      ]
     },
     "execution_count": 430,
     "metadata": {},
     "output_type": "execute_result"
    }
   ],
   "source": [
    "topics(news_trump)"
   ]
  },
  {
   "cell_type": "code",
   "execution_count": 431,
   "metadata": {},
   "outputs": [
    {
     "data": {
      "text/plain": [
       "[['Australia',\n",
       "  'Australia',\n",
       "  'Australia',\n",
       "  'Australia',\n",
       "  'Australia',\n",
       "  'Australia',\n",
       "  'Business and industry',\n",
       "  'China',\n",
       "  'China',\n",
       "  'China',\n",
       "  'Commerce, international',\n",
       "  'Communications',\n",
       "  'Congress',\n",
       "  'Congress',\n",
       "  'Defense, Department of',\n",
       "  'Education',\n",
       "  'Employment and unemployment',\n",
       "  'Florida',\n",
       "  'Immigration and naturalization',\n",
       "  'Iran',\n",
       "  'Israel',\n",
       "  'Israel',\n",
       "  'Labor issues',\n",
       "  'Law enforcement and crime',\n",
       "  'Law enforcement and crime',\n",
       "  'Middle East',\n",
       "  'Navy, Department of the',\n",
       "  'North Korea',\n",
       "  'North Korea',\n",
       "  'Russia',\n",
       "  'Syria',\n",
       "  'Taxation',\n",
       "  'Terrorism',\n",
       "  'Terrorism',\n",
       "  'Trans-Pacific Partnership (TPP)',\n",
       "  'White House Office',\n",
       "  'White House Office',\n",
       "  'White House Office',\n",
       "  'White House Office'],\n",
       " ['Defense relationship with U.S',\n",
       "  'Investment and business ventures in U.S',\n",
       "  'Minister of Defense',\n",
       "  'Prime Minister',\n",
       "  'Relations with U.S',\n",
       "  'Trade with U.S',\n",
       "  'Domestic investment, promotion efforts',\n",
       "  'President',\n",
       "  'Relations with U.S',\n",
       "  'Trade with U.S',\n",
       "  'Free and fair trade',\n",
       "  'News media, Presidential interviews',\n",
       "  'House of Representatives',\n",
       "  'Senate',\n",
       "  'Secretary',\n",
       "  'School security, improvement efforts',\n",
       "  'Job creation and growth',\n",
       "  'Shooting in Parkland',\n",
       "  'Reform',\n",
       "  'Syria, role',\n",
       "  'Jerusalem, U.S. recognition as capital',\n",
       "  'U.S. Embassy, relocation to Jerusalem',\n",
       "  'Paid family and sick leave',\n",
       "  'Criminal background check procedures, strengthening efforts',\n",
       "  'Gun control',\n",
       "  'Arab-Israeli conflict, peace process',\n",
       "  'Secretary',\n",
       "  'Nuclear weapons development',\n",
       "  'U.S. sanctions',\n",
       "  'Syria, role',\n",
       "  'Civil war and sectarian conflict',\n",
       "  'Child tax credit',\n",
       "  'Counterterrorism efforts',\n",
       "  'Islamic State of Iraq and Syria (ISIS) terrorist organization',\n",
       "  '',\n",
       "  'Assistants to the President',\n",
       "  'Assistants to the President',\n",
       "  'Assistants to the President',\n",
       "  'Vice President'],\n",
       " ['',\n",
       "  '',\n",
       "  '',\n",
       "  '',\n",
       "  '',\n",
       "  '',\n",
       "  '',\n",
       "  '',\n",
       "  '',\n",
       "  '',\n",
       "  '',\n",
       "  '',\n",
       "  'Speaker',\n",
       "  'Majority leader',\n",
       "  '',\n",
       "  '',\n",
       "  '',\n",
       "  '',\n",
       "  '',\n",
       "  '',\n",
       "  '',\n",
       "  '',\n",
       "  '',\n",
       "  '',\n",
       "  '',\n",
       "  '',\n",
       "  '',\n",
       "  '',\n",
       "  '',\n",
       "  '',\n",
       "  '',\n",
       "  '',\n",
       "  '',\n",
       "  '',\n",
       "  '',\n",
       "  'Assistant to the President',\n",
       "  'Chief of Staff',\n",
       "  'Senior Adviser',\n",
       "  '']]"
      ]
     },
     "execution_count": 431,
     "metadata": {},
     "output_type": "execute_result"
    }
   ],
   "source": [
    "topic_levels(news_trump)"
   ]
  },
  {
   "cell_type": "code",
   "execution_count": 433,
   "metadata": {},
   "outputs": [
    {
     "data": {
      "text/plain": [
       "['Cruz, Nikolas J.',\n",
       " 'Harris, Harry B., Jr.',\n",
       " 'Kelly, John F.',\n",
       " 'Kushner, Jared C.',\n",
       " 'Mattis, James N.',\n",
       " 'McConnell, A. Mitchell',\n",
       " 'Norman, Gregory J.',\n",
       " 'Payne, Marise A.',\n",
       " 'Pence, Michael R.',\n",
       " 'Peterson, Scot',\n",
       " 'Pratt, Anthony J.',\n",
       " 'Ryan, Paul D.',\n",
       " 'Spencer, Richard V.',\n",
       " 'Trump, Ivanka M.',\n",
       " 'Trump, Melania',\n",
       " 'Turnbull, Lucinda M.',\n",
       " 'Turnbull, Malcolm B.',\n",
       " 'Xi Jinping']"
      ]
     },
     "execution_count": 433,
     "metadata": {},
     "output_type": "execute_result"
    }
   ],
   "source": [
    "people(news_trump)"
   ]
  },
  {
   "cell_type": "code",
   "execution_count": 434,
   "metadata": {},
   "outputs": [
    {
     "data": {
      "text/plain": [
       "'The President&apos;s News Conference With Prime Minister Malcolm B. Turnbull of Australia'"
      ]
     },
     "execution_count": 434,
     "metadata": {},
     "output_type": "execute_result"
    }
   ],
   "source": [
    "title(news_trump)"
   ]
  },
  {
   "cell_type": "code",
   "execution_count": 435,
   "metadata": {},
   "outputs": [
    {
     "data": {
      "text/plain": [
       "'<mods xmlns=\"http://www.loc.gov/mods/v3\" xmlns:xsi=\"http://www.w3.org/2001/XMLSchema-instance\" xmlns:xlink=\"http://www.w3.org/1999/xlink\" xsi:schemaLocation=\"http://www.loc.gov/mods/v3 http://www.loc.gov/standards/mods/v3/mods-3-3.xsd\" version=\"3.3\" ID=\"P0b002ee18926727a\">\\n<name xmlns:exslt=\"http://exslt.org/common\" type=\"corporate\">\\n <namePart>United States Government Printing Office</namePart>\\n <role>\\n  <roleTerm type=\"text\" authority=\"marcrelator\">printer</roleTerm>\\n  <roleTerm type=\"code\" authority=\"marcrelator\">prt</roleTerm>\\n</role>\\n <role>\\n  <roleTerm type=\"text\" authority=\"marcrelator\">distributor</roleTerm>\\n  <roleTerm type=\"code\" authority=\"marcrelator\">dst</roleTerm>\\n</role>\\n</name>\\n<name xmlns:exslt=\"http://exslt.org/common\" type=\"corporate\">\\n <namePart>United States</namePart>\\n <namePart>National Archives and Records Administration</namePart>\\n <namePart>Office of the Federal Register</namePart>\\n <role>\\n  <roleTerm type=\"text\" authority=\"marcrelator\">author</roleTerm>\\n  <roleTerm type=\"code\" authority=\"marcrelator\">aut</roleTerm>\\n</role>\\n <description>Government Organization</description>\\n</name>\\n<typeOfResource xmlns:exslt=\"http://exslt.org/common\">text</typeOfResource>\\n<genre authority=\"marcgt\">government publication</genre>\\n<language xmlns:exslt=\"http://exslt.org/common\">\\n <languageTerm authority=\"iso639-2b\" type=\"code\">eng</languageTerm>\\n</language>\\n<extension xmlns:exslt=\"http://exslt.org/common\">\\n <collectionCode>DCPD</collectionCode>\\n <category>Budget and Presidential Materials</category>\\n <branch>executive</branch>\\n <dateIngested>2014-05-21</dateIngested>\\n</extension>\\n<name type=\"corporate\">\\n <namePart>United States</namePart>\\n <namePart>Executive Office of the President</namePart>\\n <role>\\n  <roleTerm type=\"text\" authority=\"marcrelator\">originator</roleTerm>\\n  <roleTerm type=\"code\" authority=\"marcrelator\">org</roleTerm>\\n</role>\\n <description>United States Government Agency</description>\\n</name>\\n<name type=\"personal\">\\n <namePart>Barack H. Obama</namePart>\\n <role>\\n  <roleTerm type=\"text\" authority=\"marcrelator\">originator</roleTerm>\\n  <roleTerm type=\"code\" authority=\"marcrelator\">org</roleTerm>\\n</role>\\n <description>President of the United States</description>\\n</name>\\n<titleInfo>\\n <title>The President&apos;s News Conference With President Benigno S. Aquino III of the Philippines in Manila, Philippines</title>\\n</titleInfo>\\n<location xmlns:exslt=\"http://exslt.org/common\">\\n <url access=\"object in context\" displayLabel=\"Content Detail\">http://www.gpo.gov/fdsys/pkg/DCPD-201400304/content-detail.html</url>\\n <url access=\"raw object\" displayLabel=\"HTML rendition\">http://www.gpo.gov/fdsys/pkg/DCPD-201400304/html/DCPD-201400304.htm</url>\\n <url access=\"raw object\" displayLabel=\"PDF rendition\">http://www.gpo.gov/fdsys/pkg/DCPD-201400304/pdf/DCPD-201400304.pdf</url>\\n</location>\\n<identifier type=\"preferred citation\">DCPD-201400304</identifier>\\n<subject>\\n <topic>Arkansas:Tornadoes, damage and recovery efforts</topic>\\n <topic>Arms and munitions:Chemical and biological weapons</topic>\\n <topic>Asia:Association of Southeast Asian Nations (ASEAN)</topic>\\n <topic>Asia:East Asia Summit</topic>\\n <topic>Asia:Relations with U.S</topic>\\n <topic>Asia:South China Sea, maritime territorial disputes</topic>\\n <topic>Australia:Defense relationship with U.S</topic>\\n <topic>China:Economic growth and development</topic>\\n <topic>China:Relations with U.S</topic>\\n <topic>Commerce, Department of:Secretary</topic>\\n <topic>Commerce, international:Group of Seven (G-7) nations</topic>\\n <topic>Communications:News media, Presidential interviews</topic>\\n <topic>Environment:Climate change</topic>\\n <topic>Foreign policy, U.S:Diplomatic efforts, expansion</topic>\\n <topic>Homeland Security, Department of:Emergency Management Agency, Federal</topic>\\n <topic>Malaysia:Relations with U.S</topic>\\n <topic>Natural disasters:Central Arkansas, tornadoes</topic>\\n <topic>Philippinese:Security cooperation with U.S</topic>\\n <topic>Philippines:Economic growth and development</topic>\\n <topic>Philippines:Maritime territorial dispute with China</topic>\\n <topic>Philippines:President</topic>\\n <topic>Philippines:President Obama&apos;s visit</topic>\\n <topic>Philippines:Relations with U.S</topic>\\n <topic>Philippines:Security cooperation with U.S</topic>\\n <topic>Philippines:Trade with U.S</topic>\\n <topic>Philippines:U.S. assistance</topic>\\n <topic>Russia:International diplomatic efforts</topic>\\n <topic>Russia:President</topic>\\n <topic>Russia:Relations with Ukraine</topic>\\n <topic>Syria:Civil war and sectarian conflict</topic>\\n <topic>Trans-Pacific Partnership (TPP)</topic>\\n <topic>Ukraine:Democracy efforts</topic>\\n <topic>Ukraine:Political unrest and violence</topic>\\n <topic>Ukraine:Russia, role</topic>\\n <topic>Veterans Affairs, Department of:Funding</topic>\\n <topic>Veterans Affairs, Department of:Secretary</topic>\\n <topic>Veterans:Access to health and medical care</topic>\\n <topic>Veterans:Benefits</topic>\\n <geographic>\\n                    Manila, Philippines\\n                    14.5995124\\n                    120.9842195\\n                </geographic>\\n <name>\\n  <namePart>Aquino, Benigno S., III</namePart>\\n</name>\\n <name>\\n  <namePart>Pritzker, Penny S.</namePart>\\n</name>\\n <name>\\n  <namePart>Putin, Vladimir Vladimirovich</namePart>\\n</name>\\n <name>\\n  <namePart>Shinseki, Eric K.</namePart>\\n</name>\\n</subject>\\n<extension>\\n <searchTitle>The President&apos;s News Conference With President Benigno S. Aquino III of the Philippines in Manila, Philippines;DCPD-201400304</searchTitle>\\n</extension>\\n<originInfo xmlns:exslt=\"http://exslt.org/common\">\\n <publisher>Office of the Federal Register, National Archives and Records Administration</publisher>\\n <dateIssued encoding=\"w3cdtf\">2014-04-28</dateIssued>\\n <issuance>continuing</issuance>\\n <frequency authority=\"marcfrequency\">daily</frequency>\\n</originInfo>\\n<physicalDescription xmlns:exslt=\"http://exslt.org/common\">\\n <note type=\"source content type\">deposited</note>\\n <digitalOrigin>born digital</digitalOrigin>\\n <extent>12 p.</extent>\\n</physicalDescription>\\n<classification authority=\"sudocs\"></classification>\\n<classification authority=\"lcs\"></classification>\\n<identifier xmlns:exslt=\"http://exslt.org/common\" type=\"uri\">http://www.gpo.gov/fdsys/pkg/DCPD-201400304</identifier>\\n<identifier xmlns:exslt=\"http://exslt.org/common\" type=\"local\">P0b002ee18926727a</identifier>\\n<identifier xmlns:exslt=\"http://exslt.org/common\" type=\"ILS system id\">000599742</identifier>\\n<identifier xmlns:exslt=\"http://exslt.org/common\" type=\"Child ILS system id\">000599742</identifier>\\n<recordInfo xmlns:exslt=\"http://exslt.org/common\">\\n <recordContentSource authority=\"marcorg\">DGPO</recordContentSource>\\n <recordCreationDate encoding=\"w3cdtf\">2014-05-21</recordCreationDate>\\n <recordChangeDate encoding=\"w3cdtf\">2014-05-21</recordChangeDate>\\n <recordIdentifier source=\"DGPO\">DCPD-201400304</recordIdentifier>\\n <recordOrigin>machine generated</recordOrigin>\\n <languageOfCataloging>\\n  <languageTerm authority=\"iso639-2b\" type=\"code\">eng</languageTerm>\\n</languageOfCataloging>\\n</recordInfo>\\n<accessCondition xmlns:exslt=\"http://exslt.org/common\" type=\"GPO scope determination\">fdlp</accessCondition>\\n<extension xmlns:exslt=\"http://exslt.org/common\">\\n <docClass>PRESDOC</docClass>\\n <dcpdCategory>\\n                      <level1>Interviews With the News Media</level1>\\n                      <level2>Joint news conferences</level2>\\n                </dcpdCategory>\\n <location>\\n                      <name>Manila, Philippines</name>\\n                      <latitude>14.5995124</latitude>\\n                      <longitude>120.9842195</longitude>\\n                </location>\\n <name>Aquino, Benigno S., III</name>\\n <name>Pritzker, Penny S.</name>\\n <name>Putin, Vladimir Vladimirovich</name>\\n <name>Shinseki, Eric K.</name>\\n <subject>\\n                      <level1>Arkansas</level1>\\n                      <level2>Tornadoes, damage and recovery efforts</level2>\\n                </subject>\\n <subject>\\n                      <level1>Arms and munitions</level1>\\n                      <level2>Chemical and biological weapons</level2>\\n                </subject>\\n <subject>\\n                      <level1>Asia</level1>\\n                      <level2>Association of Southeast Asian Nations (ASEAN)</level2>\\n                </subject>\\n <subject>\\n                      <level1>Asia</level1>\\n                      <level2>East Asia Summit</level2>\\n                </subject>\\n <subject>\\n                      <level1>Asia</level1>\\n                      <level2>Relations with U.S</level2>\\n                </subject>\\n <subject>\\n                      <level1>Asia</level1>\\n                      <level2>South China Sea, maritime territorial disputes</level2>\\n                </subject>\\n <subject>\\n                      <level1>Australia</level1>\\n                      <level2>Defense relationship with U.S</level2>\\n                </subject>\\n <subject>\\n                      <level1>China</level1>\\n                      <level2>Economic growth and development</level2>\\n                </subject>\\n <subject>\\n                      <level1>China</level1>\\n                      <level2>Relations with U.S</level2>\\n                </subject>\\n <subject>\\n                      <level1>Commerce, Department of</level1>\\n                      <level2>Secretary</level2>\\n                </subject>\\n <subject>\\n                      <level1>Commerce, international</level1>\\n                      <level2>Group of Seven (G-7) nations</level2>\\n                </subject>\\n <subject>\\n                      <level1>Communications</level1>\\n                      <level2>News media, Presidential interviews</level2>\\n                </subject>\\n <subject>\\n                      <level1>Environment</level1>\\n                      <level2>Climate change</level2>\\n                </subject>\\n <subject>\\n                      <level1>Foreign policy, U.S</level1>\\n                      <level2>Diplomatic efforts, expansion</level2>\\n                </subject>\\n <subject>\\n                      <level1>Homeland Security, Department of</level1>\\n                      <level2>Emergency Management Agency, Federal</level2>\\n                </subject>\\n <subject>\\n                      <level1>Malaysia</level1>\\n                      <level2>Relations with U.S</level2>\\n                </subject>\\n <subject>\\n                      <level1>Natural disasters</level1>\\n                      <level2>Central Arkansas, tornadoes</level2>\\n                </subject>\\n <subject>\\n                      <level1>Philippinese</level1>\\n                      <level2>Security cooperation with U.S</level2>\\n                </subject>\\n <subject>\\n                      <level1>Philippines</level1>\\n                      <level2>Economic growth and development</level2>\\n                </subject>\\n <subject>\\n                      <level1>Philippines</level1>\\n                      <level2>Maritime territorial dispute with China</level2>\\n                </subject>\\n <subject>\\n                      <level1>Philippines</level1>\\n                      <level2>President</level2>\\n                </subject>\\n <subject>\\n                      <level1>Philippines</level1>\\n                      <level2>President Obama&apos;s visit</level2>\\n                </subject>\\n <subject>\\n                      <level1>Philippines</level1>\\n                      <level2>Relations with U.S</level2>\\n                </subject>\\n <subject>\\n                      <level1>Philippines</level1>\\n                      <level2>Security cooperation with U.S</level2>\\n                </subject>\\n <subject>\\n                      <level1>Philippines</level1>\\n                      <level2>Trade with U.S</level2>\\n                </subject>\\n <subject>\\n                      <level1>Philippines</level1>\\n                      <level2>U.S. assistance</level2>\\n                </subject>\\n <subject>\\n                      <level1>Russia</level1>\\n                      <level2>International diplomatic efforts</level2>\\n                </subject>\\n <subject>\\n                      <level1>Russia</level1>\\n                      <level2>President</level2>\\n                </subject>\\n <subject>\\n                      <level1>Russia</level1>\\n                      <level2>Relations with Ukraine</level2>\\n                </subject>\\n <subject>\\n                      <level1>Syria</level1>\\n                      <level2>Civil war and sectarian conflict</level2>\\n                </subject>\\n <subject>\\n                      <level1>Trans-Pacific Partnership (TPP)</level1>\\n                </subject>\\n <subject>\\n                      <level1>Ukraine</level1>\\n                      <level2>Democracy efforts</level2>\\n                </subject>\\n <subject>\\n                      <level1>Ukraine</level1>\\n                      <level2>Political unrest and violence</level2>\\n                </subject>\\n <subject>\\n                      <level1>Ukraine</level1>\\n                      <level2>Russia, role</level2>\\n                </subject>\\n <subject>\\n                      <level1>Veterans Affairs, Department of</level1>\\n                      <level2>Funding</level2>\\n                </subject>\\n <subject>\\n                      <level1>Veterans Affairs, Department of</level1>\\n                      <level2>Secretary</level2>\\n                </subject>\\n <subject>\\n                      <level1>Veterans</level1>\\n                      <level2>Access to health and medical care</level2>\\n                </subject>\\n <subject>\\n                      <level1>Veterans</level1>\\n                      <level2>Benefits</level2>\\n                </subject>\\n <accessId>DCPD-201400304</accessId>\\n <president id=\"BHO\" party=\"D\">\\n                      <name type=\"authority-lnf\">Obama, Barack H.</name>\\n                      <name type=\"authority-fnf\">Barack H. Obama</name>\\n                      <name type=\"authority-other\">Barack Obama</name>\\n                      <name type=\"authority-other\">Barack Hussein Obama</name>\\n                </president>\\n</extension>\\n</mods>'"
      ]
     },
     "execution_count": 435,
     "metadata": {},
     "output_type": "execute_result"
    }
   ],
   "source": [
    "test_file6 = './file/newsobama.xml'\n",
    "with open(test_file6, 'r') as f:\n",
    "    news_obama = f.read()\n",
    "news_obama"
   ]
  },
  {
   "cell_type": "code",
   "execution_count": 436,
   "metadata": {},
   "outputs": [
    {
     "data": {
      "text/plain": [
       "'Barack H. Obama'"
      ]
     },
     "execution_count": 436,
     "metadata": {},
     "output_type": "execute_result"
    }
   ],
   "source": [
    "president(news_obama)"
   ]
  },
  {
   "cell_type": "code",
   "execution_count": 437,
   "metadata": {},
   "outputs": [
    {
     "data": {
      "text/plain": [
       "'400304'"
      ]
     },
     "execution_count": 437,
     "metadata": {},
     "output_type": "execute_result"
    }
   ],
   "source": [
    "date(news_obama)#Date is a problem"
   ]
  },
  {
   "cell_type": "code",
   "execution_count": 438,
   "metadata": {},
   "outputs": [
    {
     "data": {
      "text/plain": [
       "'Democrat'"
      ]
     },
     "execution_count": 438,
     "metadata": {},
     "output_type": "execute_result"
    }
   ],
   "source": [
    "party(news_obama)"
   ]
  },
  {
   "cell_type": "code",
   "execution_count": 439,
   "metadata": {},
   "outputs": [],
   "source": [
    "notes(news_obama)"
   ]
  },
  {
   "cell_type": "code",
   "execution_count": 440,
   "metadata": {},
   "outputs": [
    {
     "data": {
      "text/plain": [
       "'The President&apos;s News Conference With President Benigno S. Aquino III of the Philippines in Manila, Philippines'"
      ]
     },
     "execution_count": 440,
     "metadata": {},
     "output_type": "execute_result"
    }
   ],
   "source": [
    "title(news_obama)"
   ]
  },
  {
   "cell_type": "code",
   "execution_count": 441,
   "metadata": {},
   "outputs": [
    {
     "data": {
      "text/plain": [
       "['Arkansas:Tornadoes, damage and recovery efforts',\n",
       " 'Arms and munitions:Chemical and biological weapons',\n",
       " 'Asia:Association of Southeast Asian Nations (ASEAN)',\n",
       " 'Asia:East Asia Summit',\n",
       " 'Asia:Relations with U.S',\n",
       " 'Asia:South China Sea, maritime territorial disputes',\n",
       " 'Australia:Defense relationship with U.S',\n",
       " 'China:Economic growth and development',\n",
       " 'China:Relations with U.S',\n",
       " 'Commerce, Department of:Secretary',\n",
       " 'Commerce, international:Group of Seven (G-7) nations',\n",
       " 'Communications:News media, Presidential interviews',\n",
       " 'Environment:Climate change',\n",
       " 'Foreign policy, U.S:Diplomatic efforts, expansion',\n",
       " 'Homeland Security, Department of:Emergency Management Agency, Federal',\n",
       " 'Malaysia:Relations with U.S',\n",
       " 'Natural disasters:Central Arkansas, tornadoes',\n",
       " 'Philippinese:Security cooperation with U.S',\n",
       " 'Philippines:Economic growth and development',\n",
       " 'Philippines:Maritime territorial dispute with China',\n",
       " 'Philippines:President',\n",
       " 'Philippines:President Obama&apos;s visit',\n",
       " 'Philippines:Relations with U.S',\n",
       " 'Philippines:Security cooperation with U.S',\n",
       " 'Philippines:Trade with U.S',\n",
       " 'Philippines:U.S. assistance',\n",
       " 'Russia:International diplomatic efforts',\n",
       " 'Russia:President',\n",
       " 'Russia:Relations with Ukraine',\n",
       " 'Syria:Civil war and sectarian conflict',\n",
       " 'Trans-Pacific Partnership (TPP)',\n",
       " 'Ukraine:Democracy efforts',\n",
       " 'Ukraine:Political unrest and violence',\n",
       " 'Ukraine:Russia, role',\n",
       " 'Veterans Affairs, Department of:Funding',\n",
       " 'Veterans Affairs, Department of:Secretary',\n",
       " 'Veterans:Access to health and medical care',\n",
       " 'Veterans:Benefits']"
      ]
     },
     "execution_count": 441,
     "metadata": {},
     "output_type": "execute_result"
    }
   ],
   "source": [
    "topics(news_obama)"
   ]
  },
  {
   "cell_type": "code",
   "execution_count": 442,
   "metadata": {},
   "outputs": [
    {
     "data": {
      "text/plain": [
       "[['Arkansas',\n",
       "  'Arms and munitions',\n",
       "  'Asia',\n",
       "  'Asia',\n",
       "  'Asia',\n",
       "  'Asia',\n",
       "  'Australia',\n",
       "  'China',\n",
       "  'China',\n",
       "  'Commerce, Department of',\n",
       "  'Commerce, international',\n",
       "  'Communications',\n",
       "  'Environment',\n",
       "  'Foreign policy, U.S',\n",
       "  'Homeland Security, Department of',\n",
       "  'Malaysia',\n",
       "  'Natural disasters',\n",
       "  'Philippinese',\n",
       "  'Philippines',\n",
       "  'Philippines',\n",
       "  'Philippines',\n",
       "  'Philippines',\n",
       "  'Philippines',\n",
       "  'Philippines',\n",
       "  'Philippines',\n",
       "  'Philippines',\n",
       "  'Russia',\n",
       "  'Russia',\n",
       "  'Russia',\n",
       "  'Syria',\n",
       "  'Trans-Pacific Partnership (TPP)',\n",
       "  'Ukraine',\n",
       "  'Ukraine',\n",
       "  'Ukraine',\n",
       "  'Veterans Affairs, Department of',\n",
       "  'Veterans Affairs, Department of',\n",
       "  'Veterans',\n",
       "  'Veterans'],\n",
       " ['Tornadoes, damage and recovery efforts',\n",
       "  'Chemical and biological weapons',\n",
       "  'Association of Southeast Asian Nations (ASEAN)',\n",
       "  'East Asia Summit',\n",
       "  'Relations with U.S',\n",
       "  'South China Sea, maritime territorial disputes',\n",
       "  'Defense relationship with U.S',\n",
       "  'Economic growth and development',\n",
       "  'Relations with U.S',\n",
       "  'Secretary',\n",
       "  'Group of Seven (G-7) nations',\n",
       "  'News media, Presidential interviews',\n",
       "  'Climate change',\n",
       "  'Diplomatic efforts, expansion',\n",
       "  'Emergency Management Agency, Federal',\n",
       "  'Relations with U.S',\n",
       "  'Central Arkansas, tornadoes',\n",
       "  'Security cooperation with U.S',\n",
       "  'Economic growth and development',\n",
       "  'Maritime territorial dispute with China',\n",
       "  'President',\n",
       "  'President Obama&apos;s visit',\n",
       "  'Relations with U.S',\n",
       "  'Security cooperation with U.S',\n",
       "  'Trade with U.S',\n",
       "  'U.S. assistance',\n",
       "  'International diplomatic efforts',\n",
       "  'President',\n",
       "  'Relations with Ukraine',\n",
       "  'Civil war and sectarian conflict',\n",
       "  '',\n",
       "  'Democracy efforts',\n",
       "  'Political unrest and violence',\n",
       "  'Russia, role',\n",
       "  'Funding',\n",
       "  'Secretary',\n",
       "  'Access to health and medical care',\n",
       "  'Benefits']]"
      ]
     },
     "execution_count": 442,
     "metadata": {},
     "output_type": "execute_result"
    }
   ],
   "source": [
    "topic_levels(news_obama)"
   ]
  },
  {
   "cell_type": "code",
   "execution_count": 443,
   "metadata": {},
   "outputs": [
    {
     "data": {
      "text/plain": [
       "['Aquino, Benigno S., III',\n",
       " 'Pritzker, Penny S.',\n",
       " 'Putin, Vladimir Vladimirovich',\n",
       " 'Shinseki, Eric K.']"
      ]
     },
     "execution_count": 443,
     "metadata": {},
     "output_type": "execute_result"
    }
   ],
   "source": [
    "people(news_obama)"
   ]
  },
  {
   "cell_type": "code",
   "execution_count": 444,
   "metadata": {},
   "outputs": [
    {
     "data": {
      "text/plain": [
       "'<?xml version=\"1.0\" encoding=\"UTF-8\"?><mods xmlns:xlink=\"http://www.w3.org/1999/xlink\" xmlns:exslt=\"http://exslt.org/common\" xmlns:xsi=\"http://www.w3.org/2001/XMLSchema-instance\" xmlns=\"http://www.loc.gov/mods/v3\" version=\"3.3\" xsi:schemaLocation=\"http://www.loc.gov/mods/v3 http://www.loc.gov/standards/mods/v3/mods-3-3.xsd\" ID=\"id-WCPD-2006-06-12-Pg1105\">\\n<name type=\"corporate\">\\n<namePart>United States Government Publishing Office</namePart>\\n<role>\\n<roleTerm authority=\"marcrelator\" type=\"text\">publisher</roleTerm>\\n<roleTerm authority=\"marcrelator\" type=\"code\">pbl</roleTerm>\\n</role>\\n<role>\\n<roleTerm authority=\"marcrelator\" type=\"text\">distributor</roleTerm>\\n<roleTerm authority=\"marcrelator\" type=\"code\">dst</roleTerm>\\n</role>\\n</name>\\n<name type=\"corporate\">\\n<namePart>United States</namePart>\\n<namePart>National Archives and Records Administration</namePart>\\n<namePart>Office of the Federal Register</namePart>\\n<role>\\n<roleTerm authority=\"marcrelator\" type=\"text\">author</roleTerm>\\n<roleTerm authority=\"marcrelator\" type=\"code\">aut</roleTerm>\\n</role>\\n<description>Government Organization</description>\\n</name>\\n<name type=\"corporate\">\\n<namePart>United States</namePart>\\n<namePart>Executive Office of the President</namePart>\\n<role>\\n<roleTerm authority=\"marcrelator\" type=\"text\">author</roleTerm>\\n<roleTerm authority=\"marcrelator\" type=\"code\">aut</roleTerm>\\n</role>\\n<description>United States Government Agency</description>\\n</name>\\n<typeOfResource>text</typeOfResource>\\n<genre authority=\"marcgt\">government publication</genre>\\n<language>\\n<languageTerm type=\"code\" authority=\"iso639-2b\">eng</languageTerm>\\n</language>\\n<extension>\\n<collectionCode>WCPD</collectionCode>\\n<category>Budget and Presidential Materials</category>\\n<waisDatabaseName>2006_presidential_documents</waisDatabaseName>\\n<branch>executive</branch>\\n<dateIngested>2010-08-03</dateIngested>\\n</extension>\\n<name type=\"personal\">\\n<namePart>George W. Bush</namePart>\\n<role>\\n<roleTerm authority=\"marcrelator\" type=\"text\">author</roleTerm>\\n<roleTerm authority=\"marcrelator\" type=\"code\">aut</roleTerm>\\n</role>\\n<description>President of the United States</description>\\n</name>\\n<genre authority=\"marcgt\">article</genre>\\n<titleInfo>\\n<title>The President\\'s News Conference With Prime Minister Anders Fogh Rasmussen of Denmark in Camp David, Maryland</title>\\n</titleInfo>\\n<relatedItem type=\"otherFormat\" xlink:href=\"https://www.gpo.gov/fdsys/pkg/WCPD-2006-06-12/html/WCPD-2006-06-12-Pg1105.htm\">\\n<identifier type=\"FDsys Unique ID\">D09002ee1959d9ad3</identifier>\\n</relatedItem>\\n<relatedItem type=\"otherFormat\" xlink:href=\"https://www.gpo.gov/fdsys/pkg/WCPD-2006-06-12/pdf/WCPD-2006-06-12-Pg1105.pdf\">\\n<identifier type=\"FDsys Unique ID\">D09002ee1959d9b04</identifier>\\n</relatedItem>\\n<identifier type=\"WCPD citation\">42 WCPD 1105</identifier>\\n<identifier type=\"uri\">https://www.gpo.gov/fdsys/granule/WCPD-2006-06-12/WCPD-2006-06-12-Pg1105</identifier>\\n<identifier type=\"former granule identifier\">pd12jn06_txt-23</identifier>\\n<location>\\n<url displayLabel=\"Content Detail\" access=\"object in context\">https://www.gpo.gov/fdsys/granule/WCPD-2006-06-12/WCPD-2006-06-12-Pg1105/content-detail.html</url>\\n<url access=\"raw object\" displayLabel=\"PDF rendition\">https://www.gpo.gov/fdsys/pkg/WCPD-2006-06-12/pdf/WCPD-2006-06-12-Pg1105.pdf</url>\\n<url access=\"raw object\" displayLabel=\"HTML rendition\">https://www.gpo.gov/fdsys/pkg/WCPD-2006-06-12/html/WCPD-2006-06-12-Pg1105.htm</url>\\n</location>\\n<subject>\\n<topic>Interviews With the News Media</topic>\\n</subject>\\n<physicalDescription>\\n<extent>8 p.</extent>\\n</physicalDescription>\\n<part type=\"article\">\\n<extent unit=\"pages\">\\n<start>1105</start>\\n<end>1112</end>\\n</extent>\\n</part>\\n<identifier type=\"preferred citation\">42 WCPD 1105</identifier>\\n<extension>\\n<searchTitle>The President\\'s News Conference With Prime Minister Anders Fogh Rasmussen of Denmark in Camp David, Maryland; Weekly Compilation of Presidential Documents Vol. 42, No. 23</searchTitle>\\n<granuleClass>PRESDOCU</granuleClass>\\n<accessId>WCPD-2006-06-12-Pg1105</accessId>\\n<eventDate>2006-06-09</eventDate>\\n<president id=\"GWB\" party=\"R\">\\n                        <name type=\"authority-lnf\">Bush, George W.</name>\\n                        <name type=\"authority-fnf\">George W. Bush</name>\\n                        <name type=\"authority-other\">George Bush</name>\\n                        <name type=\"authority-other\">George Walker Bush</name>\\n                    </president>\\n<category1>Interviews With the News Media</category1>\\n<notes>The President\\'s news conference began at 10:43 a.m. In his remarks, he referred to Anne-Mette Rasmussen, wife of Prime Minister Rasmussen; Prime Minister Nuri al-Maliki, Minister of the Interior Jawad al-Bolani, Defense Minister Abdel Qadir Muhammed Jassim, and former President Saddam Hussein of Iraq; President Hamid Karzai of Afghanistan; senior Al Qaida associate Abu Musab Al Zarqawi, who was killed in Baquba, Iraq, on June 7; Usama bin Laden, leader of the Al Qaida terrorist organization; Gen. George W. Casey, Jr., USA, commanding general, Multi-National Force--Iraq; Lt. Gen. Stanley A. McChrystal, USA, commander, Joint Special Operations Command, U.S. Central Command Forward, U.S. Special Operations Command; Gen. John P. Abizaid, USA, combatant commander, U.S. Central Command; U.S. Ambassador to Iraq Zalmay Khalilzad; and Iraq\\'s Ambassador to the U.S. Samir Shakir al- Sumaydi.</notes>\\n</extension>\\n<relatedItem type=\"host\" ID=\"P0b002ee1802d8576\">\\n<titleInfo>\\n<title>Weekly Compilation of Presidential Documents</title>\\n<partNumber>Vol. 42, no. 23</partNumber>\\n</titleInfo>\\n<originInfo>\\n<publisher>Office of the Federal Register, National Archives and Records Administration</publisher>\\n<dateIssued encoding=\"w3cdtf\">2006-06-12</dateIssued>\\n<issuance>continuing</issuance>\\n<frequency>weekly</frequency>\\n</originInfo>\\n<physicalDescription>\\n<note type=\"source content type\">deposited</note>\\n<digitalOrigin>born digital</digitalOrigin>\\n<extent>48 p.</extent>\\n</physicalDescription>\\n<classification authority=\"sudocs\">AE 2.109:</classification>\\n<classification authority=\"sudocs\">GS 4.114:</classification>\\n<identifier type=\"local\">P0b002ee1802d8576</identifier>\\n<identifier type=\"uri\">https://www.gpo.gov/fdsys/pkg/WCPD-2006-06-12</identifier>\\n<identifier type=\"ILS system id\">000599742</identifier>\\n<identifier type=\"former package identifier\">pd12jn06_txt</identifier>\\n<identifier type=\"preferred citation\">42 WCPD 1073</identifier>\\n<location>\\n<url displayLabel=\"Content Detail\" access=\"object in context\">https://www.gpo.gov/fdsys/pkg/WCPD-2006-06-12/content-detail.html</url>\\n<url displayLabel=\"PDF rendition\" access=\"raw object\">https://www.gpo.gov/fdsys/pkg/WCPD-2006-06-12/pdf/WCPD-2006-06-12.pdf</url>\\n</location>\\n<accessCondition type=\"GPO scope determination\">fdlp</accessCondition>\\n<part type=\"issue\">\\n<extent unit=\"pages\">\\n<start>1073</start>\\n<end>1115</end>\\n</extent>\\n</part>\\n<recordInfo>\\n<recordContentSource authority=\"marcorg\">DGPO</recordContentSource>\\n<recordCreationDate encoding=\"w3cdtf\">2010-08-03</recordCreationDate>\\n<recordChangeDate encoding=\"w3cdtf\">2017-07-18</recordChangeDate>\\n<recordIdentifier source=\"DGPO\">WCPD-2006-06-12</recordIdentifier>\\n<recordOrigin>machine generated</recordOrigin>\\n<languageOfCataloging>\\n<languageTerm type=\"code\" authority=\"iso639-2b\">eng</languageTerm>\\n</languageOfCataloging>\\n</recordInfo>\\n<extension>\\n<docClass>WCPD</docClass>\\n<accessId>WCPD-2006-06-12</accessId>\\n<weekEndingDate>2006-06-09</weekEndingDate>\\n<volume>42</volume>\\n<issue>23</issue>\\n</extension>\\n</relatedItem>\\n</mods>\\n'"
      ]
     },
     "execution_count": 444,
     "metadata": {},
     "output_type": "execute_result"
    }
   ],
   "source": [
    "test_file7 = './file/newsbush.xml'\n",
    "with open(test_file7, 'r') as f:\n",
    "    news_bush = f.read()\n",
    "news_bush"
   ]
  },
  {
   "cell_type": "code",
   "execution_count": 445,
   "metadata": {},
   "outputs": [
    {
     "data": {
      "text/plain": [
       "'George W. Bush'"
      ]
     },
     "execution_count": 445,
     "metadata": {},
     "output_type": "execute_result"
    }
   ],
   "source": [
    "president(news_bush)"
   ]
  },
  {
   "cell_type": "code",
   "execution_count": 454,
   "metadata": {},
   "outputs": [
    {
     "data": {
      "text/plain": [
       "'Republican'"
      ]
     },
     "execution_count": 454,
     "metadata": {},
     "output_type": "execute_result"
    }
   ],
   "source": [
    "party(news_bush)"
   ]
  },
  {
   "cell_type": "code",
   "execution_count": 447,
   "metadata": {},
   "outputs": [
    {
     "data": {
      "text/plain": [
       "'2006-06-12'"
      ]
     },
     "execution_count": 447,
     "metadata": {},
     "output_type": "execute_result"
    }
   ],
   "source": [
    "date(news_bush)"
   ]
  },
  {
   "cell_type": "code",
   "execution_count": 448,
   "metadata": {},
   "outputs": [
    {
     "name": "stdout",
     "output_type": "stream",
     "text": [
      "2006 06 12\n"
     ]
    }
   ],
   "source": [
    "print(year(news_bush), month(news_bush), day(news_bush))"
   ]
  },
  {
   "cell_type": "code",
   "execution_count": 449,
   "metadata": {},
   "outputs": [
    {
     "data": {
      "text/plain": [
       "\"The President's news conference began at 10:43 a.m. In his remarks, he referred to Anne-Mette Rasmussen, wife of Prime Minister Rasmussen; Prime Minister Nuri al-Maliki, Minister of the Interior Jawad al-Bolani, Defense Minister Abdel Qadir Muhammed Jassim, and former President Saddam Hussein of Iraq; President Hamid Karzai of Afghanistan; senior Al Qaida associate Abu Musab Al Zarqawi, who was killed in Baquba, Iraq, on June 7; Usama bin Laden, leader of the Al Qaida terrorist organization; Gen. George W. Casey, Jr., USA, commanding general, Multi-National Force--Iraq; Lt. Gen. Stanley A. McChrystal, USA, commander, Joint Special Operations Command, U.S. Central Command Forward, U.S. Special Operations Command; Gen. John P. Abizaid, USA, combatant commander, U.S. Central Command; U.S. Ambassador to Iraq Zalmay Khalilzad; and Iraq's Ambassador to the U.S. Samir Shakir al- Sumaydi.\""
      ]
     },
     "execution_count": 449,
     "metadata": {},
     "output_type": "execute_result"
    }
   ],
   "source": [
    "notes(news_bush)"
   ]
  },
  {
   "cell_type": "code",
   "execution_count": 450,
   "metadata": {},
   "outputs": [
    {
     "data": {
      "text/plain": [
       "['Interviews With the News Media']"
      ]
     },
     "execution_count": 450,
     "metadata": {},
     "output_type": "execute_result"
    }
   ],
   "source": [
    "topics(news_bush)"
   ]
  },
  {
   "cell_type": "code",
   "execution_count": 451,
   "metadata": {},
   "outputs": [
    {
     "data": {
      "text/plain": [
       "['Interviews With the News Media']"
      ]
     },
     "execution_count": 451,
     "metadata": {},
     "output_type": "execute_result"
    }
   ],
   "source": [
    "topic_levels(news_bush)"
   ]
  },
  {
   "cell_type": "code",
   "execution_count": 452,
   "metadata": {},
   "outputs": [
    {
     "data": {
      "text/plain": [
       "\"The President's News Conference With Prime Minister Anders Fogh Rasmussen of Denmark in Camp David, Maryland\""
      ]
     },
     "execution_count": 452,
     "metadata": {},
     "output_type": "execute_result"
    }
   ],
   "source": [
    "title(news_bush)"
   ]
  },
  {
   "cell_type": "code",
   "execution_count": 453,
   "metadata": {
    "collapsed": true
   },
   "outputs": [],
   "source": [
    "people(news_bush)"
   ]
  },
  {
   "cell_type": "code",
   "execution_count": 388,
   "metadata": {},
   "outputs": [
    {
     "data": {
      "text/plain": [
       "'<?xml version=\"1.0\" encoding=\"UTF-8\"?><mods xmlns:xlink=\"http://www.w3.org/1999/xlink\" xmlns:exslt=\"http://exslt.org/common\" xmlns:xsi=\"http://www.w3.org/2001/XMLSchema-instance\" xmlns=\"http://www.loc.gov/mods/v3\" version=\"3.3\" xsi:schemaLocation=\"http://www.loc.gov/mods/v3 http://www.loc.gov/standards/mods/v3/mods-3-3.xsd\" ID=\"id-WCPD-1998-09-07-Pg1686\">\\n<name type=\"corporate\">\\n<namePart>United States Government Publishing Office</namePart>\\n<role>\\n<roleTerm authority=\"marcrelator\" type=\"text\">publisher</roleTerm>\\n<roleTerm authority=\"marcrelator\" type=\"code\">pbl</roleTerm>\\n</role>\\n<role>\\n<roleTerm authority=\"marcrelator\" type=\"text\">distributor</roleTerm>\\n<roleTerm authority=\"marcrelator\" type=\"code\">dst</roleTerm>\\n</role>\\n</name>\\n<name type=\"corporate\">\\n<namePart>United States</namePart>\\n<namePart>National Archives and Records Administration</namePart>\\n<namePart>Office of the Federal Register</namePart>\\n<role>\\n<roleTerm authority=\"marcrelator\" type=\"text\">author</roleTerm>\\n<roleTerm authority=\"marcrelator\" type=\"code\">aut</roleTerm>\\n</role>\\n<description>Government Organization</description>\\n</name>\\n<name type=\"corporate\">\\n<namePart>United States</namePart>\\n<namePart>Executive Office of the President</namePart>\\n<role>\\n<roleTerm authority=\"marcrelator\" type=\"text\">author</roleTerm>\\n<roleTerm authority=\"marcrelator\" type=\"code\">aut</roleTerm>\\n</role>\\n<description>United States Government Agency</description>\\n</name>\\n<typeOfResource>text</typeOfResource>\\n<genre authority=\"marcgt\">government publication</genre>\\n<language>\\n<languageTerm type=\"code\" authority=\"iso639-2b\">eng</languageTerm>\\n</language>\\n<extension>\\n<collectionCode>WCPD</collectionCode>\\n<category>Budget and Presidential Materials</category>\\n<waisDatabaseName>1998_presidential_documents</waisDatabaseName>\\n<branch>executive</branch>\\n<dateIngested>2010-08-03</dateIngested>\\n</extension>\\n<name type=\"personal\">\\n<namePart>William J. Clinton</namePart>\\n<role>\\n<roleTerm authority=\"marcrelator\" type=\"text\">author</roleTerm>\\n<roleTerm authority=\"marcrelator\" type=\"code\">aut</roleTerm>\\n</role>\\n<description>President of the United States</description>\\n</name>\\n<genre authority=\"marcgt\">article</genre>\\n<titleInfo>\\n<title>The President\\'s News Conference With President Boris Yeltsin of Russia in Moscow</title>\\n</titleInfo>\\n<relatedItem type=\"otherFormat\" xlink:href=\"https://www.gpo.gov/fdsys/pkg/WCPD-1998-09-07/html/WCPD-1998-09-07-Pg1686.htm\">\\n<identifier type=\"FDsys Unique ID\">D09002ee195a0b286</identifier>\\n</relatedItem>\\n<relatedItem type=\"otherFormat\" xlink:href=\"https://www.gpo.gov/fdsys/pkg/WCPD-1998-09-07/pdf/WCPD-1998-09-07-Pg1686.pdf\">\\n<identifier type=\"FDsys Unique ID\">D09002ee195a0b314</identifier>\\n</relatedItem>\\n<identifier type=\"WCPD citation\">34 WCPD 1686</identifier>\\n<identifier type=\"uri\">https://www.gpo.gov/fdsys/granule/WCPD-1998-09-07/WCPD-1998-09-07-Pg1686</identifier>\\n<identifier type=\"former granule identifier\">pd07se98_txt-13</identifier>\\n<location>\\n<url displayLabel=\"Content Detail\" access=\"object in context\">https://www.gpo.gov/fdsys/granule/WCPD-1998-09-07/WCPD-1998-09-07-Pg1686/content-detail.html</url>\\n<url access=\"raw object\" displayLabel=\"PDF rendition\">https://www.gpo.gov/fdsys/pkg/WCPD-1998-09-07/pdf/WCPD-1998-09-07-Pg1686.pdf</url>\\n<url access=\"raw object\" displayLabel=\"HTML rendition\">https://www.gpo.gov/fdsys/pkg/WCPD-1998-09-07/html/WCPD-1998-09-07-Pg1686.htm</url>\\n</location>\\n<subject>\\n<topic>Interviews With the News Media</topic>\\n</subject>\\n<physicalDescription>\\n<extent>8 p.</extent>\\n</physicalDescription>\\n<part type=\"article\">\\n<extent unit=\"pages\">\\n<start>1686</start>\\n<end>1693</end>\\n</extent>\\n</part>\\n<identifier type=\"preferred citation\">34 WCPD 1686</identifier>\\n<extension>\\n<searchTitle>The President\\'s News Conference With President Boris Yeltsin of Russia in Moscow; Weekly Compilation of Presidential Documents Vol. 34, No. 36</searchTitle>\\n<granuleClass>PRESDOCU</granuleClass>\\n<accessId>WCPD-1998-09-07-Pg1686</accessId>\\n<eventDate>1998-09-02</eventDate>\\n<president id=\"WJC\" party=\"D\">\\n                        <name type=\"authority-lnf\">Clinton, William J.</name>\\n                        <name type=\"authority-fnf\">William J. Clinton</name>\\n                        <name type=\"authority-other\">Bill Clinton</name>\\n                        <name type=\"authority-other\">William Clinton</name>\\n                        <name type=\"authority-other\">William Jefferson Clinton</name>\\n                    </president>\\n<category1>Interviews With the News Media</category1>\\n<notes>The President\\'s 163d news conference began at 1:17 p.m. in the Catherine Hall at the Kremlin. President Yeltsin spoke in Russian, and his remarks were translated by an interpreter. In their remarks, the Presidents referred to Finance Minister Kiichi Miyazawa of Japan; Prime Minister-designate Viktor Chernomyrdin of Russia; and the Organization on Security and Cooperation in Europe (OSCE). A tape was not available for verification of the translation of President Yeltsin\\'s remarks.</notes>\\n</extension>\\n<relatedItem type=\"host\" ID=\"P0b002ee1802d0339\">\\n<titleInfo>\\n<title>Weekly Compilation of Presidential Documents</title>\\n<partNumber>Vol. 34, no. 36</partNumber>\\n</titleInfo>\\n<originInfo>\\n<publisher>Office of the Federal Register, National Archives and Records Administration</publisher>\\n<dateIssued encoding=\"w3cdtf\">1998-09-07</dateIssued>\\n<issuance>continuing</issuance>\\n<frequency>weekly</frequency>\\n</originInfo>\\n<physicalDescription>\\n<note type=\"source content type\">deposited</note>\\n<digitalOrigin>born digital</digitalOrigin>\\n<extent>67 p.</extent>\\n</physicalDescription>\\n<classification authority=\"sudocs\">AE 2.109:</classification>\\n<classification authority=\"sudocs\">GS 4.114:</classification>\\n<identifier type=\"local\">P0b002ee1802d0339</identifier>\\n<identifier type=\"uri\">https://www.gpo.gov/fdsys/pkg/WCPD-1998-09-07</identifier>\\n<identifier type=\"ILS system id\">000599742</identifier>\\n<identifier type=\"former package identifier\">pd07se98_txt</identifier>\\n<identifier type=\"preferred citation\">34 WCPD 1667</identifier>\\n<location>\\n<url displayLabel=\"Content Detail\" access=\"object in context\">https://www.gpo.gov/fdsys/pkg/WCPD-1998-09-07/content-detail.html</url>\\n<url displayLabel=\"PDF rendition\" access=\"raw object\">https://www.gpo.gov/fdsys/pkg/WCPD-1998-09-07/pdf/WCPD-1998-09-07.pdf</url>\\n</location>\\n<accessCondition type=\"GPO scope determination\">fdlp</accessCondition>\\n<part type=\"issue\">\\n<extent unit=\"pages\">\\n<start>1667</start>\\n<end>1730</end>\\n</extent>\\n</part>\\n<recordInfo>\\n<recordContentSource authority=\"marcorg\">DGPO</recordContentSource>\\n<recordCreationDate encoding=\"w3cdtf\">2010-08-03</recordCreationDate>\\n<recordChangeDate encoding=\"w3cdtf\">2017-07-18</recordChangeDate>\\n<recordIdentifier source=\"DGPO\">WCPD-1998-09-07</recordIdentifier>\\n<recordOrigin>machine generated</recordOrigin>\\n<languageOfCataloging>\\n<languageTerm type=\"code\" authority=\"iso639-2b\">eng</languageTerm>\\n</languageOfCataloging>\\n</recordInfo>\\n<extension>\\n<docClass>WCPD</docClass>\\n<accessId>WCPD-1998-09-07</accessId>\\n<weekEndingDate>1998-09-04</weekEndingDate>\\n<volume>34</volume>\\n<issue>36</issue>\\n</extension>\\n</relatedItem>\\n</mods>\\n'"
      ]
     },
     "execution_count": 388,
     "metadata": {},
     "output_type": "execute_result"
    }
   ],
   "source": [
    "test_file8 = './file/newsclinton.xml'\n",
    "with open(test_file8, 'r') as f:\n",
    "    news_clinton = f.read()\n",
    "news_clinton"
   ]
  },
  {
   "cell_type": "code",
   "execution_count": 455,
   "metadata": {},
   "outputs": [
    {
     "data": {
      "text/plain": [
       "'William J. Clinton'"
      ]
     },
     "execution_count": 455,
     "metadata": {},
     "output_type": "execute_result"
    }
   ],
   "source": [
    "president(news_clinton)"
   ]
  },
  {
   "cell_type": "code",
   "execution_count": 456,
   "metadata": {},
   "outputs": [
    {
     "data": {
      "text/plain": [
       "'1998-09-07'"
      ]
     },
     "execution_count": 456,
     "metadata": {},
     "output_type": "execute_result"
    }
   ],
   "source": [
    "date(news_clinton)"
   ]
  },
  {
   "cell_type": "code",
   "execution_count": 457,
   "metadata": {},
   "outputs": [
    {
     "name": "stdout",
     "output_type": "stream",
     "text": [
      "1998 09 07\n"
     ]
    }
   ],
   "source": [
    "print(year(news_clinton), month(news_clinton), day(news_clinton))"
   ]
  },
  {
   "cell_type": "code",
   "execution_count": 458,
   "metadata": {},
   "outputs": [
    {
     "data": {
      "text/plain": [
       "\"The President's 163d news conference began at 1:17 p.m. in the Catherine Hall at the Kremlin. President Yeltsin spoke in Russian, and his remarks were translated by an interpreter. In their remarks, the Presidents referred to Finance Minister Kiichi Miyazawa of Japan; Prime Minister-designate Viktor Chernomyrdin of Russia; and the Organization on Security and Cooperation in Europe (OSCE). A tape was not available for verification of the translation of President Yeltsin's remarks.\""
      ]
     },
     "execution_count": 458,
     "metadata": {},
     "output_type": "execute_result"
    }
   ],
   "source": [
    "notes(news_clinton)"
   ]
  },
  {
   "cell_type": "code",
   "execution_count": 459,
   "metadata": {
    "collapsed": true
   },
   "outputs": [],
   "source": [
    "people(news_clinton)"
   ]
  },
  {
   "cell_type": "code",
   "execution_count": 460,
   "metadata": {},
   "outputs": [
    {
     "data": {
      "text/plain": [
       "['Interviews With the News Media']"
      ]
     },
     "execution_count": 460,
     "metadata": {},
     "output_type": "execute_result"
    }
   ],
   "source": [
    "topics(news_clinton)"
   ]
  },
  {
   "cell_type": "code",
   "execution_count": 461,
   "metadata": {},
   "outputs": [
    {
     "data": {
      "text/plain": [
       "['Interviews With the News Media']"
      ]
     },
     "execution_count": 461,
     "metadata": {},
     "output_type": "execute_result"
    }
   ],
   "source": [
    "topic_levels(news_clinton)"
   ]
  },
  {
   "cell_type": "code",
   "execution_count": 462,
   "metadata": {},
   "outputs": [
    {
     "data": {
      "text/plain": [
       "\"The President's News Conference With President Boris Yeltsin of Russia in Moscow\""
      ]
     },
     "execution_count": 462,
     "metadata": {},
     "output_type": "execute_result"
    }
   ],
   "source": [
    "title(news_clinton)"
   ]
  },
  {
   "cell_type": "code",
   "execution_count": null,
   "metadata": {
    "collapsed": true
   },
   "outputs": [],
   "source": [
    "#Problems:\n",
    "#Fix Date function\n",
    "#Figure out a way to select the job title of the people mentioned\n",
    "#Clinton and Bush name people only in notes and have no people listed"
   ]
  }
 ],
 "metadata": {
  "kernelspec": {
   "display_name": "Python 3",
   "language": "python",
   "name": "python3"
  },
  "language_info": {
   "codemirror_mode": {
    "name": "ipython",
    "version": 3
   },
   "file_extension": ".py",
   "mimetype": "text/x-python",
   "name": "python",
   "nbconvert_exporter": "python",
   "pygments_lexer": "ipython3",
   "version": "3.6.1"
  }
 },
 "nbformat": 4,
 "nbformat_minor": 2
}
